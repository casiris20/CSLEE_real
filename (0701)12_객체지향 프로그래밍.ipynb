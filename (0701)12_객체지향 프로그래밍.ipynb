{
 "cells": [
  {
   "cell_type": "markdown",
   "metadata": {},
   "source": []
  },
  {
   "cell_type": "code",
   "execution_count": 10,
   "metadata": {},
   "outputs": [],
   "source": [
    "def getMean(a,b,c,d) : \n",
    "    mean = 0\n",
    "    total = 0\n",
    "    list1 = [a,b,c,d]\n",
    "    \n",
    "    for tmp in list1:\n",
    "        total = total + tmp\n",
    "        print(total)\n",
    "    print(total)\n",
    "    \n",
    "    mean = total / len(list1)\n",
    "    return mean"
   ]
  },
  {
   "cell_type": "code",
   "execution_count": 12,
   "metadata": {},
   "outputs": [
    {
     "name": "stdout",
     "output_type": "stream",
     "text": [
      "1\n",
      "3\n",
      "6\n",
      "10\n",
      "10\n"
     ]
    },
    {
     "data": {
      "text/plain": [
       "2.5"
      ]
     },
     "execution_count": 12,
     "metadata": {},
     "output_type": "execute_result"
    }
   ],
   "source": [
    "getMean(1,2,3,4)"
   ]
  },
  {
   "cell_type": "markdown",
   "metadata": {},
   "source": [
    "## class (객체지향 프로그래밍)"
   ]
  },
  {
   "cell_type": "code",
   "execution_count": 43,
   "metadata": {},
   "outputs": [],
   "source": [
    "# 자전거 class 선언하기\n",
    "\n",
    "class Bicycle():\n",
    "    \n",
    "    def move(self, speed):  # 어떤 속도로?\n",
    "         print(\"자전거 : 시속 {0}킬로미터로 전진\".format(speed))\n",
    "            \n",
    "    def turn(self, direction):  # 어떤 속도로?\n",
    "         print(\"자전거 :  {0} 회전\".format(direction))\n",
    "    \n",
    "    def stop(self):  # 어떤 속도로?\n",
    "         print(\"자전거({0},{1}) : 정지\".format(self.wheelsize, self.color))\n",
    "    \n",
    "    pass"
   ]
  },
  {
   "cell_type": "code",
   "execution_count": 44,
   "metadata": {},
   "outputs": [],
   "source": [
    "# '나의 자전거 ' 인스턴스 생성하기  / 클래스에 자전거 xxx!!\n",
    "my_bicycle = Bicycle()\n",
    "my_bicycle.wheelsize = 26 # 나의 자전거의 바퀴 크기는 26이야\n",
    "my_bicycle.color = 'black' # 나의 자전거는 검정색이야."
   ]
  },
  {
   "cell_type": "code",
   "execution_count": 45,
   "metadata": {},
   "outputs": [
    {
     "name": "stdout",
     "output_type": "stream",
     "text": [
      "바퀴 크기: 26\n",
      "색상: black\n"
     ]
    }
   ],
   "source": [
    "print(\"바퀴 크기:\", my_bicycle.wheelsize)\n",
    "print(\"색상:\", my_bicycle.color)"
   ]
  },
  {
   "cell_type": "code",
   "execution_count": 46,
   "metadata": {},
   "outputs": [
    {
     "name": "stdout",
     "output_type": "stream",
     "text": [
      "자전거 : 시속 60킬로미터로 전진\n"
     ]
    }
   ],
   "source": [
    "my_bicycle.move(60)"
   ]
  },
  {
   "cell_type": "code",
   "execution_count": 47,
   "metadata": {},
   "outputs": [
    {
     "name": "stdout",
     "output_type": "stream",
     "text": [
      "자전거 :  좌 회전\n"
     ]
    }
   ],
   "source": [
    "my_bicycle.turn('좌')"
   ]
  },
  {
   "cell_type": "code",
   "execution_count": 48,
   "metadata": {},
   "outputs": [
    {
     "name": "stdout",
     "output_type": "stream",
     "text": [
      "자전거(26,black) : 정지\n"
     ]
    }
   ],
   "source": [
    "my_bicycle.stop()"
   ]
  },
  {
   "cell_type": "code",
   "execution_count": 51,
   "metadata": {},
   "outputs": [],
   "source": [
    "bicycle1 = Bicycle() # 새로운 자전거를 만들어 준다.\n",
    "bicycle1.wheelsize = 30\n",
    "bicycle1.color = 'red'"
   ]
  },
  {
   "cell_type": "code",
   "execution_count": 52,
   "metadata": {},
   "outputs": [
    {
     "name": "stdout",
     "output_type": "stream",
     "text": [
      "자전거(30,red) : 정지\n"
     ]
    }
   ],
   "source": [
    "bicycle1.stop()"
   ]
  },
  {
   "cell_type": "markdown",
   "metadata": {},
   "source": [
    "================================================"
   ]
  },
  {
   "cell_type": "code",
   "execution_count": 80,
   "metadata": {},
   "outputs": [],
   "source": [
    "# 자전거 class 선언하기\n",
    "\n",
    "class Bicycle():\n",
    "    \n",
    "    def __inint__(self, wheel_size, color): ##  168p\n",
    "        self.wheelsize = wheelsize\n",
    "        self.color = color\n",
    "    \n",
    "    def move(self, speed):  # 어떤 속도로?\n",
    "         print(\"자전거 : 시속 {0}킬로미터로 전진\".format(speed))\n",
    "            \n",
    "    def turn(self, direction):  # 어떤 속도로?\n",
    "         print(\"자전거 :  {0} 회전\".format(direction))\n",
    "    \n",
    "    def stop(self):  # 어떤 속도로?\n",
    "         print(\"자전거({0},{1}) : 정지\".format(self.wheelsize, self.color))\n",
    "    \n",
    "    pass"
   ]
  },
  {
   "cell_type": "markdown",
   "metadata": {},
   "source": [
    "## 자동차"
   ]
  },
  {
   "cell_type": "code",
   "execution_count": 81,
   "metadata": {},
   "outputs": [],
   "source": [
    "class Car() : # Car 클래스는 엄마차, 아파차, 내차 등 인스턴스를 만들 수 있다.\n",
    "    instance_count = 0   # Car라는 class의 변수  / # Car 클래스가 관리하는 데이터 값\n",
    "    \n",
    "    def __init__(self, size, color): # 시작할 때 마다  \n",
    "        self.size = size\n",
    "        self.color = color\n",
    "        \n",
    "        Car.instance_count = Car.instance_count + 1\n",
    "        print(\"자동차 객체 수 : {0}\".format(Car.instance_count))\n",
    "        \n",
    "    def move(self):   # move는 메소드이다.\n",
    "        print(\"자동차가 ({0}&{1})가 움직입니다.\".format(self.size, self.color))"
   ]
  },
  {
   "cell_type": "code",
   "execution_count": 82,
   "metadata": {},
   "outputs": [
    {
     "name": "stdout",
     "output_type": "stream",
     "text": [
      "자동차 객체 수 : 1\n"
     ]
    }
   ],
   "source": [
    "myCar = Car(\"small\", \"white\")"
   ]
  },
  {
   "cell_type": "code",
   "execution_count": 83,
   "metadata": {},
   "outputs": [
    {
     "name": "stdout",
     "output_type": "stream",
     "text": [
      "자동차 객체 수 : 2\n"
     ]
    }
   ],
   "source": [
    "momsCar = Car(\"medium\", \"black\")"
   ]
  },
  {
   "cell_type": "code",
   "execution_count": 84,
   "metadata": {},
   "outputs": [
    {
     "name": "stdout",
     "output_type": "stream",
     "text": [
      "자동차 객체 수 : 3\n"
     ]
    }
   ],
   "source": [
    "dadsCar = Car(\"big\", \"red\")"
   ]
  },
  {
   "cell_type": "code",
   "execution_count": 86,
   "metadata": {
    "scrolled": true
   },
   "outputs": [
    {
     "name": "stdout",
     "output_type": "stream",
     "text": [
      "자동차가 (small&white)가 움직입니다.\n"
     ]
    }
   ],
   "source": [
    "myCar.move()"
   ]
  },
  {
   "cell_type": "code",
   "execution_count": 107,
   "metadata": {},
   "outputs": [],
   "source": [
    "class Car2() :# Car 클래스는 엄마차, 아파차, 내차 등 인스턴스를 만들 수 있다.     #174p\n",
    "    count = 0; # Car라는 class의 변수  / # Car 클래스가 관리하는 데이터 값\n",
    "    \n",
    "    \n",
    "    def __inint__(self, size, num):# 시작할 때 마다\n",
    "        self.size = size\n",
    "        self.count = num\n",
    "        Car2.count = Car2.count + 1\n",
    "        print(\"자동차 객체의 수 : Car2.count = {0}\".format(Car2.count))\n",
    "        print(\"인스턴스 변수 초기화 : self.count = {0}\".format(self.count))\n",
    "        \n",
    "    \n",
    "    def move(self):\n",
    "        print(\"자동차({0}&{1})가 움직입니다.\".format(self.size, self.count))\n",
    "        "
   ]
  },
  {
   "cell_type": "code",
   "execution_count": 108,
   "metadata": {},
   "outputs": [
    {
     "name": "stdout",
     "output_type": "stream",
     "text": [
      "자동차가 (small&white)가 움직입니다.\n"
     ]
    }
   ],
   "source": [
    "myCar.move()"
   ]
  },
  {
   "cell_type": "code",
   "execution_count": 109,
   "metadata": {},
   "outputs": [
    {
     "ename": "TypeError",
     "evalue": "Car2() takes no arguments",
     "output_type": "error",
     "traceback": [
      "\u001b[1;31m---------------------------------------------------------------------------\u001b[0m",
      "\u001b[1;31mTypeError\u001b[0m                                 Traceback (most recent call last)",
      "\u001b[1;32m<ipython-input-109-7c9cded3fcbe>\u001b[0m in \u001b[0;36m<module>\u001b[1;34m\u001b[0m\n\u001b[1;32m----> 1\u001b[1;33m \u001b[0mmyCar\u001b[0m \u001b[1;33m=\u001b[0m \u001b[0mCar2\u001b[0m\u001b[1;33m(\u001b[0m\u001b[1;34m\"small\"\u001b[0m\u001b[1;33m,\u001b[0m \u001b[1;34m\"white\"\u001b[0m\u001b[1;33m)\u001b[0m\u001b[1;33m\u001b[0m\u001b[1;33m\u001b[0m\u001b[0m\n\u001b[0m",
      "\u001b[1;31mTypeError\u001b[0m: Car2() takes no arguments"
     ]
    }
   ],
   "source": [
    "myCar = Car2(\"small\", \"white\")"
   ]
  },
  {
   "cell_type": "code",
   "execution_count": 101,
   "metadata": {},
   "outputs": [
    {
     "ename": "IndentationError",
     "evalue": "unexpected indent (<ipython-input-101-dc6ca52d8023>, line 27)",
     "output_type": "error",
     "traceback": [
      "\u001b[1;36m  File \u001b[1;32m\"<ipython-input-101-dc6ca52d8023>\"\u001b[1;36m, line \u001b[1;32m27\u001b[0m\n\u001b[1;33m    def count_instance(cls): #cls 는 class\u001b[0m\n\u001b[1;37m    ^\u001b[0m\n\u001b[1;31mIndentationError\u001b[0m\u001b[1;31m:\u001b[0m unexpected indent\n"
     ]
    }
   ],
   "source": [
    "class Car2() :# Car 클래스는 엄마차, 아파차, 내차 등 인스턴스를 만들 수 있다.     #174p\n",
    "    count = 0 # Car라는 class의 변수  / # Car 클래스가 관리하는 데이터 값\n",
    "    \n",
    "    \n",
    "    def __inint__(self, size, num):# 시작할 때 마다\n",
    "        self.size = size\n",
    "        self.count = num\n",
    "        Car2.count = Car2.count + 1\n",
    "        print(\"자동차 객체의 수 : Car2.count = {0}\".format(Car2.count))\n",
    "        print(\"인스턴스 변수 초기화 : self.count = {0}\".format(self.count))\n",
    "        \n",
    "    \n",
    "    def move(self):\n",
    "        print(\"자동차({0}&{1})가 움직입니다.\".format(self.size, self.count))\n",
    "        \n",
    "              \n",
    "    @staticmethod\n",
    "    def check_type(model_code) : \n",
    "        if(model_code >=20):\n",
    "              print(\"이 자동차는 전기차입니다.\")\n",
    "        elif(10 <=model_code < 20) :\n",
    "              print(\"이 자동차는 가솔린차입니다.\")\n",
    "        else:\n",
    "              print(\"이 자동차는 디젤차입니다.\")\n",
    "              \n",
    "    @classmethod\n",
    "     def count_instance(cls): #cls 는 class\n",
    "        print(\"자동차 객체의 개수: {0}\",format(cls.instance_count))"
   ]
  },
  {
   "cell_type": "code",
   "execution_count": null,
   "metadata": {},
   "outputs": [],
   "source": []
  }
 ],
 "metadata": {
  "kernelspec": {
   "display_name": "Python 3",
   "language": "python",
   "name": "python3"
  },
  "language_info": {
   "codemirror_mode": {
    "name": "ipython",
    "version": 3
   },
   "file_extension": ".py",
   "mimetype": "text/x-python",
   "name": "python",
   "nbconvert_exporter": "python",
   "pygments_lexer": "ipython3",
   "version": "3.7.6"
  }
 },
 "nbformat": 4,
 "nbformat_minor": 4
}
