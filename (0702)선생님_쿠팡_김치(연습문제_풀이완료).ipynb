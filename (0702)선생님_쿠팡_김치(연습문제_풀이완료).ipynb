{
 "cells": [
  {
   "cell_type": "code",
   "execution_count": 2,
   "metadata": {},
   "outputs": [],
   "source": [
    "from bs4 import BeautifulSoup\n",
    "import csv\n",
    "import requests\n",
    "import pandas as pd"
   ]
  },
  {
   "cell_type": "code",
   "execution_count": 2,
   "metadata": {},
   "outputs": [],
   "source": [
    "headers = {'User-Agent': 'Mozilla/5.0 (Windows NT 10.0; Win64; x64) AppleWebKit/537.36 (KHTML, like Gecko) Chrome/83.0.4103.106 Safari/537.36'}"
   ]
  },
  {
   "cell_type": "code",
   "execution_count": 3,
   "metadata": {},
   "outputs": [],
   "source": [
    "product_name = '김치'\n",
    "# https://www.coupang.com/np/search?component=&q=김치&channel=user\n",
    "url = f\"https://www.coupang.com/np/search?component=&q={product_name}&channel=user\""
   ]
  },
  {
   "cell_type": "code",
   "execution_count": 4,
   "metadata": {},
   "outputs": [
    {
     "data": {
      "text/plain": [
       "<Response [200]>"
      ]
     },
     "execution_count": 4,
     "metadata": {},
     "output_type": "execute_result"
    }
   ],
   "source": [
    "# get html\n",
    "response = requests.get(url, headers = headers)\n",
    "response"
   ]
  },
  {
   "cell_type": "code",
   "execution_count": 5,
   "metadata": {},
   "outputs": [],
   "source": [
    "# BeautifulSoup을 활용하여 데이터 파싱\n",
    "soup = BeautifulSoup(response.text, \"html.parser\")\n",
    "# print(soup)"
   ]
  },
  {
   "cell_type": "code",
   "execution_count": 6,
   "metadata": {},
   "outputs": [],
   "source": [
    "#상품명\n",
    "# <div class=\"name\">비비고 썰은배추김치, 1.8kg, 1개</div>\n",
    "names = soup.findAll('div', {'class':'name'})\n",
    "\n",
    "# for item in names :\n",
    "#     print(item.text)"
   ]
  },
  {
   "cell_type": "code",
   "execution_count": 7,
   "metadata": {},
   "outputs": [],
   "source": [
    "\n",
    "# <div class=\"price\">  <span class=\"price-info\">  <span class=\"instant-discount-rate\">6%</span>   <del class=\"base-price\">14,900</del>  </span> <em class=\"sale \"> <strong class=\"price-value\">13,890</strong>원   <span class=\"badge rocket\"> <img src=\"//image6.coupangcdn.com/image/badges/falcon/v1/web/rocket-fresh@2x.png\" height=\"16\" alt=\"로켓배송\">  </span>  </em>   <span class=\"unit-price\">(<em>100</em>g당 <em>772</em>원) </span>  </div>\n",
    "# <strong class=\"price-value\">13,890</strong>원 \n",
    "prices = soup.findAll('strong', {'class':'price-value'})\n",
    "\n",
    "# for item in prices :\n",
    "#     print(item.text)"
   ]
  },
  {
   "cell_type": "code",
   "execution_count": 8,
   "metadata": {},
   "outputs": [],
   "source": [
    "name_list = []\n",
    "price_list = []"
   ]
  },
  {
   "cell_type": "code",
   "execution_count": 9,
   "metadata": {},
   "outputs": [],
   "source": [
    "# 광고 데이터(i=0일때)는 가격이 나오지 않으므로 리스트 생성 시, 제외\n",
    "i = 0\n",
    "for item in names :\n",
    "    if(i > 0) : \n",
    "        name_list.append(item.text)        \n",
    "    i = i + 1\n",
    "    \n",
    "for item in prices :\n",
    "    price_list.append(item.text)"
   ]
  },
  {
   "cell_type": "code",
   "execution_count": 10,
   "metadata": {},
   "outputs": [],
   "source": [
    "result_file_name = \"coupang_kimch.csv\"\n",
    "for k in range(len(price_list)) :\n",
    "#     print(\"*상품명 : \", name_list[k+1], \",    *가격 : \",price_list[k])\n",
    "    result = pd.DataFrame(data={'상품명' : name_list, '가격' : price_list})\n",
    "    result.to_csv(result_file_name, header = False, index = False, encoding='utf-8-sig')"
   ]
  },
  {
   "cell_type": "code",
   "execution_count": 11,
   "metadata": {},
   "outputs": [],
   "source": [
    "## (실습1) 쿠팡 케이스별로 크롤링 하는 경우\n",
    "product_name = '종가집 김치'\n",
    "page_no=1\n",
    "min_price=20000\n",
    "max_price=40000\n",
    "\n",
    "result_file_name ='쿠팡_result_2'\n",
    "\n",
    "url = f\"https://www.coupang.com/np/search?component=&q={product_name}&channel=user&page={page_no}&minPrice={min_price}&maxPrice={max_price}\""
   ]
  },
  {
   "cell_type": "markdown",
   "metadata": {},
   "source": [
    "## 연습문제\n",
    "\n",
    "- 쿠팡 웹 크롤링한 데이터를 csv 형태로 저장하기"
   ]
  },
  {
   "cell_type": "code",
   "execution_count": 7,
   "metadata": {
    "scrolled": true
   },
   "outputs": [
    {
     "data": {
      "text/html": [
       "<div>\n",
       "<style scoped>\n",
       "    .dataframe tbody tr th:only-of-type {\n",
       "        vertical-align: middle;\n",
       "    }\n",
       "\n",
       "    .dataframe tbody tr th {\n",
       "        vertical-align: top;\n",
       "    }\n",
       "\n",
       "    .dataframe thead th {\n",
       "        text-align: right;\n",
       "    }\n",
       "</style>\n",
       "<table border=\"1\" class=\"dataframe\">\n",
       "  <thead>\n",
       "    <tr style=\"text-align: right;\">\n",
       "      <th></th>\n",
       "      <th>친정김치 배추김치 5kg 10kg, 1개</th>\n",
       "      <th>19,900</th>\n",
       "    </tr>\n",
       "  </thead>\n",
       "  <tbody>\n",
       "    <tr>\n",
       "      <th>0</th>\n",
       "      <td>비비고 썰은배추김치, 1.8kg, 1개</td>\n",
       "      <td>14,110</td>\n",
       "    </tr>\n",
       "    <tr>\n",
       "      <th>1</th>\n",
       "      <td>종가집 포기김치, 4kg, 1개</td>\n",
       "      <td>24,850</td>\n",
       "    </tr>\n",
       "    <tr>\n",
       "      <th>2</th>\n",
       "      <td>곰곰 국내산 포기 김치, 4kg, 1개</td>\n",
       "      <td>19,480</td>\n",
       "    </tr>\n",
       "    <tr>\n",
       "      <th>3</th>\n",
       "      <td>맛군 30년 전통! 국내산 전라도 전통 묵은지 묵은김치, 1팩, 3kg</td>\n",
       "      <td>13,900</td>\n",
       "    </tr>\n",
       "    <tr>\n",
       "      <th>4</th>\n",
       "      <td>국내산 재료 100% 천하일미 송가네 여수 돌산 갓김치 4kg+갓물김치 1kg, 0...</td>\n",
       "      <td>39,800</td>\n",
       "    </tr>\n",
       "  </tbody>\n",
       "</table>\n",
       "</div>"
      ],
      "text/plain": [
       "                              친정김치 배추김치 5kg 10kg, 1개  19,900\n",
       "0                              비비고 썰은배추김치, 1.8kg, 1개  14,110\n",
       "1                                  종가집 포기김치, 4kg, 1개  24,850\n",
       "2                              곰곰 국내산 포기 김치, 4kg, 1개  19,480\n",
       "3            맛군 30년 전통! 국내산 전라도 전통 묵은지 묵은김치, 1팩, 3kg  13,900\n",
       "4  국내산 재료 100% 천하일미 송가네 여수 돌산 갓김치 4kg+갓물김치 1kg, 0...  39,800"
      ]
     },
     "execution_count": 7,
     "metadata": {},
     "output_type": "execute_result"
    }
   ],
   "source": [
    "df = pd.read_csv('coupang_kimch.csv')\n",
    "#df = pd.read_csv('coupang_kimch.csv', header=None, names=['prouct', 'price'])\n",
    "df.head()"
   ]
  },
  {
   "cell_type": "code",
   "execution_count": 9,
   "metadata": {},
   "outputs": [
    {
     "data": {
      "text/html": [
       "<div>\n",
       "<style scoped>\n",
       "    .dataframe tbody tr th:only-of-type {\n",
       "        vertical-align: middle;\n",
       "    }\n",
       "\n",
       "    .dataframe tbody tr th {\n",
       "        vertical-align: top;\n",
       "    }\n",
       "\n",
       "    .dataframe thead th {\n",
       "        text-align: right;\n",
       "    }\n",
       "</style>\n",
       "<table border=\"1\" class=\"dataframe\">\n",
       "  <thead>\n",
       "    <tr style=\"text-align: right;\">\n",
       "      <th></th>\n",
       "      <th>prouct</th>\n",
       "      <th>price</th>\n",
       "    </tr>\n",
       "  </thead>\n",
       "  <tbody>\n",
       "    <tr>\n",
       "      <th>0</th>\n",
       "      <td>친정김치 배추김치 5kg 10kg, 1개</td>\n",
       "      <td>19,900</td>\n",
       "    </tr>\n",
       "    <tr>\n",
       "      <th>1</th>\n",
       "      <td>비비고 썰은배추김치, 1.8kg, 1개</td>\n",
       "      <td>14,110</td>\n",
       "    </tr>\n",
       "    <tr>\n",
       "      <th>2</th>\n",
       "      <td>종가집 포기김치, 4kg, 1개</td>\n",
       "      <td>24,850</td>\n",
       "    </tr>\n",
       "    <tr>\n",
       "      <th>3</th>\n",
       "      <td>곰곰 국내산 포기 김치, 4kg, 1개</td>\n",
       "      <td>19,480</td>\n",
       "    </tr>\n",
       "    <tr>\n",
       "      <th>4</th>\n",
       "      <td>맛군 30년 전통! 국내산 전라도 전통 묵은지 묵은김치, 1팩, 3kg</td>\n",
       "      <td>13,900</td>\n",
       "    </tr>\n",
       "  </tbody>\n",
       "</table>\n",
       "</div>"
      ],
      "text/plain": [
       "                                    prouct   price\n",
       "0                   친정김치 배추김치 5kg 10kg, 1개  19,900\n",
       "1                    비비고 썰은배추김치, 1.8kg, 1개  14,110\n",
       "2                        종가집 포기김치, 4kg, 1개  24,850\n",
       "3                    곰곰 국내산 포기 김치, 4kg, 1개  19,480\n",
       "4  맛군 30년 전통! 국내산 전라도 전통 묵은지 묵은김치, 1팩, 3kg  13,900"
      ]
     },
     "execution_count": 9,
     "metadata": {},
     "output_type": "execute_result"
    }
   ],
   "source": [
    "df = pd.read_csv('coupang_kimch.csv', header=None, names=['prouct', 'price'])\n",
    "df.head()"
   ]
  },
  {
   "cell_type": "markdown",
   "metadata": {},
   "source": [
    "- 가격순으로 정렬하기"
   ]
  },
  {
   "cell_type": "code",
   "execution_count": 16,
   "metadata": {},
   "outputs": [
    {
     "data": {
      "text/plain": [
       "9     10,110\n",
       "13    10,400\n",
       "19    11,310\n",
       "8     11,800\n",
       "34    11,900\n",
       "27    12,000\n",
       "4     13,900\n",
       "1     14,110\n",
       "10    14,290\n",
       "6     14,490\n",
       "28    16,060\n",
       "20    17,000\n",
       "11    17,060\n",
       "26    18,900\n",
       "3     19,480\n",
       "29    19,900\n",
       "0     19,900\n",
       "14    20,630\n",
       "32    21,500\n",
       "17    21,900\n",
       "2     24,850\n",
       "16    27,900\n",
       "23    38,010\n",
       "30    38,300\n",
       "5     39,800\n",
       "18     7,520\n",
       "7      7,990\n",
       "15     8,400\n",
       "21     8,720\n",
       "25     8,850\n",
       "12     8,900\n",
       "24     9,000\n",
       "22     9,220\n",
       "35     9,280\n",
       "31     9,860\n",
       "33     9,900\n",
       "Name: price, dtype: object"
      ]
     },
     "execution_count": 16,
     "metadata": {},
     "output_type": "execute_result"
    }
   ],
   "source": [
    "df['price'].sort_values()"
   ]
  },
  {
   "cell_type": "markdown",
   "metadata": {},
   "source": [
    "- 가장 높은 가격의 제품명(타이틀) 찾아보기"
   ]
  },
  {
   "cell_type": "code",
   "execution_count": 19,
   "metadata": {},
   "outputs": [
    {
     "data": {
      "text/html": [
       "<div>\n",
       "<style scoped>\n",
       "    .dataframe tbody tr th:only-of-type {\n",
       "        vertical-align: middle;\n",
       "    }\n",
       "\n",
       "    .dataframe tbody tr th {\n",
       "        vertical-align: top;\n",
       "    }\n",
       "\n",
       "    .dataframe thead th {\n",
       "        text-align: right;\n",
       "    }\n",
       "</style>\n",
       "<table border=\"1\" class=\"dataframe\">\n",
       "  <thead>\n",
       "    <tr style=\"text-align: right;\">\n",
       "      <th></th>\n",
       "      <th>prouct</th>\n",
       "      <th>price</th>\n",
       "    </tr>\n",
       "  </thead>\n",
       "  <tbody>\n",
       "    <tr>\n",
       "      <th>33</th>\n",
       "      <td>장군차김치 모산 장군차 포기김치, 1.5kg, 1개</td>\n",
       "      <td>9,900</td>\n",
       "    </tr>\n",
       "  </tbody>\n",
       "</table>\n",
       "</div>"
      ],
      "text/plain": [
       "                          prouct  price\n",
       "33  장군차김치 모산 장군차 포기김치, 1.5kg, 1개  9,900"
      ]
     },
     "execution_count": 19,
     "metadata": {},
     "output_type": "execute_result"
    }
   ],
   "source": [
    "df[df['price'] == max(df['price'])]"
   ]
  },
  {
   "cell_type": "markdown",
   "metadata": {},
   "source": [
    "- 가장 낮은 가격의 제품명(타이틀) 찾아보기"
   ]
  },
  {
   "cell_type": "code",
   "execution_count": 20,
   "metadata": {},
   "outputs": [
    {
     "data": {
      "text/html": [
       "<div>\n",
       "<style scoped>\n",
       "    .dataframe tbody tr th:only-of-type {\n",
       "        vertical-align: middle;\n",
       "    }\n",
       "\n",
       "    .dataframe tbody tr th {\n",
       "        vertical-align: top;\n",
       "    }\n",
       "\n",
       "    .dataframe thead th {\n",
       "        text-align: right;\n",
       "    }\n",
       "</style>\n",
       "<table border=\"1\" class=\"dataframe\">\n",
       "  <thead>\n",
       "    <tr style=\"text-align: right;\">\n",
       "      <th></th>\n",
       "      <th>prouct</th>\n",
       "      <th>price</th>\n",
       "    </tr>\n",
       "  </thead>\n",
       "  <tbody>\n",
       "    <tr>\n",
       "      <th>9</th>\n",
       "      <td>곰곰 국내산 썰은 배추 김치, 1.8kg, 1개</td>\n",
       "      <td>10,110</td>\n",
       "    </tr>\n",
       "  </tbody>\n",
       "</table>\n",
       "</div>"
      ],
      "text/plain": [
       "                       prouct   price\n",
       "9  곰곰 국내산 썰은 배추 김치, 1.8kg, 1개  10,110"
      ]
     },
     "execution_count": 20,
     "metadata": {},
     "output_type": "execute_result"
    }
   ],
   "source": [
    "df[df['price'] == min(df['price'])]"
   ]
  },
  {
   "cell_type": "markdown",
   "metadata": {},
   "source": [
    "- 평균가격보다 높은 데이터 찾아보기"
   ]
  },
  {
   "cell_type": "code",
   "execution_count": 37,
   "metadata": {},
   "outputs": [],
   "source": [
    "n_price = df.price"
   ]
  },
  {
   "cell_type": "code",
   "execution_count": 38,
   "metadata": {},
   "outputs": [],
   "source": [
    "##(0702복습)지은이_pandas_기본 참조\n",
    "def f(x):\n",
    "    \n",
    "    n_price = x.replace(',','')\n",
    "    \n",
    "    return int(n_price)"
   ]
  },
  {
   "cell_type": "code",
   "execution_count": 39,
   "metadata": {},
   "outputs": [],
   "source": [
    "df['price']=df['price'].apply(f)"
   ]
  },
  {
   "cell_type": "code",
   "execution_count": 40,
   "metadata": {
    "scrolled": false
   },
   "outputs": [
    {
     "data": {
      "text/plain": [
       "16198.333333333334"
      ]
     },
     "execution_count": 40,
     "metadata": {},
     "output_type": "execute_result"
    }
   ],
   "source": [
    "df.price.mean()"
   ]
  },
  {
   "cell_type": "code",
   "execution_count": 44,
   "metadata": {},
   "outputs": [
    {
     "data": {
      "text/html": [
       "<div>\n",
       "<style scoped>\n",
       "    .dataframe tbody tr th:only-of-type {\n",
       "        vertical-align: middle;\n",
       "    }\n",
       "\n",
       "    .dataframe tbody tr th {\n",
       "        vertical-align: top;\n",
       "    }\n",
       "\n",
       "    .dataframe thead th {\n",
       "        text-align: right;\n",
       "    }\n",
       "</style>\n",
       "<table border=\"1\" class=\"dataframe\">\n",
       "  <thead>\n",
       "    <tr style=\"text-align: right;\">\n",
       "      <th></th>\n",
       "      <th>prouct</th>\n",
       "      <th>price</th>\n",
       "    </tr>\n",
       "  </thead>\n",
       "  <tbody>\n",
       "    <tr>\n",
       "      <th>0</th>\n",
       "      <td>친정김치 배추김치 5kg 10kg, 1개</td>\n",
       "      <td>19900</td>\n",
       "    </tr>\n",
       "    <tr>\n",
       "      <th>2</th>\n",
       "      <td>종가집 포기김치, 4kg, 1개</td>\n",
       "      <td>24850</td>\n",
       "    </tr>\n",
       "    <tr>\n",
       "      <th>3</th>\n",
       "      <td>곰곰 국내산 포기 김치, 4kg, 1개</td>\n",
       "      <td>19480</td>\n",
       "    </tr>\n",
       "    <tr>\n",
       "      <th>5</th>\n",
       "      <td>국내산 재료 100% 천하일미 송가네 여수 돌산 갓김치 4kg+갓물김치 1kg, 0...</td>\n",
       "      <td>39800</td>\n",
       "    </tr>\n",
       "    <tr>\n",
       "      <th>11</th>\n",
       "      <td>종가집 썰어담은 맛김치, 1.7kg, 1봉</td>\n",
       "      <td>17060</td>\n",
       "    </tr>\n",
       "    <tr>\n",
       "      <th>14</th>\n",
       "      <td>종가집 전라도 포기김치, 3.3kg, 1개</td>\n",
       "      <td>20630</td>\n",
       "    </tr>\n",
       "    <tr>\n",
       "      <th>16</th>\n",
       "      <td>풀무원 톡톡 포기김치, 4kg, 1개</td>\n",
       "      <td>27900</td>\n",
       "    </tr>\n",
       "    <tr>\n",
       "      <th>17</th>\n",
       "      <td>비비고 김장김치처럼 시원한 포기김치, 3kg, 1개</td>\n",
       "      <td>21900</td>\n",
       "    </tr>\n",
       "    <tr>\n",
       "      <th>20</th>\n",
       "      <td>조은해남 전라도 배추김치 5kg 10kg HACCP인증 일반상품, 1박스</td>\n",
       "      <td>17000</td>\n",
       "    </tr>\n",
       "    <tr>\n",
       "      <th>23</th>\n",
       "      <td>진경 배추김치, 10kg, 1봉</td>\n",
       "      <td>38010</td>\n",
       "    </tr>\n",
       "    <tr>\n",
       "      <th>26</th>\n",
       "      <td>장군차김치 진경 맛김치, 4.5kg, 1개</td>\n",
       "      <td>18900</td>\n",
       "    </tr>\n",
       "    <tr>\n",
       "      <th>29</th>\n",
       "      <td>친정김치 배추김치 5kg 10kg, 1개</td>\n",
       "      <td>19900</td>\n",
       "    </tr>\n",
       "    <tr>\n",
       "      <th>30</th>\n",
       "      <td>비비고 포기배추김치, 4.9kg, 1개</td>\n",
       "      <td>38300</td>\n",
       "    </tr>\n",
       "    <tr>\n",
       "      <th>32</th>\n",
       "      <td>모산 장군차포기김치, 4.5kg, 1개</td>\n",
       "      <td>21500</td>\n",
       "    </tr>\n",
       "  </tbody>\n",
       "</table>\n",
       "</div>"
      ],
      "text/plain": [
       "                                               prouct  price\n",
       "0                              친정김치 배추김치 5kg 10kg, 1개  19900\n",
       "2                                   종가집 포기김치, 4kg, 1개  24850\n",
       "3                               곰곰 국내산 포기 김치, 4kg, 1개  19480\n",
       "5   국내산 재료 100% 천하일미 송가네 여수 돌산 갓김치 4kg+갓물김치 1kg, 0...  39800\n",
       "11                            종가집 썰어담은 맛김치, 1.7kg, 1봉  17060\n",
       "14                            종가집 전라도 포기김치, 3.3kg, 1개  20630\n",
       "16                               풀무원 톡톡 포기김치, 4kg, 1개  27900\n",
       "17                       비비고 김장김치처럼 시원한 포기김치, 3kg, 1개  21900\n",
       "20           조은해남 전라도 배추김치 5kg 10kg HACCP인증 일반상품, 1박스  17000\n",
       "23                                  진경 배추김치, 10kg, 1봉  38010\n",
       "26                            장군차김치 진경 맛김치, 4.5kg, 1개  18900\n",
       "29                             친정김치 배추김치 5kg 10kg, 1개  19900\n",
       "30                              비비고 포기배추김치, 4.9kg, 1개  38300\n",
       "32                              모산 장군차포기김치, 4.5kg, 1개  21500"
      ]
     },
     "execution_count": 44,
     "metadata": {},
     "output_type": "execute_result"
    }
   ],
   "source": [
    "df[df['price']>df.price.mean()]"
   ]
  }
 ],
 "metadata": {
  "kernelspec": {
   "display_name": "Python 3",
   "language": "python",
   "name": "python3"
  },
  "language_info": {
   "codemirror_mode": {
    "name": "ipython",
    "version": 3
   },
   "file_extension": ".py",
   "mimetype": "text/x-python",
   "name": "python",
   "nbconvert_exporter": "python",
   "pygments_lexer": "ipython3",
   "version": "3.7.6"
  },
  "toc": {
   "base_numbering": 1,
   "nav_menu": {},
   "number_sections": false,
   "sideBar": true,
   "skip_h1_title": false,
   "title_cell": "Table of Contents",
   "title_sidebar": "Contents",
   "toc_cell": false,
   "toc_position": {},
   "toc_section_display": true,
   "toc_window_display": false
  }
 },
 "nbformat": 4,
 "nbformat_minor": 4
}
