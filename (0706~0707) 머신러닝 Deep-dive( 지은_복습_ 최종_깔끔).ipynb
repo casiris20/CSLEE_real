{
 "cells": [
  {
   "cell_type": "code",
   "execution_count": 1,
   "metadata": {},
   "outputs": [],
   "source": [
    "import pandas as pd\n",
    "from pandas import Series, DataFrame\n",
    "import numpy.linalg as lin"
   ]
  },
  {
   "cell_type": "code",
   "execution_count": 2,
   "metadata": {},
   "outputs": [],
   "source": [
    "import numpy as np\n",
    "np.random.seed(12345)\n",
    "import matplotlib.pyplot as plt\n",
    "plt.rc('figure', figsize=(10, 6))\n",
    "PREVIOUS_MAX_ROWS = pd.options.display.max_rows\n",
    "pd.options.display.max_rows = 20\n",
    "np.set_printoptions(precision=4, suppress=True)\n",
    "import numpy.linalg as lin"
   ]
  },
  {
   "cell_type": "markdown",
   "metadata": {},
   "source": [
    "# y= 2x + 1 만들기"
   ]
  },
  {
   "cell_type": "code",
   "execution_count": 3,
   "metadata": {},
   "outputs": [
    {
     "name": "stdout",
     "output_type": "stream",
     "text": [
      "w,b : 2.0 1.0\n",
      "h: 15.0\n"
     ]
    }
   ],
   "source": [
    "w = (3-61)/(1-30)\n",
    "b= 3 -w *1\n",
    "print('w,b :', w,b)\n",
    "\n",
    "x_ = 7\n",
    "h = w * x_ +b\n",
    "print('h:', h)"
   ]
  },
  {
   "cell_type": "markdown",
   "metadata": {},
   "source": [
    "# numpy를 이용하여 만들어보기."
   ]
  },
  {
   "cell_type": "code",
   "execution_count": 4,
   "metadata": {},
   "outputs": [
    {
     "name": "stdout",
     "output_type": "stream",
     "text": [
      "[ 3.  5.  7.  9. 11.]\n"
     ]
    }
   ],
   "source": [
    "x_ = np.array([1,2,3,4,5])\n",
    "\n",
    "h = w * x_ + b \n",
    " \n",
    "print(h)"
   ]
  },
  {
   "cell_type": "markdown",
   "metadata": {},
   "source": [
    "# 우리가 생각했던 가설의 오차를 구해보자!"
   ]
  },
  {
   "cell_type": "code",
   "execution_count": 5,
   "metadata": {},
   "outputs": [
    {
     "name": "stdout",
     "output_type": "stream",
     "text": [
      "h: [ 3  5  7  9 11 13 15]\n"
     ]
    }
   ],
   "source": [
    "w = 2\n",
    "b = 1  # h = 2x+1\n",
    "\n",
    "x = np.array([1,2,3,   4,    5,    6,  7])\n",
    "y = np.array([3,5,7.3, 9.4, 12, 13.7, 16])\n",
    "\n",
    "h = w*x +b\n",
    "print('h:',h)"
   ]
  },
  {
   "cell_type": "code",
   "execution_count": 6,
   "metadata": {},
   "outputs": [
    {
     "name": "stdout",
     "output_type": "stream",
     "text": [
      "abs(h-y): [0.  0.  0.3 0.4 1.  0.7 1. ]\n"
     ]
    }
   ],
   "source": [
    "print('abs(h-y):',np.abs(h-y)) \n",
    "# 오차는 '직선'과의 거리 차이다!!!!! 꼭 오차는 절댓값을 붙여 넣어줘어야 한다."
   ]
  },
  {
   "cell_type": "code",
   "execution_count": 7,
   "metadata": {},
   "outputs": [
    {
     "name": "stdout",
     "output_type": "stream",
     "text": [
      "np.sum(np.abs(h-y)): 3.3999999999999995\n"
     ]
    }
   ],
   "source": [
    "np.sum(np.abs(h-y)) # 전체 오차의 합은 3.3999가 나온다\n",
    "print('np.sum(np.abs(h-y)):',np.sum(np.abs(h-y)))"
   ]
  },
  {
   "cell_type": "markdown",
   "metadata": {},
   "source": [
    "# w =2 가 아니라 w = 3일때의 오차를 구해볼까?"
   ]
  },
  {
   "cell_type": "code",
   "execution_count": 8,
   "metadata": {},
   "outputs": [
    {
     "name": "stdout",
     "output_type": "stream",
     "text": [
      "np.abs(h-y): [1.  2.  2.7 3.6 4.  5.3 6. ]\n",
      "np.sum(np.abs(h-y)): 24.6\n"
     ]
    }
   ],
   "source": [
    "w = 3\n",
    "b = 1 \n",
    "        # h = 3x + 1\n",
    "\n",
    "x = np.array([1,2,3,    4,    5,    6, 7 ])\n",
    "y = np.array([3,5,7.3,  9.4, 12, 13.7, 16])\n",
    "\n",
    "h = w * x + b\n",
    "\n",
    "print('np.abs(h-y):',np.abs(h-y))\n",
    "print('np.sum(np.abs(h-y)):', np.sum(np.abs(h-y)))\n",
    "# w = 3 일때는, 오차의 합이 24.6이다..  w= 2일떄보다 나쁘네!!"
   ]
  },
  {
   "cell_type": "markdown",
   "metadata": {},
   "source": [
    "# 역행렬을 배워봅시다 start!"
   ]
  },
  {
   "cell_type": "code",
   "execution_count": 9,
   "metadata": {},
   "outputs": [
    {
     "name": "stdout",
     "output_type": "stream",
     "text": [
      "W: [[ 2.4]\n",
      " [-0.4]]\n",
      "W[0]: [2.4]\n",
      "W[1]: [-0.4]\n",
      "A.shape: (2, 2)\n",
      "y.shape: (2, 1)\n",
      "W.shape: (2, 1)\n"
     ]
    }
   ],
   "source": [
    "A = np.array([[1,1],[2,1]])  #2X2 행렬\n",
    "\n",
    "y = np.array([[2],[4.4]])   #2X1 행렬\n",
    "\n",
    "W = np.matmul(lin.inv(A),y)    #lin.inv(A) == A의 역행렬 \n",
    "# W == A의 역행렬과 y를 곱하여라.\n",
    "\n",
    "print('W:',W)  # 2X1행렬\n",
    "print('W[0]:',W[0])\n",
    "print('W[1]:',W[1])\n",
    "# A * W = y\n",
    "\n",
    "print('A.shape:',A.shape)\n",
    "print('y.shape:',y.shape)\n",
    "print('W.shape:',W.shape)\n"
   ]
  },
  {
   "cell_type": "markdown",
   "metadata": {},
   "source": [
    "# pinv = (A' x A ) -1   x  A'     , A.T  "
   ]
  },
  {
   "cell_type": "code",
   "execution_count": 10,
   "metadata": {},
   "outputs": [
    {
     "data": {
      "text/plain": [
       "array([[30, 10],\n",
       "       [10,  4]])"
      ]
     },
     "execution_count": 10,
     "metadata": {},
     "output_type": "execute_result"
    }
   ],
   "source": [
    "A = np.array([[1,1],[2,1],[3,1],[4,1]])\n",
    "y = np.array([[2],[4.4],[6.4],[9.8]])\n",
    "\n",
    "# pinv = (A' x A) -1 x A' , A.T         => A.T = A'    A.trace라는 뜻\n",
    "\n",
    "#첫번째 할 것\n",
    "np.matmul(A.T, A)  # A' x A"
   ]
  },
  {
   "cell_type": "code",
   "execution_count": 11,
   "metadata": {},
   "outputs": [
    {
     "name": "stdout",
     "output_type": "stream",
     "text": [
      "[[-0.3 -0.1  0.1  0.3]\n",
      " [ 1.   0.5  0.  -0.5]]\n"
     ]
    }
   ],
   "source": [
    "#두번째 할 것\n",
    "A_ = lin.inv(np.matmul(A.T, A))   # A' x A  의 역행렬\n",
    "\n",
    "print(np.matmul(A_,A.T))  # (A' x A  의 역행렬) x A' = A+\n",
    "\n",
    "#세번째 할 것\n",
    "# A+ x y = (w,\n",
    "#           b) 가 나온다."
   ]
  },
  {
   "cell_type": "code",
   "execution_count": 12,
   "metadata": {},
   "outputs": [
    {
     "name": "stdout",
     "output_type": "stream",
     "text": [
      "W: [[ 2.54]\n",
      " [-0.7 ]]\n",
      "y: [[2. ]\n",
      " [4.4]\n",
      " [6.4]\n",
      " [9.8]]\n",
      "h: [[1.84]\n",
      " [4.38]\n",
      " [6.92]\n",
      " [9.46]]\n",
      "np.abs(h-y): [[0.16]\n",
      " [0.02]\n",
      " [0.52]\n",
      " [0.34]]\n",
      "np.sum(np.abs(h-y)): 1.0400000000000085\n"
     ]
    }
   ],
   "source": [
    "A = np.array([[1,1],[2,1],[3,1],[4,1]])\n",
    "y = np.array([[2],[4.4],[6.4],[9.8]])\n",
    "\n",
    "A_ = lin.inv(np.matmul(A.T,A))\n",
    "W = np.matmul(np.matmul(A_, A.T),y)   # 궁극적으로 목표는 'W'를 구하는 것\n",
    "\n",
    "print('W:',W)\n",
    "\n",
    "h = np.matmul(A,W) \n",
    "# A x W 을 한다. => '예측'은 W와 A를 곱한 것을 의미한다.\n",
    "\n",
    "\n",
    "# '원래 값_실제데이터(y)'와 '예측 값_모델데이터(h)'를 비교해보세요^^\n",
    "print('y:',y)\n",
    "print('h:',h)\n",
    "\n",
    "print('np.abs(h-y):',np.abs(h-y))\n",
    "print('np.sum(np.abs(h-y)):', np.sum(np.abs(h-y)))"
   ]
  },
  {
   "cell_type": "markdown",
   "metadata": {},
   "source": [
    "## RMSE 구하기 => RMSE  구하는 과정을 '평가'라고 한다."
   ]
  },
  {
   "cell_type": "code",
   "execution_count": 13,
   "metadata": {},
   "outputs": [
    {
     "name": "stdout",
     "output_type": "stream",
     "text": [
      "RMSE: 0.3209361307176245\n"
     ]
    }
   ],
   "source": [
    "RMSE = np.sqrt(np.mean((y-h)**2)) # RMSE = 평균제곱근 오차\n",
    "print('RMSE:',RMSE)\n",
    "#실제데이터(y)와 모델데이터(h)는 평균 오차가 0.3209 정도라는 뜻"
   ]
  },
  {
   "cell_type": "markdown",
   "metadata": {},
   "source": [
    "## 공부시간과 SAT 점수 _ 연습문제"
   ]
  },
  {
   "cell_type": "code",
   "execution_count": 14,
   "metadata": {},
   "outputs": [
    {
     "data": {
      "text/plain": [
       "[<matplotlib.lines.Line2D at 0x1cc1369fac8>]"
      ]
     },
     "execution_count": 14,
     "metadata": {},
     "output_type": "execute_result"
    },
    {
     "data": {
      "image/png": "[encoded data removed]",
      "text/plain": [
       "<Figure size 720x432 with 1 Axes>"
      ]
     },
     "metadata": {
      "needs_background": "light"
     },
     "output_type": "display_data"
    }
   ],
   "source": [
    "import matplotlib.pyplot as plt\n",
    "\n",
    "x = np.array([4,9,10,14,4,7,12,22,1,3,8,11,5,6,10,11,16,13,13,10]) \n",
    "y = np.array([390,580,650,730,410,530,600,790,350,400,590,640,450,520,690,690,770,700,730,640])\n",
    "# x는 공부한 시간 / y는 SAT점수\n",
    "#plt.plot(x,y, '*')\n",
    "plt.plot(x,y, '^')"
   ]
  },
  {
   "cell_type": "markdown",
   "metadata": {},
   "source": [
    "## 1. 13, 15 20 시간 공부하면 SAT는 몇점인지 예측"
   ]
  },
  {
   "cell_type": "code",
   "execution_count": 15,
   "metadata": {},
   "outputs": [
    {
     "name": "stdout",
     "output_type": "stream",
     "text": [
      "y: [615.1 655.7 757.2]\n"
     ]
    }
   ],
   "source": [
    "# 임의적으로 w와 b 값을 잡음\n",
    "# w 값이 클수록 강한 상관관계를 갖고 있음을 확인할 수 있다.\n",
    "# y= wx + b    => 1차원 직선 관계임! '점수'와 '공부시간' 두 사이의 상관관계 이므로\n",
    "\n",
    "w = 20.3\n",
    "b = 351.2\n",
    "x = [13, 15, 20] # 13, 15, 20 시간 공부하면\n",
    "y = w * np.array(x) + b\n",
    "print('y:',y) # 615.1,  655.7, 757.2 점수가 각각 나온다."
   ]
  },
  {
   "cell_type": "markdown",
   "metadata": {},
   "source": [
    "## 2.SAT를 840 점을 얻기 위해 몇 시간 공부해야 하는지"
   ]
  },
  {
   "cell_type": "code",
   "execution_count": 16,
   "metadata": {},
   "outputs": [
    {
     "name": "stdout",
     "output_type": "stream",
     "text": [
      "x: 24.078817733990146\n",
      "y: 840\n"
     ]
    }
   ],
   "source": [
    "y = 840\n",
    "x = (y-b)/w\n",
    "print('x:',x)\n",
    "print('y:',y)\n",
    "# 24.0788 시간 공부해야 840점을 맞을 수 있다."
   ]
  },
  {
   "cell_type": "markdown",
   "metadata": {},
   "source": [
    "## 3. 추정 w,b 로 부터 발생하는 학습 오차는 얼마인가?"
   ]
  },
  {
   "cell_type": "code",
   "execution_count": 17,
   "metadata": {},
   "outputs": [
    {
     "name": "stdout",
     "output_type": "stream",
     "text": [
      "학습오차: 72.56996968443626\n"
     ]
    }
   ],
   "source": [
    "x = np.array([4,9,10,14,4,7,12,22,1,3,8,11,5,6,10,11,16,13,13,10]) \n",
    "y = np.array([390,580,650,730,410,530,600,790,350,400,590,640,450,520,690,690,770,700,730,640])\n",
    "w = 20.3\n",
    "b = 351.2   # 3번은 w와 b의 값을 임의로 준 것이다. 최적값이 아니란 말!\n",
    "\n",
    "error = (y-(w*x+b))**2 # 실제데이터 :y   / 예측데이터 : w*x+b\n",
    "result = np.sqrt(np.mean(error))\n",
    "\n",
    "print('학습오차:',result)"
   ]
  },
  {
   "cell_type": "markdown",
   "metadata": {},
   "source": [
    "## 4. 최적의 가중치 w,b 는 얼마인가?"
   ]
  },
  {
   "cell_type": "code",
   "execution_count": 18,
   "metadata": {
    "scrolled": true
   },
   "outputs": [
    {
     "name": "stdout",
     "output_type": "stream",
     "text": [
      "x.shape: (20,)\n",
      "y.shape: (20,)\n"
     ]
    }
   ],
   "source": [
    "x = np.array([4,9,10,14,4,7,12,22,1,3,8,11,5,6,10,11,16,13,13,10]) \n",
    "y = np.array([390,580,650,730,410,530,600,790,350,400,590,640,450,520,690,690,770,700,730,640])\n",
    "print('x.shape:',x.shape)\n",
    "print('y.shape:',y.shape)"
   ]
  },
  {
   "cell_type": "code",
   "execution_count": 19,
   "metadata": {
    "scrolled": true
   },
   "outputs": [
    {
     "name": "stdout",
     "output_type": "stream",
     "text": [
      "x.shape: (20, 1)\n",
      "y.shape: (20, 1)\n"
     ]
    }
   ],
   "source": [
    "# step1. x와 y의 형태를 [] 와 .T를 통해서 바꾸어 준다.\n",
    "x = np.array([[4,9,10,14,4,7,12,22,1,3,8,11,5,6,10,11,16,13,13,10]]).T\n",
    "y = np.array([[390,580,650,730,410,530,600,790,350,400,590,640,450,520,690,690,770,700,730,640]]).T\n",
    "print('x.shape:',x.shape)\n",
    "print('y.shape:',y.shape)"
   ]
  },
  {
   "cell_type": "code",
   "execution_count": 20,
   "metadata": {},
   "outputs": [
    {
     "name": "stdout",
     "output_type": "stream",
     "text": [
      "A.shape: (20, 2)\n",
      "A: [[ 4.  1.]\n",
      " [ 9.  1.]\n",
      " [10.  1.]\n",
      " [14.  1.]\n",
      " [ 4.  1.]\n",
      " [ 7.  1.]\n",
      " [12.  1.]\n",
      " [22.  1.]\n",
      " [ 1.  1.]\n",
      " [ 3.  1.]\n",
      " [ 8.  1.]\n",
      " [11.  1.]\n",
      " [ 5.  1.]\n",
      " [ 6.  1.]\n",
      " [10.  1.]\n",
      " [11.  1.]\n",
      " [16.  1.]\n",
      " [13.  1.]\n",
      " [13.  1.]\n",
      " [10.  1.]]\n",
      "W: [[ 25.3265]\n",
      " [353.1649]]\n"
     ]
    }
   ],
   "source": [
    "# step2.\n",
    "A = np.append(x, np.ones((x.shape[0],1)),axis = 1)\n",
    "# append 에 axis = 0 해버리면 1(20개의)이라는게 밑으로 붙어져 버려서 40X1이 되어버리는데\n",
    "# append 에 axis = 1 해버리면 옆으로 붙어서 20X2가 된다. 1(20개의)이 옆으로 붙어버려서!\n",
    "\n",
    "print('A.shape:',A.shape) # (20,2) => 20X2 행렬이 된다.\n",
    "print('A:',A)\n",
    "\n",
    "W = np.matmul(lin.pinv(A),y)\n",
    "print('W:',W)  # 최적의 값으로 w = 25.3265 , y절편 = 353.1649 나온다. (정교함)"
   ]
  },
  {
   "cell_type": "markdown",
   "metadata": {},
   "source": [
    "## 5. 이전 모델보다 좋은가?"
   ]
  },
  {
   "cell_type": "code",
   "execution_count": 21,
   "metadata": {},
   "outputs": [
    {
     "name": "stdout",
     "output_type": "stream",
     "text": [
      "3번 학습오차: 72.56996968443626\n",
      "4~5번 학습오차: 47.16649000177458\n"
     ]
    }
   ],
   "source": [
    "w = 25.3265\n",
    "b = 353.1649\n",
    "\n",
    "error2 = (y-(x*w+b))**2\n",
    "result2 = np.sqrt(np.mean(error2))\n",
    "\n",
    "print('3번 학습오차:',result)\n",
    "print('4~5번 학습오차:',result2)\n",
    "\n",
    "# result2가 result1보다 학습오차가 작으므로, 더 정확하다:)\n"
   ]
  },
  {
   "cell_type": "markdown",
   "metadata": {},
   "source": [
    "## 6. 그래서, 시간당 SAT 점수가 얼마나 올라간다는 이야기야?"
   ]
  },
  {
   "cell_type": "code",
   "execution_count": 22,
   "metadata": {},
   "outputs": [
    {
     "name": "stdout",
     "output_type": "stream",
     "text": [
      "x[:,0]: [ 4  9 10 14  4  7 12 22  1  3  8 11  5  6 10 11 16 13 13 10]\n"
     ]
    },
    {
     "data": {
      "image/png": "[encoded data removed]",
      "text/plain": [
       "<Figure size 720x432 with 1 Axes>"
      ]
     },
     "metadata": {
      "needs_background": "light"
     },
     "output_type": "display_data"
    }
   ],
   "source": [
    "## 이거 의미하는 그래프가 무엇인지 모르겠다ㅠㅠ\n",
    "plt.plot(x[:,0], y[:,0], '^')   # x[ :,3]\n",
    "print('x[:,0]:',x[:,0])"
   ]
  },
  {
   "cell_type": "code",
   "execution_count": 23,
   "metadata": {},
   "outputs": [
    {
     "name": "stdout",
     "output_type": "stream",
     "text": [
      "x_: [ 1.      1.4915  1.9831  2.4746  2.9661  3.4576  3.9492  4.4407  4.9322\n",
      "  5.4237  5.9153  6.4068  6.8983  7.3898  7.8814  8.3729  8.8644  9.3559\n",
      "  9.8475 10.339  10.8305 11.322  11.8136 12.3051 12.7966 13.2881 13.7797\n",
      " 14.2712 14.7627 15.2542 15.7458 16.2373 16.7288 17.2203 17.7119 18.2034\n",
      " 18.6949 19.1864 19.678  20.1695 20.661  21.1525 21.6441 22.1356 22.6271\n",
      " 23.1186 23.6102 24.1017 24.5932 25.0847 25.5763 26.0678 26.5593 27.0508\n",
      " 27.5424 28.0339 28.5254 29.0169 29.5085 30.    ]\n"
     ]
    }
   ],
   "source": [
    "x_ =np.linspace(1, 30, 60)\n",
    "print('x_:',x_)"
   ]
  },
  {
   "cell_type": "code",
   "execution_count": 24,
   "metadata": {},
   "outputs": [
    {
     "data": {
      "text/plain": [
       "[<matplotlib.lines.Line2D at 0x1cc13774b88>]"
      ]
     },
     "execution_count": 24,
     "metadata": {},
     "output_type": "execute_result"
    },
    {
     "data": {
      "image/png": "[encoded data removed]",
      "text/plain": [
       "<Figure size 720x432 with 1 Axes>"
      ]
     },
     "metadata": {
      "needs_background": "light"
     },
     "output_type": "display_data"
    }
   ],
   "source": [
    "h = x_*w + b\n",
    "plt.plot(x_, h, 'r')"
   ]
  },
  {
   "cell_type": "markdown",
   "metadata": {},
   "source": [
    "# 주가 문제 풀이"
   ]
  },
  {
   "cell_type": "code",
   "execution_count": 25,
   "metadata": {},
   "outputs": [],
   "source": [
    "\n",
    "Interest_Rate =  np.array([[2.75,2.5,2.5,2.5,2.5,2.5,2.5,2.25,\n",
    "                            2.25,2.25,2,2,2,1.75,1.75,1.75,1.75,\n",
    "                            1.75,1.75,1.75,1.75,1.75,1.75,1.75]]).T\n",
    "\n",
    "Unemployment_Rate = np.array([[5.3,5.3,5.3,5.3,5.4,5.6,5.5,5.5,\n",
    "                               5.5,5.6,5.7,5.9,6,5.9,5.8,6.1,\n",
    "                               6.2,6.1,6.1,6.1,5.9,6.2,6.2,6.1]]).T\n",
    "\n",
    "Stock_Index_Price =  [1464,1394,1357,1293,1256,1254,1234,1195,\n",
    "                      1159,1167,1130,1075,1047,965,943,958,971,\n",
    "                      949,884,866,876,822,704,719]\n",
    "\n",
    "I = Interest_Rate\n",
    "U = Unemployment_Rate\n",
    "S = Stock_Index_Price"
   ]
  },
  {
   "cell_type": "code",
   "execution_count": 26,
   "metadata": {},
   "outputs": [
    {
     "data": {
      "text/plain": [
       "[<matplotlib.lines.Line2D at 0x1cc137e4cc8>]"
      ]
     },
     "execution_count": 26,
     "metadata": {},
     "output_type": "execute_result"
    },
    {
     "data": {
      "image/png": "[encoded data removed]",
      "text/plain": [
       "<Figure size 720x432 with 1 Axes>"
      ]
     },
     "metadata": {
      "needs_background": "light"
     },
     "output_type": "display_data"
    }
   ],
   "source": [
    "plt.plot(Interest_Rate[:,0], Stock_Index_Price, '*')\n",
    "# 이자율을 기반으로 해서 주식값을 출력해보았다.\n",
    "# 이자율과 주가지수은 비례관계라는 것을 알 수 있다."
   ]
  },
  {
   "cell_type": "code",
   "execution_count": 27,
   "metadata": {},
   "outputs": [
    {
     "data": {
      "text/plain": [
       "[<matplotlib.lines.Line2D at 0x1cc1384ee88>]"
      ]
     },
     "execution_count": 27,
     "metadata": {},
     "output_type": "execute_result"
    },
    {
     "data": {
      "image/png": "[encoded data removed]",
      "text/plain": [
       "<Figure size 720x432 with 1 Axes>"
      ]
     },
     "metadata": {
      "needs_background": "light"
     },
     "output_type": "display_data"
    }
   ],
   "source": [
    "plt.plot(Unemployment_Rate[:,0], Stock_Index_Price, '^')\n",
    "#실업율과 주가지수는 반비례 관계이다."
   ]
  },
  {
   "cell_type": "markdown",
   "metadata": {},
   "source": [
    "## 문제 1 : 이자율 = 5.1  / 실업률 = 6.2  이면 주가지수는?"
   ]
  },
  {
   "cell_type": "markdown",
   "metadata": {},
   "source": [
    "## 선생님 버전으로 풀기"
   ]
  },
  {
   "cell_type": "code",
   "execution_count": 28,
   "metadata": {},
   "outputs": [
    {
     "data": {
      "text/plain": [
       "array([[2.75, 5.3 ],\n",
       "       [2.5 , 5.3 ],\n",
       "       [2.5 , 5.3 ],\n",
       "       [2.5 , 5.3 ],\n",
       "       [2.5 , 5.4 ],\n",
       "       [2.5 , 5.6 ],\n",
       "       [2.5 , 5.5 ],\n",
       "       [2.25, 5.5 ],\n",
       "       [2.25, 5.5 ],\n",
       "       [2.25, 5.6 ],\n",
       "       [2.  , 5.7 ],\n",
       "       [2.  , 5.9 ],\n",
       "       [2.  , 6.  ],\n",
       "       [1.75, 5.9 ],\n",
       "       [1.75, 5.8 ],\n",
       "       [1.75, 6.1 ],\n",
       "       [1.75, 6.2 ],\n",
       "       [1.75, 6.1 ],\n",
       "       [1.75, 6.1 ],\n",
       "       [1.75, 6.1 ],\n",
       "       [1.75, 5.9 ],\n",
       "       [1.75, 6.2 ],\n",
       "       [1.75, 6.2 ],\n",
       "       [1.75, 6.1 ]])"
      ]
     },
     "execution_count": 28,
     "metadata": {},
     "output_type": "execute_result"
    }
   ],
   "source": [
    "A = np.append(I,U, axis = 1) # 이자율과 실업률을 옆으로 붙인다\n",
    "A"
   ]
  },
  {
   "cell_type": "code",
   "execution_count": 29,
   "metadata": {},
   "outputs": [
    {
     "data": {
      "text/plain": [
       "array([[2.75, 5.3 , 1.  ],\n",
       "       [2.5 , 5.3 , 1.  ],\n",
       "       [2.5 , 5.3 , 1.  ],\n",
       "       [2.5 , 5.3 , 1.  ],\n",
       "       [2.5 , 5.4 , 1.  ],\n",
       "       [2.5 , 5.6 , 1.  ],\n",
       "       [2.5 , 5.5 , 1.  ],\n",
       "       [2.25, 5.5 , 1.  ],\n",
       "       [2.25, 5.5 , 1.  ],\n",
       "       [2.25, 5.6 , 1.  ],\n",
       "       [2.  , 5.7 , 1.  ],\n",
       "       [2.  , 5.9 , 1.  ],\n",
       "       [2.  , 6.  , 1.  ],\n",
       "       [1.75, 5.9 , 1.  ],\n",
       "       [1.75, 5.8 , 1.  ],\n",
       "       [1.75, 6.1 , 1.  ],\n",
       "       [1.75, 6.2 , 1.  ],\n",
       "       [1.75, 6.1 , 1.  ],\n",
       "       [1.75, 6.1 , 1.  ],\n",
       "       [1.75, 6.1 , 1.  ],\n",
       "       [1.75, 5.9 , 1.  ],\n",
       "       [1.75, 6.2 , 1.  ],\n",
       "       [1.75, 6.2 , 1.  ],\n",
       "       [1.75, 6.1 , 1.  ]])"
      ]
     },
     "execution_count": 29,
     "metadata": {},
     "output_type": "execute_result"
    }
   ],
   "source": [
    "A = np.append(A, np.ones((A.shape[0],1)),axis=1)\n",
    "A"
   ]
  },
  {
   "cell_type": "code",
   "execution_count": 30,
   "metadata": {},
   "outputs": [
    {
     "name": "stdout",
     "output_type": "stream",
     "text": [
      "[ 345.5401 -250.1466 1798.404 ]\n"
     ]
    }
   ],
   "source": [
    "W = np.matmul(lin.pinv(A),S)     # w1x1 + w2x2 + b\n",
    "print(W)"
   ]
  },
  {
   "cell_type": "code",
   "execution_count": 31,
   "metadata": {},
   "outputs": [
    {
     "data": {
      "text/plain": [
       "2009.7495899999997"
      ]
     },
     "execution_count": 31,
     "metadata": {},
     "output_type": "execute_result"
    }
   ],
   "source": [
    "# 구해진 최적의 값들\n",
    "w1 = 345.5401\n",
    "w2 = -250.1466\n",
    "b = 1798.404\n",
    "\n",
    "interest_rate = 5.1   # x1\n",
    "unemployment_rate = 6.2 # x2\n",
    "\n",
    "\n",
    "# 주가 예상 값 구하기\n",
    "Stock_Pridict = interest_rate * w1 + unemployment_rate * w2 + b\n",
    "\n",
    "Stock_Pridict"
   ]
  },
  {
   "cell_type": "markdown",
   "metadata": {},
   "source": [
    "## 배운대로, 정석대로 풀기"
   ]
  },
  {
   "cell_type": "code",
   "execution_count": 32,
   "metadata": {},
   "outputs": [],
   "source": [
    "Interest_Rate =  np.array([[2.75,2.5,2.5,2.5,2.5,2.5,2.5,2.25,\n",
    "                            2.25,2.25,2,2,2,1.75,1.75,1.75,1.75,\n",
    "                            1.75,1.75,1.75,1.75,1.75,1.75,1.75]]).T\n",
    "\n",
    "Unemployment_Rate = np.array([[5.3,5.3,5.3,5.3,5.4,5.6,5.5,5.5,\n",
    "                               5.5,5.6,5.7,5.9,6,5.9,5.8,6.1,\n",
    "                               6.2,6.1,6.1,6.1,5.9,6.2,6.2,6.1]]).T\n",
    "\n",
    "Stock_Index_Price =  [1464,1394,1357,1293,1256,1254,1234,1195,\n",
    "                      1159,1167,1130,1075,1047,965,943,958,971,\n",
    "                      949,884,866,876,822,704,719]\n",
    "\n",
    "I = Interest_Rate\n",
    "U = Unemployment_Rate\n",
    "S = Stock_Index_Price"
   ]
  },
  {
   "cell_type": "code",
   "execution_count": 33,
   "metadata": {},
   "outputs": [],
   "source": [
    "A = np.append(I,U, axis = 1)"
   ]
  },
  {
   "cell_type": "code",
   "execution_count": 34,
   "metadata": {},
   "outputs": [],
   "source": [
    "A = np.append(A, np.ones((A.shape[0],1)), axis = 1)"
   ]
  },
  {
   "cell_type": "code",
   "execution_count": 35,
   "metadata": {},
   "outputs": [
    {
     "name": "stdout",
     "output_type": "stream",
     "text": [
      "W: [ 345.5401 -250.1466 1798.404 ]\n",
      "h: [1422.8624 1336.4774 1336.4774 1336.4774 1311.4627 1261.4334 1286.4481\n",
      " 1200.063  1200.063  1175.0484 1063.6487 1013.6194  988.6047  927.2344\n",
      "  952.249   877.205   852.1904  877.205   877.205   877.205   927.2344\n",
      "  852.1904  852.1904  877.205 ]\n",
      "RSME: 66.00463133086289\n"
     ]
    }
   ],
   "source": [
    "W = np.matmul(lin.pinv(A),S)\n",
    "print('W:',W)\n",
    "\n",
    "h = np.matmul(A,W) # 예측된 값...\n",
    "print('h:',h)\n",
    "\n",
    "RSME=np.sqrt(np.mean((S-h)**2))\n",
    "\n",
    "print(\"RSME:\",RSME)"
   ]
  },
  {
   "cell_type": "code",
   "execution_count": 36,
   "metadata": {},
   "outputs": [
    {
     "name": "stdout",
     "output_type": "stream",
     "text": [
      "2009.7495899999997\n"
     ]
    }
   ],
   "source": [
    "# 최적의 값 : w1, w2, b\n",
    "w1 = 345.5401\n",
    "w2 = -250.1466\n",
    "b = 1798.404\n",
    "\n",
    "interest_rate = 5.1   # x1\n",
    "unemployment_rate = 6.2 # x2\n",
    "\n",
    "y=(w1*interest_rate) + (w2*unemployment_rate) + b # 실제데이터... 와 같이 엄청~~ 정확한 예측값이라 할 수 있겠다.\n",
    "print(y)"
   ]
  },
  {
   "cell_type": "markdown",
   "metadata": {},
   "source": [
    "# 또 다른 예측을 계속 해보자!"
   ]
  },
  {
   "cell_type": "code",
   "execution_count": 37,
   "metadata": {},
   "outputs": [
    {
     "name": "stdout",
     "output_type": "stream",
     "text": [
      "[2009.7497 2034.7643 2009.7497 2044.3037 1422.8624 1336.4774]\n"
     ]
    }
   ],
   "source": [
    "x_data = np.array([\n",
    "    [5.1,6.2,1],\n",
    "    [5.1,6.1,1],\n",
    "    [5.1,6.2,1],\n",
    "    [5.2,6.2,1],\n",
    "    [2.75,5.3,1],\n",
    "    [2.5,5.3,1]])\n",
    "\n",
    "result = np.matmul(x_data,W)\n",
    "print(result)"
   ]
  },
  {
   "cell_type": "code",
   "execution_count": 38,
   "metadata": {},
   "outputs": [],
   "source": [
    "from mpl_toolkits import mplot3d\n",
    "%matplotlib qt5   "
   ]
  },
  {
   "cell_type": "code",
   "execution_count": 39,
   "metadata": {},
   "outputs": [
    {
     "data": {
      "text/plain": [
       "<mpl_toolkits.mplot3d.art3d.Path3DCollection at 0x1cc12ea6a88>"
      ]
     },
     "execution_count": 39,
     "metadata": {},
     "output_type": "execute_result"
    }
   ],
   "source": [
    "fig = plt.figure()\n",
    "ax = plt.axes(projection = \"3d\")\n",
    "\n",
    "ax.scatter3D(Interest_Rate[:,0], Unemployment_Rate[:,0], Stock_Index_Price)"
   ]
  },
  {
   "cell_type": "markdown",
   "metadata": {},
   "source": [
    "## 여기서부터 : 7월 7일 수업 start!"
   ]
  },
  {
   "cell_type": "code",
   "execution_count": 51,
   "metadata": {},
   "outputs": [
    {
     "name": "stdout",
     "output_type": "stream",
     "text": [
      "[[0.5 5.  1. ]\n",
      " [0.5 5.1 1. ]\n",
      " [0.5 5.2 1. ]\n",
      " ...\n",
      " [2.9 6.7 1. ]\n",
      " [2.9 6.8 1. ]\n",
      " [2.9 6.9 1. ]]\n"
     ]
    },
    {
     "data": {
      "text/plain": [
       "<mpl_toolkits.mplot3d.art3d.Path3DCollection at 0x1cc16c8b548>"
      ]
     },
     "execution_count": 51,
     "metadata": {},
     "output_type": "execute_result"
    }
   ],
   "source": [
    "xx, yy = np.mgrid[0.5:3:0.1, 5:7:0.1]\n",
    "#xx, yy = np.mgrid[0.5:3:0.05, 5:7:0.05]# 여기서 0.05는 주황색을 빼곡빼곡할지..아니면 넓게넓게할지 결정해주는것. 숫자가 클수록 넓게넓게\n",
    "grid = np.c_[xx.flatten(), yy.flatten()]\n",
    "# 학습결과를 확인할 수 있는 방법입니다~!!\n",
    "\n",
    "\n",
    "x_ = np.append(grid, np.ones((grid.shape[0] , 1)) , axis = 1)\n",
    "print(x_)\n",
    "result = np.matmul(x_, W)\n",
    "\n",
    "fig = plt.figure()\n",
    "ax = plt.axes(projection=\"3d\")\n",
    "\n",
    "ax.scatter3D(Interest_Rate[:,0],Unemployment_Rate[:,0], Stock_Index_Price, 'b') # 원본 데이터를 그림 ( 파란 점들...)\n",
    "ax.scatter3D(xx.flatten(), yy.flatten(), result, 'r') # 학습된 데이터를 그림 => 빨간색의 평면 데이터... (주황색같은데..r이래 ㅋㅋ..)"
   ]
  },
  {
   "cell_type": "code",
   "execution_count": 48,
   "metadata": {},
   "outputs": [
    {
     "name": "stdout",
     "output_type": "stream",
     "text": [
      "[[1.  1.  1.  1. ]\n",
      " [1.5 1.5 1.5 1.5]\n",
      " [2.  2.  2.  2. ]\n",
      " [2.5 2.5 2.5 2.5]]\n",
      "[[-4.  -3.5 -3.  -2.5]\n",
      " [-4.  -3.5 -3.  -2.5]\n",
      " [-4.  -3.5 -3.  -2.5]\n",
      " [-4.  -3.5 -3.  -2.5]]\n"
     ]
    }
   ],
   "source": [
    "xx, yy = np.mgrid[1:3:0.5, -4:-2:0.5] # 0.5 간격으로 x(이자율)가 변합니다.   / 0.5간격으로 y(실업률)가 변합니다\n",
    "print(xx)\n",
    "print(yy)"
   ]
  },
  {
   "cell_type": "code",
   "execution_count": 52,
   "metadata": {},
   "outputs": [
    {
     "name": "stdout",
     "output_type": "stream",
     "text": [
      "[[0.5 5. ]\n",
      " [0.5 5.1]\n",
      " [0.5 5.2]\n",
      " [0.5 5.3]\n",
      " [0.5 5.4]\n",
      " [0.5 5.5]\n",
      " [0.5 5.6]\n",
      " [0.5 5.7]\n",
      " [0.5 5.8]\n",
      " [0.5 5.9]\n",
      " [0.5 6. ]\n",
      " [0.5 6.1]\n",
      " [0.5 6.2]\n",
      " [0.5 6.3]\n",
      " [0.5 6.4]\n",
      " [0.5 6.5]\n",
      " [0.5 6.6]\n",
      " [0.5 6.7]\n",
      " [0.5 6.8]\n",
      " [0.5 6.9]\n",
      " [0.6 5. ]\n",
      " [0.6 5.1]\n",
      " [0.6 5.2]\n",
      " [0.6 5.3]\n",
      " [0.6 5.4]\n",
      " [0.6 5.5]\n",
      " [0.6 5.6]\n",
      " [0.6 5.7]\n",
      " [0.6 5.8]\n",
      " [0.6 5.9]\n",
      " [0.6 6. ]\n",
      " [0.6 6.1]\n",
      " [0.6 6.2]\n",
      " [0.6 6.3]\n",
      " [0.6 6.4]\n",
      " [0.6 6.5]\n",
      " [0.6 6.6]\n",
      " [0.6 6.7]\n",
      " [0.6 6.8]\n",
      " [0.6 6.9]\n",
      " [0.7 5. ]\n",
      " [0.7 5.1]\n",
      " [0.7 5.2]\n",
      " [0.7 5.3]\n",
      " [0.7 5.4]\n",
      " [0.7 5.5]\n",
      " [0.7 5.6]\n",
      " [0.7 5.7]\n",
      " [0.7 5.8]\n",
      " [0.7 5.9]\n",
      " [0.7 6. ]\n",
      " [0.7 6.1]\n",
      " [0.7 6.2]\n",
      " [0.7 6.3]\n",
      " [0.7 6.4]\n",
      " [0.7 6.5]\n",
      " [0.7 6.6]\n",
      " [0.7 6.7]\n",
      " [0.7 6.8]\n",
      " [0.7 6.9]\n",
      " [0.8 5. ]\n",
      " [0.8 5.1]\n",
      " [0.8 5.2]\n",
      " [0.8 5.3]\n",
      " [0.8 5.4]\n",
      " [0.8 5.5]\n",
      " [0.8 5.6]\n",
      " [0.8 5.7]\n",
      " [0.8 5.8]\n",
      " [0.8 5.9]\n",
      " [0.8 6. ]\n",
      " [0.8 6.1]\n",
      " [0.8 6.2]\n",
      " [0.8 6.3]\n",
      " [0.8 6.4]\n",
      " [0.8 6.5]\n",
      " [0.8 6.6]\n",
      " [0.8 6.7]\n",
      " [0.8 6.8]\n",
      " [0.8 6.9]\n",
      " [0.9 5. ]\n",
      " [0.9 5.1]\n",
      " [0.9 5.2]\n",
      " [0.9 5.3]\n",
      " [0.9 5.4]\n",
      " [0.9 5.5]\n",
      " [0.9 5.6]\n",
      " [0.9 5.7]\n",
      " [0.9 5.8]\n",
      " [0.9 5.9]\n",
      " [0.9 6. ]\n",
      " [0.9 6.1]\n",
      " [0.9 6.2]\n",
      " [0.9 6.3]\n",
      " [0.9 6.4]\n",
      " [0.9 6.5]\n",
      " [0.9 6.6]\n",
      " [0.9 6.7]\n",
      " [0.9 6.8]\n",
      " [0.9 6.9]\n",
      " [1.  5. ]\n",
      " [1.  5.1]\n",
      " [1.  5.2]\n",
      " [1.  5.3]\n",
      " [1.  5.4]\n",
      " [1.  5.5]\n",
      " [1.  5.6]\n",
      " [1.  5.7]\n",
      " [1.  5.8]\n",
      " [1.  5.9]\n",
      " [1.  6. ]\n",
      " [1.  6.1]\n",
      " [1.  6.2]\n",
      " [1.  6.3]\n",
      " [1.  6.4]\n",
      " [1.  6.5]\n",
      " [1.  6.6]\n",
      " [1.  6.7]\n",
      " [1.  6.8]\n",
      " [1.  6.9]\n",
      " [1.1 5. ]\n",
      " [1.1 5.1]\n",
      " [1.1 5.2]\n",
      " [1.1 5.3]\n",
      " [1.1 5.4]\n",
      " [1.1 5.5]\n",
      " [1.1 5.6]\n",
      " [1.1 5.7]\n",
      " [1.1 5.8]\n",
      " [1.1 5.9]\n",
      " [1.1 6. ]\n",
      " [1.1 6.1]\n",
      " [1.1 6.2]\n",
      " [1.1 6.3]\n",
      " [1.1 6.4]\n",
      " [1.1 6.5]\n",
      " [1.1 6.6]\n",
      " [1.1 6.7]\n",
      " [1.1 6.8]\n",
      " [1.1 6.9]\n",
      " [1.2 5. ]\n",
      " [1.2 5.1]\n",
      " [1.2 5.2]\n",
      " [1.2 5.3]\n",
      " [1.2 5.4]\n",
      " [1.2 5.5]\n",
      " [1.2 5.6]\n",
      " [1.2 5.7]\n",
      " [1.2 5.8]\n",
      " [1.2 5.9]\n",
      " [1.2 6. ]\n",
      " [1.2 6.1]\n",
      " [1.2 6.2]\n",
      " [1.2 6.3]\n",
      " [1.2 6.4]\n",
      " [1.2 6.5]\n",
      " [1.2 6.6]\n",
      " [1.2 6.7]\n",
      " [1.2 6.8]\n",
      " [1.2 6.9]\n",
      " [1.3 5. ]\n",
      " [1.3 5.1]\n",
      " [1.3 5.2]\n",
      " [1.3 5.3]\n",
      " [1.3 5.4]\n",
      " [1.3 5.5]\n",
      " [1.3 5.6]\n",
      " [1.3 5.7]\n",
      " [1.3 5.8]\n",
      " [1.3 5.9]\n",
      " [1.3 6. ]\n",
      " [1.3 6.1]\n",
      " [1.3 6.2]\n",
      " [1.3 6.3]\n",
      " [1.3 6.4]\n",
      " [1.3 6.5]\n",
      " [1.3 6.6]\n",
      " [1.3 6.7]\n",
      " [1.3 6.8]\n",
      " [1.3 6.9]\n",
      " [1.4 5. ]\n",
      " [1.4 5.1]\n",
      " [1.4 5.2]\n",
      " [1.4 5.3]\n",
      " [1.4 5.4]\n",
      " [1.4 5.5]\n",
      " [1.4 5.6]\n",
      " [1.4 5.7]\n",
      " [1.4 5.8]\n",
      " [1.4 5.9]\n",
      " [1.4 6. ]\n",
      " [1.4 6.1]\n",
      " [1.4 6.2]\n",
      " [1.4 6.3]\n",
      " [1.4 6.4]\n",
      " [1.4 6.5]\n",
      " [1.4 6.6]\n",
      " [1.4 6.7]\n",
      " [1.4 6.8]\n",
      " [1.4 6.9]\n",
      " [1.5 5. ]\n",
      " [1.5 5.1]\n",
      " [1.5 5.2]\n",
      " [1.5 5.3]\n",
      " [1.5 5.4]\n",
      " [1.5 5.5]\n",
      " [1.5 5.6]\n",
      " [1.5 5.7]\n",
      " [1.5 5.8]\n",
      " [1.5 5.9]\n",
      " [1.5 6. ]\n",
      " [1.5 6.1]\n",
      " [1.5 6.2]\n",
      " [1.5 6.3]\n",
      " [1.5 6.4]\n",
      " [1.5 6.5]\n",
      " [1.5 6.6]\n",
      " [1.5 6.7]\n",
      " [1.5 6.8]\n",
      " [1.5 6.9]\n",
      " [1.6 5. ]\n",
      " [1.6 5.1]\n",
      " [1.6 5.2]\n",
      " [1.6 5.3]\n",
      " [1.6 5.4]\n",
      " [1.6 5.5]\n",
      " [1.6 5.6]\n",
      " [1.6 5.7]\n",
      " [1.6 5.8]\n",
      " [1.6 5.9]\n",
      " [1.6 6. ]\n",
      " [1.6 6.1]\n",
      " [1.6 6.2]\n",
      " [1.6 6.3]\n",
      " [1.6 6.4]\n",
      " [1.6 6.5]\n",
      " [1.6 6.6]\n",
      " [1.6 6.7]\n",
      " [1.6 6.8]\n",
      " [1.6 6.9]\n",
      " [1.7 5. ]\n",
      " [1.7 5.1]\n",
      " [1.7 5.2]\n",
      " [1.7 5.3]\n",
      " [1.7 5.4]\n",
      " [1.7 5.5]\n",
      " [1.7 5.6]\n",
      " [1.7 5.7]\n",
      " [1.7 5.8]\n",
      " [1.7 5.9]\n",
      " [1.7 6. ]\n",
      " [1.7 6.1]\n",
      " [1.7 6.2]\n",
      " [1.7 6.3]\n",
      " [1.7 6.4]\n",
      " [1.7 6.5]\n",
      " [1.7 6.6]\n",
      " [1.7 6.7]\n",
      " [1.7 6.8]\n",
      " [1.7 6.9]\n",
      " [1.8 5. ]\n",
      " [1.8 5.1]\n",
      " [1.8 5.2]\n",
      " [1.8 5.3]\n",
      " [1.8 5.4]\n",
      " [1.8 5.5]\n",
      " [1.8 5.6]\n",
      " [1.8 5.7]\n",
      " [1.8 5.8]\n",
      " [1.8 5.9]\n",
      " [1.8 6. ]\n",
      " [1.8 6.1]\n",
      " [1.8 6.2]\n",
      " [1.8 6.3]\n",
      " [1.8 6.4]\n",
      " [1.8 6.5]\n",
      " [1.8 6.6]\n",
      " [1.8 6.7]\n",
      " [1.8 6.8]\n",
      " [1.8 6.9]\n",
      " [1.9 5. ]\n",
      " [1.9 5.1]\n",
      " [1.9 5.2]\n",
      " [1.9 5.3]\n",
      " [1.9 5.4]\n",
      " [1.9 5.5]\n",
      " [1.9 5.6]\n",
      " [1.9 5.7]\n",
      " [1.9 5.8]\n",
      " [1.9 5.9]\n",
      " [1.9 6. ]\n",
      " [1.9 6.1]\n",
      " [1.9 6.2]\n",
      " [1.9 6.3]\n",
      " [1.9 6.4]\n",
      " [1.9 6.5]\n",
      " [1.9 6.6]\n",
      " [1.9 6.7]\n",
      " [1.9 6.8]\n",
      " [1.9 6.9]\n",
      " [2.  5. ]\n",
      " [2.  5.1]\n",
      " [2.  5.2]\n",
      " [2.  5.3]\n",
      " [2.  5.4]\n",
      " [2.  5.5]\n",
      " [2.  5.6]\n",
      " [2.  5.7]\n",
      " [2.  5.8]\n",
      " [2.  5.9]\n",
      " [2.  6. ]\n",
      " [2.  6.1]\n",
      " [2.  6.2]\n",
      " [2.  6.3]\n",
      " [2.  6.4]\n",
      " [2.  6.5]\n",
      " [2.  6.6]\n",
      " [2.  6.7]\n",
      " [2.  6.8]\n",
      " [2.  6.9]\n",
      " [2.1 5. ]\n",
      " [2.1 5.1]\n",
      " [2.1 5.2]\n",
      " [2.1 5.3]\n",
      " [2.1 5.4]\n",
      " [2.1 5.5]\n",
      " [2.1 5.6]\n",
      " [2.1 5.7]\n",
      " [2.1 5.8]\n",
      " [2.1 5.9]\n",
      " [2.1 6. ]\n",
      " [2.1 6.1]\n",
      " [2.1 6.2]\n",
      " [2.1 6.3]\n",
      " [2.1 6.4]\n",
      " [2.1 6.5]\n",
      " [2.1 6.6]\n",
      " [2.1 6.7]\n",
      " [2.1 6.8]\n",
      " [2.1 6.9]\n",
      " [2.2 5. ]\n",
      " [2.2 5.1]\n",
      " [2.2 5.2]\n",
      " [2.2 5.3]\n",
      " [2.2 5.4]\n",
      " [2.2 5.5]\n",
      " [2.2 5.6]\n",
      " [2.2 5.7]\n",
      " [2.2 5.8]\n",
      " [2.2 5.9]\n",
      " [2.2 6. ]\n",
      " [2.2 6.1]\n",
      " [2.2 6.2]\n",
      " [2.2 6.3]\n",
      " [2.2 6.4]\n",
      " [2.2 6.5]\n",
      " [2.2 6.6]\n",
      " [2.2 6.7]\n",
      " [2.2 6.8]\n",
      " [2.2 6.9]\n",
      " [2.3 5. ]\n",
      " [2.3 5.1]\n",
      " [2.3 5.2]\n",
      " [2.3 5.3]\n",
      " [2.3 5.4]\n",
      " [2.3 5.5]\n",
      " [2.3 5.6]\n",
      " [2.3 5.7]\n",
      " [2.3 5.8]\n",
      " [2.3 5.9]\n",
      " [2.3 6. ]\n",
      " [2.3 6.1]\n",
      " [2.3 6.2]\n",
      " [2.3 6.3]\n",
      " [2.3 6.4]\n",
      " [2.3 6.5]\n",
      " [2.3 6.6]\n",
      " [2.3 6.7]\n",
      " [2.3 6.8]\n",
      " [2.3 6.9]\n",
      " [2.4 5. ]\n",
      " [2.4 5.1]\n",
      " [2.4 5.2]\n",
      " [2.4 5.3]\n",
      " [2.4 5.4]\n",
      " [2.4 5.5]\n",
      " [2.4 5.6]\n",
      " [2.4 5.7]\n",
      " [2.4 5.8]\n",
      " [2.4 5.9]\n",
      " [2.4 6. ]\n",
      " [2.4 6.1]\n",
      " [2.4 6.2]\n",
      " [2.4 6.3]\n",
      " [2.4 6.4]\n",
      " [2.4 6.5]\n",
      " [2.4 6.6]\n",
      " [2.4 6.7]\n",
      " [2.4 6.8]\n",
      " [2.4 6.9]\n",
      " [2.5 5. ]\n",
      " [2.5 5.1]\n",
      " [2.5 5.2]\n",
      " [2.5 5.3]\n",
      " [2.5 5.4]\n",
      " [2.5 5.5]\n",
      " [2.5 5.6]\n",
      " [2.5 5.7]\n",
      " [2.5 5.8]\n",
      " [2.5 5.9]\n",
      " [2.5 6. ]\n",
      " [2.5 6.1]\n",
      " [2.5 6.2]\n",
      " [2.5 6.3]\n",
      " [2.5 6.4]\n",
      " [2.5 6.5]\n",
      " [2.5 6.6]\n",
      " [2.5 6.7]\n",
      " [2.5 6.8]\n",
      " [2.5 6.9]\n",
      " [2.6 5. ]\n",
      " [2.6 5.1]\n",
      " [2.6 5.2]\n",
      " [2.6 5.3]\n",
      " [2.6 5.4]\n",
      " [2.6 5.5]\n",
      " [2.6 5.6]\n",
      " [2.6 5.7]\n",
      " [2.6 5.8]\n",
      " [2.6 5.9]\n",
      " [2.6 6. ]\n",
      " [2.6 6.1]\n",
      " [2.6 6.2]\n",
      " [2.6 6.3]\n",
      " [2.6 6.4]\n",
      " [2.6 6.5]\n",
      " [2.6 6.6]\n",
      " [2.6 6.7]\n",
      " [2.6 6.8]\n",
      " [2.6 6.9]\n",
      " [2.7 5. ]\n",
      " [2.7 5.1]\n",
      " [2.7 5.2]\n",
      " [2.7 5.3]\n",
      " [2.7 5.4]\n",
      " [2.7 5.5]\n",
      " [2.7 5.6]\n",
      " [2.7 5.7]\n",
      " [2.7 5.8]\n",
      " [2.7 5.9]\n",
      " [2.7 6. ]\n",
      " [2.7 6.1]\n",
      " [2.7 6.2]\n",
      " [2.7 6.3]\n",
      " [2.7 6.4]\n",
      " [2.7 6.5]\n",
      " [2.7 6.6]\n",
      " [2.7 6.7]\n",
      " [2.7 6.8]\n",
      " [2.7 6.9]\n",
      " [2.8 5. ]\n",
      " [2.8 5.1]\n",
      " [2.8 5.2]\n",
      " [2.8 5.3]\n",
      " [2.8 5.4]\n",
      " [2.8 5.5]\n",
      " [2.8 5.6]\n",
      " [2.8 5.7]\n",
      " [2.8 5.8]\n",
      " [2.8 5.9]\n",
      " [2.8 6. ]\n",
      " [2.8 6.1]\n",
      " [2.8 6.2]\n",
      " [2.8 6.3]\n",
      " [2.8 6.4]\n",
      " [2.8 6.5]\n",
      " [2.8 6.6]\n",
      " [2.8 6.7]\n",
      " [2.8 6.8]\n",
      " [2.8 6.9]\n",
      " [2.9 5. ]\n",
      " [2.9 5.1]\n",
      " [2.9 5.2]\n",
      " [2.9 5.3]\n",
      " [2.9 5.4]\n",
      " [2.9 5.5]\n",
      " [2.9 5.6]\n",
      " [2.9 5.7]\n",
      " [2.9 5.8]\n",
      " [2.9 5.9]\n",
      " [2.9 6. ]\n",
      " [2.9 6.1]\n",
      " [2.9 6.2]\n",
      " [2.9 6.3]\n",
      " [2.9 6.4]\n",
      " [2.9 6.5]\n",
      " [2.9 6.6]\n",
      " [2.9 6.7]\n",
      " [2.9 6.8]\n",
      " [2.9 6.9]]\n"
     ]
    }
   ],
   "source": [
    "grid = np.c_[xx.flatten(),yy.flatten()] # c는 콘켄트레이트로 xx.flatten(),yy.flatten() 둘을 짝꿍해서 만들어 준다.\n",
    "print(grid)"
   ]
  },
  {
   "cell_type": "code",
   "execution_count": null,
   "metadata": {},
   "outputs": [],
   "source": []
  }
 ],
 "metadata": {
  "kernelspec": {
   "display_name": "Python 3",
   "language": "python",
   "name": "python3"
  },
  "language_info": {
   "codemirror_mode": {
    "name": "ipython",
    "version": 3
   },
   "file_extension": ".py",
   "mimetype": "text/x-python",
   "name": "python",
   "nbconvert_exporter": "python",
   "pygments_lexer": "ipython3",
   "version": "3.7.6"
  },
  "toc": {
   "base_numbering": 1,
   "nav_menu": {},
   "number_sections": false,
   "sideBar": true,
   "skip_h1_title": false,
   "title_cell": "Table of Contents",
   "title_sidebar": "Contents",
   "toc_cell": false,
   "toc_position": {},
   "toc_section_display": true,
   "toc_window_display": false
  }
 },
 "nbformat": 4,
 "nbformat_minor": 4
}
