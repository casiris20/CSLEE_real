{
 "cells": [
  {
   "cell_type": "code",
   "execution_count": 1,
   "metadata": {},
   "outputs": [],
   "source": [
    "import numpy as np\n",
    "import pandas as pd\n",
    "from sklearn import datasets # sklearn => 사이키런\n",
    "from sklearn.linear_model import LinearRegression\n",
    "import matplotlib.pyplot as plt\n",
    "from sklearn.linear_model import LogisticRegression"
   ]
  },
  {
   "cell_type": "markdown",
   "metadata": {},
   "source": [
    "# 회귀분석이란?\n",
    "- 회귀분석(regression analysis)은  D 차원 벡터 독립 변수  x 와 이에 대응하는 스칼라 종속 변수  y 간의 관계를 정량적으로 찾아내는 작업이다.\n",
    "\n",
    "- 회귀분석에는 결정론적 모형(deterministic Model)과 확률적 모형(probabilistic Model)이 있다. 우선 결정론적 모형부터 설명한다. 결정론적 회귀분석 모형은 독립 변수  x 에 대해 대응하는 종속 변수  y 와 가장 비슷한 값  y^ 를 출력하는 함수  f(x) 를 찾는 과정이다.\n",
    "\n",
    "                    y^=f(x)≈y\n",
    "\n",
    "## 선형회귀분석\n",
    "- 만약 독립 변수  x 와 이에 대응하는 종속 변수  y 간의 관계가 다음과 같은 선형 함수  f(x) 이면 선형 회귀분석(linear regression analysis)이라고 한다.\n",
    "\n",
    "            y^=w0+w1x1+w2x2+⋯+wDxD=w0+wTx\n",
    " \n",
    "- 위 식에서  w0,⋯,wD 를 함수  f(x) 의 계수(coefficient)이자 이 선형 회귀모형의 모수(parameter)라고 한다.\n",
    "\n",
    "https://datascienceschool.net/view-notebook/58269d7f52bd49879965cdc4721da42d/"
   ]
  },
  {
   "cell_type": "markdown",
   "metadata": {},
   "source": [
    "# 로지스틱 회귀분석¶\n",
    "\n",
    "- 로지스틱(Logistic) 회귀분석은 회귀분석이라는 명칭과 달리 회귀분석 문제와 분류문제 모두에 사용할 수 있다. 로지스틱 회귀분석 모형에서는 종속변수가 이항분포를 따르고 그 모수  μ 가 독립변수  x 에 의존한다고 가정한다.\n",
    "\n",
    "        p(y∣x)=Bin(y;μ(x),N)\n",
    " \n",
    "- 위 식에서 보듯이 로지스틱 함수는  y 의 값이 특정한 구간내의 값( 0∼N )만 가질 수 있기 때문에 종속변수가 이러한 특성을 가진 경우에 회귀분석 방법으로 쓸 수 있다.\n",
    "\n",
    "- 또는 이항 분포의 특별한 경우( N=1 )로  y 가 베르누이 확률분포인 경우도 있을 수 있다. 여기에서는 베르누이 확률분포를 따르는 로지스틱 회귀분석만 고려하기로 한다.\n",
    "\n",
    "            p(y∣x)=Bern(y;μ(x))\n",
    " \n",
    "- 종속변수  y 가 0또는 1인 분류 예측 문제를 풀 때는  x  값을 이용하여  μ(x) 를 예측한 후 다음 기준에 따라  y^ 값을 출력한다.\n",
    "\n",
    "            y^={10 if μ(x)≥0.5 if μ(x)<0.5\n",
    " \n",
    "- 회귀분석을 할 때는  y^ 으로  y=1 이 될 확률값  μ(x) 를 직접 사용한다.\n",
    "\n",
    "                y^=μ(x)\n",
    " \n",
    "## 시그모이드함수¶\n",
    "- 로지스틱 회귀모형에서는 베르누이 확률분포의 모수  μ 가  x 의 함수라고 가정한다.  μ(x) 는  x 에 대한 함수를 0부터 1사이의 값만 나올 수 있도록 시그모이드함수(sigmoid function)라는 함수를 사용하여 변형한 것을 사용한다.\n",
    "\n",
    "- 시그모이드함수는 종속변수의 모든 실수 값에 대해 유한한 구간  (a,b)  사이의 한정된(bounded) 값을 가지고\n",
    "\n",
    "            a<f(x)<b\n",
    " \n",
    "- 항상 양의 기울기를 가지는 단조증가하는\n",
    "            \n",
    "            a>b→f(a)>f(b)\n",
    " \n",
    "함수의 집합을 말한다. 실제로는 다음과 같은 함수들이 주로 사용된다.\n",
    "\n",
    "- 로지스틱(Logistic)함수\n",
    "    \n",
    "        logitstic(z)=σ(z)=11+exp(−z)\n",
    " \n",
    "- 하이퍼볼릭탄젠트(Hyperbolic tangent)함수\n",
    "    \n",
    "        tanh(z)=sinhzcoshz=(ez−e−z)/2(ez+e−z)/2=2σ(2z)−1\n",
    " \n",
    "- 오차(error)함수\n",
    "    \n",
    "        erf(z)=2π−−√∫z0e−t2dt\n",
    " \n",
    "하이퍼볼릭탄젠트함수는 로지스틱함수를 위아래 방향으로 2배 늘리고 좌우 방향으로 1/2로 축소한 것과 같다."
   ]
  },
  {
   "cell_type": "markdown",
   "metadata": {},
   "source": [
    "https://uncoded.tistory.com/entry/Python%EC%9C%BC%EB%A1%9C-Logistic-Regression-%EA%B5%AC%ED%98%84%ED%95%98%EA%B8%B0"
   ]
  },
  {
   "cell_type": "markdown",
   "metadata": {},
   "source": [
    "# 와인으로 '선형회귀분석' 공부하기"
   ]
  },
  {
   "cell_type": "code",
   "execution_count": 2,
   "metadata": {},
   "outputs": [],
   "source": [
    "redwine = pd.read_csv(\"https://archive.ics.uci.edu/ml/machine-learning-databases/wine-quality/winequality-red.csv\", sep=\";\", header=0)\n",
    "redwine[\"type\"] = \"red\"\n",
    "whitewine = pd.read_csv(\"https://archive.ics.uci.edu/ml/machine-learning-databases/wine-quality/winequality-white.csv\", sep=\";\", header=0)\n",
    "whitewine[\"type\"] = \"white\"\n",
    "wine = redwine.append(whitewine)    #redwine에 whitewine을 붙여라.(밑으로 붙였네~)"
   ]
  },
  {
   "cell_type": "code",
   "execution_count": 6,
   "metadata": {},
   "outputs": [
    {
     "name": "stdout",
     "output_type": "stream",
     "text": [
      "(1599, 13)\n",
      "(4898, 13)\n",
      "(6497, 13)\n"
     ]
    }
   ],
   "source": [
    "print(redwine.shape)\n",
    "print(whitewine.shape)\n",
    "print(wine.shape) # 전체 set이 wine set이다."
   ]
  },
  {
   "cell_type": "code",
   "execution_count": 7,
   "metadata": {},
   "outputs": [
    {
     "data": {
      "text/html": [
       "<div>\n",
       "<style scoped>\n",
       "    .dataframe tbody tr th:only-of-type {\n",
       "        vertical-align: middle;\n",
       "    }\n",
       "\n",
       "    .dataframe tbody tr th {\n",
       "        vertical-align: top;\n",
       "    }\n",
       "\n",
       "    .dataframe thead th {\n",
       "        text-align: right;\n",
       "    }\n",
       "</style>\n",
       "<table border=\"1\" class=\"dataframe\">\n",
       "  <thead>\n",
       "    <tr style=\"text-align: right;\">\n",
       "      <th></th>\n",
       "      <th>fixed acidity</th>\n",
       "      <th>volatile acidity</th>\n",
       "      <th>citric acid</th>\n",
       "      <th>residual sugar</th>\n",
       "      <th>chlorides</th>\n",
       "      <th>free sulfur dioxide</th>\n",
       "      <th>total sulfur dioxide</th>\n",
       "      <th>density</th>\n",
       "      <th>pH</th>\n",
       "      <th>sulphates</th>\n",
       "      <th>alcohol</th>\n",
       "      <th>quality</th>\n",
       "      <th>type</th>\n",
       "    </tr>\n",
       "  </thead>\n",
       "  <tbody>\n",
       "    <tr>\n",
       "      <th>0</th>\n",
       "      <td>7.4</td>\n",
       "      <td>0.70</td>\n",
       "      <td>0.00</td>\n",
       "      <td>1.9</td>\n",
       "      <td>0.076</td>\n",
       "      <td>11.0</td>\n",
       "      <td>34.0</td>\n",
       "      <td>0.9978</td>\n",
       "      <td>3.51</td>\n",
       "      <td>0.56</td>\n",
       "      <td>9.4</td>\n",
       "      <td>5</td>\n",
       "      <td>red</td>\n",
       "    </tr>\n",
       "    <tr>\n",
       "      <th>1</th>\n",
       "      <td>7.8</td>\n",
       "      <td>0.88</td>\n",
       "      <td>0.00</td>\n",
       "      <td>2.6</td>\n",
       "      <td>0.098</td>\n",
       "      <td>25.0</td>\n",
       "      <td>67.0</td>\n",
       "      <td>0.9968</td>\n",
       "      <td>3.20</td>\n",
       "      <td>0.68</td>\n",
       "      <td>9.8</td>\n",
       "      <td>5</td>\n",
       "      <td>red</td>\n",
       "    </tr>\n",
       "    <tr>\n",
       "      <th>2</th>\n",
       "      <td>7.8</td>\n",
       "      <td>0.76</td>\n",
       "      <td>0.04</td>\n",
       "      <td>2.3</td>\n",
       "      <td>0.092</td>\n",
       "      <td>15.0</td>\n",
       "      <td>54.0</td>\n",
       "      <td>0.9970</td>\n",
       "      <td>3.26</td>\n",
       "      <td>0.65</td>\n",
       "      <td>9.8</td>\n",
       "      <td>5</td>\n",
       "      <td>red</td>\n",
       "    </tr>\n",
       "    <tr>\n",
       "      <th>3</th>\n",
       "      <td>11.2</td>\n",
       "      <td>0.28</td>\n",
       "      <td>0.56</td>\n",
       "      <td>1.9</td>\n",
       "      <td>0.075</td>\n",
       "      <td>17.0</td>\n",
       "      <td>60.0</td>\n",
       "      <td>0.9980</td>\n",
       "      <td>3.16</td>\n",
       "      <td>0.58</td>\n",
       "      <td>9.8</td>\n",
       "      <td>6</td>\n",
       "      <td>red</td>\n",
       "    </tr>\n",
       "    <tr>\n",
       "      <th>4</th>\n",
       "      <td>7.4</td>\n",
       "      <td>0.70</td>\n",
       "      <td>0.00</td>\n",
       "      <td>1.9</td>\n",
       "      <td>0.076</td>\n",
       "      <td>11.0</td>\n",
       "      <td>34.0</td>\n",
       "      <td>0.9978</td>\n",
       "      <td>3.51</td>\n",
       "      <td>0.56</td>\n",
       "      <td>9.4</td>\n",
       "      <td>5</td>\n",
       "      <td>red</td>\n",
       "    </tr>\n",
       "  </tbody>\n",
       "</table>\n",
       "</div>"
      ],
      "text/plain": [
       "   fixed acidity  volatile acidity  citric acid  residual sugar  chlorides  \\\n",
       "0            7.4              0.70         0.00             1.9      0.076   \n",
       "1            7.8              0.88         0.00             2.6      0.098   \n",
       "2            7.8              0.76         0.04             2.3      0.092   \n",
       "3           11.2              0.28         0.56             1.9      0.075   \n",
       "4            7.4              0.70         0.00             1.9      0.076   \n",
       "\n",
       "   free sulfur dioxide  total sulfur dioxide  density    pH  sulphates  \\\n",
       "0                 11.0                  34.0   0.9978  3.51       0.56   \n",
       "1                 25.0                  67.0   0.9968  3.20       0.68   \n",
       "2                 15.0                  54.0   0.9970  3.26       0.65   \n",
       "3                 17.0                  60.0   0.9980  3.16       0.58   \n",
       "4                 11.0                  34.0   0.9978  3.51       0.56   \n",
       "\n",
       "   alcohol  quality type  \n",
       "0      9.4        5  red  \n",
       "1      9.8        5  red  \n",
       "2      9.8        5  red  \n",
       "3      9.8        6  red  \n",
       "4      9.4        5  red  "
      ]
     },
     "execution_count": 7,
     "metadata": {},
     "output_type": "execute_result"
    }
   ],
   "source": [
    "wine.head()"
   ]
  },
  {
   "cell_type": "code",
   "execution_count": 9,
   "metadata": {
    "collapsed": true
   },
   "outputs": [
    {
     "data": {
      "text/html": [
       "<div>\n",
       "<style scoped>\n",
       "    .dataframe tbody tr th:only-of-type {\n",
       "        vertical-align: middle;\n",
       "    }\n",
       "\n",
       "    .dataframe tbody tr th {\n",
       "        vertical-align: top;\n",
       "    }\n",
       "\n",
       "    .dataframe thead th {\n",
       "        text-align: right;\n",
       "    }\n",
       "</style>\n",
       "<table border=\"1\" class=\"dataframe\">\n",
       "  <thead>\n",
       "    <tr style=\"text-align: right;\">\n",
       "      <th></th>\n",
       "      <th>fixed acidity</th>\n",
       "      <th>volatile acidity</th>\n",
       "      <th>citric acid</th>\n",
       "      <th>residual sugar</th>\n",
       "      <th>chlorides</th>\n",
       "      <th>free sulfur dioxide</th>\n",
       "      <th>total sulfur dioxide</th>\n",
       "      <th>density</th>\n",
       "      <th>pH</th>\n",
       "      <th>sulphates</th>\n",
       "      <th>alcohol</th>\n",
       "    </tr>\n",
       "  </thead>\n",
       "  <tbody>\n",
       "    <tr>\n",
       "      <th>0</th>\n",
       "      <td>7.4</td>\n",
       "      <td>0.70</td>\n",
       "      <td>0.00</td>\n",
       "      <td>1.9</td>\n",
       "      <td>0.076</td>\n",
       "      <td>11.0</td>\n",
       "      <td>34.0</td>\n",
       "      <td>0.9978</td>\n",
       "      <td>3.51</td>\n",
       "      <td>0.56</td>\n",
       "      <td>9.4</td>\n",
       "    </tr>\n",
       "    <tr>\n",
       "      <th>1</th>\n",
       "      <td>7.8</td>\n",
       "      <td>0.88</td>\n",
       "      <td>0.00</td>\n",
       "      <td>2.6</td>\n",
       "      <td>0.098</td>\n",
       "      <td>25.0</td>\n",
       "      <td>67.0</td>\n",
       "      <td>0.9968</td>\n",
       "      <td>3.20</td>\n",
       "      <td>0.68</td>\n",
       "      <td>9.8</td>\n",
       "    </tr>\n",
       "    <tr>\n",
       "      <th>2</th>\n",
       "      <td>7.8</td>\n",
       "      <td>0.76</td>\n",
       "      <td>0.04</td>\n",
       "      <td>2.3</td>\n",
       "      <td>0.092</td>\n",
       "      <td>15.0</td>\n",
       "      <td>54.0</td>\n",
       "      <td>0.9970</td>\n",
       "      <td>3.26</td>\n",
       "      <td>0.65</td>\n",
       "      <td>9.8</td>\n",
       "    </tr>\n",
       "    <tr>\n",
       "      <th>3</th>\n",
       "      <td>11.2</td>\n",
       "      <td>0.28</td>\n",
       "      <td>0.56</td>\n",
       "      <td>1.9</td>\n",
       "      <td>0.075</td>\n",
       "      <td>17.0</td>\n",
       "      <td>60.0</td>\n",
       "      <td>0.9980</td>\n",
       "      <td>3.16</td>\n",
       "      <td>0.58</td>\n",
       "      <td>9.8</td>\n",
       "    </tr>\n",
       "    <tr>\n",
       "      <th>4</th>\n",
       "      <td>7.4</td>\n",
       "      <td>0.70</td>\n",
       "      <td>0.00</td>\n",
       "      <td>1.9</td>\n",
       "      <td>0.076</td>\n",
       "      <td>11.0</td>\n",
       "      <td>34.0</td>\n",
       "      <td>0.9978</td>\n",
       "      <td>3.51</td>\n",
       "      <td>0.56</td>\n",
       "      <td>9.4</td>\n",
       "    </tr>\n",
       "  </tbody>\n",
       "</table>\n",
       "</div>"
      ],
      "text/plain": [
       "   fixed acidity  volatile acidity  citric acid  residual sugar  chlorides  \\\n",
       "0            7.4              0.70         0.00             1.9      0.076   \n",
       "1            7.8              0.88         0.00             2.6      0.098   \n",
       "2            7.8              0.76         0.04             2.3      0.092   \n",
       "3           11.2              0.28         0.56             1.9      0.075   \n",
       "4            7.4              0.70         0.00             1.9      0.076   \n",
       "\n",
       "   free sulfur dioxide  total sulfur dioxide  density    pH  sulphates  \\\n",
       "0                 11.0                  34.0   0.9978  3.51       0.56   \n",
       "1                 25.0                  67.0   0.9968  3.20       0.68   \n",
       "2                 15.0                  54.0   0.9970  3.26       0.65   \n",
       "3                 17.0                  60.0   0.9980  3.16       0.58   \n",
       "4                 11.0                  34.0   0.9978  3.51       0.56   \n",
       "\n",
       "   alcohol  \n",
       "0      9.4  \n",
       "1      9.8  \n",
       "2      9.8  \n",
       "3      9.8  \n",
       "4      9.4  "
      ]
     },
     "execution_count": 9,
     "metadata": {},
     "output_type": "execute_result"
    }
   ],
   "source": [
    "X = wine.drop(['type','quality'], axis = 1)\n",
    "X.shape\n",
    "X.head()"
   ]
  },
  {
   "cell_type": "code",
   "execution_count": 11,
   "metadata": {
    "scrolled": true
   },
   "outputs": [
    {
     "name": "stdout",
     "output_type": "stream",
     "text": [
      "(6497,)\n",
      "0       5\n",
      "1       5\n",
      "2       5\n",
      "3       6\n",
      "4       5\n",
      "       ..\n",
      "4893    6\n",
      "4894    5\n",
      "4895    6\n",
      "4896    7\n",
      "4897    6\n",
      "Name: quality, Length: 6497, dtype: int64\n"
     ]
    }
   ],
   "source": [
    "y = wine.quality # y는 '실제데이터'를 의미한다.\n",
    "print(y.shape)\n",
    "print(y)        # 실제데이터 quality 를 보여준다."
   ]
  },
  {
   "cell_type": "code",
   "execution_count": 12,
   "metadata": {},
   "outputs": [],
   "source": [
    "regr = LinearRegression()\n",
    "# LinearRegression :  선형회귀 문제 풀기... -> 직선을 선형알고리즘으로 보면서 푼다는 뜻."
   ]
  },
  {
   "cell_type": "code",
   "execution_count": 13,
   "metadata": {},
   "outputs": [
    {
     "data": {
      "text/plain": [
       "LinearRegression(copy_X=True, fit_intercept=True, n_jobs=None, normalize=False)"
      ]
     },
     "execution_count": 13,
     "metadata": {},
     "output_type": "execute_result"
    }
   ],
   "source": [
    "regr.fit(X,y) # X(전체 데이터), y(실제데이터 quality)를 넣어주면 알아서 학습해준다.\n",
    "#fit : '학습시켜주세요!!'라고 하는 함수"
   ]
  },
  {
   "cell_type": "code",
   "execution_count": 14,
   "metadata": {},
   "outputs": [
    {
     "name": "stdout",
     "output_type": "stream",
     "text": [
      "4.997607397150453\n",
      "4.924992756593674\n"
     ]
    }
   ],
   "source": [
    "#예측해봅시다.\n",
    "r = regr.predict(X) \n",
    "print(r[0]) # 첫번째 와인 등급 => 실제 데이터는 5\n",
    "print(r[1]) # 두번째 와인 등급"
   ]
  },
  {
   "cell_type": "code",
   "execution_count": 19,
   "metadata": {},
   "outputs": [
    {
     "name": "stdout",
     "output_type": "stream",
     "text": [
      "선형회귀로 예측된 qulity 값: [4.9976074  4.92499276 5.03466303 ... 5.41936126 6.43265584 6.2057268 ]\n",
      "오차: 0       0.002393\n",
      "1       0.075007\n",
      "2       0.034663\n",
      "3       0.319667\n",
      "4       0.002393\n",
      "          ...   \n",
      "4893    0.168984\n",
      "4894    0.608278\n",
      "4895    0.580639\n",
      "4896    0.567344\n",
      "4897    0.205727\n",
      "Name: quality, Length: 6497, dtype: float64\n",
      "오차평균: 0.568315902311135\n"
     ]
    }
   ],
   "source": [
    "r = regr.predict(X) # r = 선형회귀로 예측된 qulity 값\n",
    "print('선형회귀로 예측된 qulity 값:',r)\n",
    "print('오차:',np.abs(y-r)) # y(실제데이터) 와 r(선형 회귀예측데이터)의 차이 = 오차\n",
    "# 오차를 구해보니, 엄청 작다는 것을 알 수 있음.\n",
    "print('오차평균:',np.mean(np.abs(y-r))) \n",
    "# 평균적으로 0.56정도만 오차가 난다... \n",
    "#이 오차가 작은 것인지.. 큰것인지..'사장님'은 잘 모른다ㅠㅠ"
   ]
  },
  {
   "cell_type": "code",
   "execution_count": 22,
   "metadata": {},
   "outputs": [
    {
     "name": "stdout",
     "output_type": "stream",
     "text": [
      "[5. 5. 5. ... 5. 6. 6.]\n",
      "=======================================\n",
      "0       0.0\n",
      "1       0.0\n",
      "2       0.0\n",
      "3       0.0\n",
      "4       0.0\n",
      "       ... \n",
      "4893    0.0\n",
      "4894    1.0\n",
      "4895   -1.0\n",
      "4896   -1.0\n",
      "4897    0.0\n",
      "Name: quality, Length: 6497, dtype: float64\n",
      "=======================================\n"
     ]
    },
    {
     "data": {
      "text/plain": [
       "[<matplotlib.lines.Line2D at 0x206b2669a48>]"
      ]
     },
     "execution_count": 22,
     "metadata": {},
     "output_type": "execute_result"
    },
    {
     "data": {
      "image/png": "[encoded data removed]",
      "text/plain": [
       "<Figure size 432x288 with 1 Axes>"
      ]
     },
     "metadata": {
      "needs_background": "light"
     },
     "output_type": "display_data"
    }
   ],
   "source": [
    "r = regr.predict(X)\n",
    "print(np.round(r)) # 등급을 반올림한다.\n",
    "\n",
    "print('=======================================')\n",
    "\n",
    "result = np.round(r)-y\n",
    "print(result)\n",
    "# result가 0 이면? : 정확히 예측했다는 의미\n",
    "\n",
    "print('=======================================')\n",
    "\n",
    "plt.plot(result, '^')\n",
    "# 오류(-3~4)가 어떻게 분포가 되어있는지 시각적으로 평가 가능\n",
    "# result = np.round(r) - y     이 '0'일때가 '정확히' 맞췄다는 의미\n",
    "# 4에 분포되어있는 것은 실제갑이랑 등급이 4나 차이난다는 것.. 완전 못했네:)"
   ]
  },
  {
   "cell_type": "code",
   "execution_count": 32,
   "metadata": {},
   "outputs": [
    {
     "name": "stdout",
     "output_type": "stream",
     "text": [
      "0        True\n",
      "1        True\n",
      "2        True\n",
      "3        True\n",
      "4        True\n",
      "        ...  \n",
      "4893     True\n",
      "4894    False\n",
      "4895    False\n",
      "4896    False\n",
      "4897     True\n",
      "Name: quality, Length: 6497, dtype: bool\n",
      "=======================================================\n",
      "정확히 맞춘 갯수: 3465\n",
      "=======================================================\n",
      "\"1\"정도 오차 허용으로 맞춘 갯수: 6169\n"
     ]
    }
   ],
   "source": [
    "np.round(r) - y == 0\n",
    "# 결과(오차)가 0 이니? 하고 묻는 함수\n",
    "\n",
    "print(np.round(r) - y == 0)\n",
    "print('=======================================================')\n",
    "\n",
    "\n",
    "np.sum(np.round(r) - y == 0)\n",
    "# 오차가 '0'이 3465개 있다. 전체 데이터 중에서 3465개는 정확히 맞추었다는 의미.\n",
    "# 전체데이터가 6천 몇개인데 잘 맞춘 것은 아니라고 볼 수 있네^^(사장님 입장)\n",
    "# 사장님..근데 너무 야박하지 않니..?\n",
    "\n",
    "\n",
    "print('정확히 맞춘 갯수:',np.sum(np.round(r) - y == 0))\n",
    "print('=======================================================')\n",
    "\n",
    "\n",
    "np.sum(np.abs(np.round(r)-y)<=1)\n",
    "\n",
    "\n",
    "\n",
    "\n",
    "# 야박하니깐, 1정도의 등급차이는 봐주자!!! \n",
    "# 1등급 정도의 오차는 괜찮다!!! 라고 이야기해야지:)사장님한테..\n",
    "# 이렇게 보고하면 '6169개의 맞았네^^ 쓸만하네~'' 라고 사장님이 생각할 수 있음\n",
    "print('\"1\"정도 오차 허용으로 맞춘 갯수:',np.sum(np.abs(np.round(r)-y)<=1))"
   ]
  },
  {
   "cell_type": "code",
   "execution_count": 36,
   "metadata": {},
   "outputs": [
    {
     "data": {
      "text/plain": [
       "0.9495151608434662"
      ]
     },
     "execution_count": 36,
     "metadata": {},
     "output_type": "execute_result"
    }
   ],
   "source": [
    "y.size # y의 데이터 갯수 = 6497\n",
    "\n",
    "#결론 : '와인의 품질을 맞출 확률은 약 95%입니다.' 라고 보고할 수 있다^^\n",
    "np.sum(np.abs(np.round(r)-y)<=1) / y.size"
   ]
  },
  {
   "cell_type": "markdown",
   "metadata": {},
   "source": [
    "### 선형회귀분석¶\n",
    "- 만약 독립 변수 x 와 이에 대응하는 종속 변수 y 간의 관계가 다음과 같은 선형 함수 f(x) 이면 선형 회귀분석(linear regression analysis)이라고 한다.\n",
    "\n",
    "      y^=w0+w1x1+w2x2+⋯+wDxD=w0+wTx\n",
    "- 위 식에서 w0,⋯,wD 를 함수 f(x) 의 계수(coefficient)이자 이 선형 회귀모형의 모수(parameter)라고 한다."
   ]
  },
  {
   "cell_type": "code",
   "execution_count": 40,
   "metadata": {},
   "outputs": [
    {
     "name": "stdout",
     "output_type": "stream",
     "text": [
      "[ 6.76839156e-02 -1.32789221e+00 -1.09656648e-01  4.35587507e-02\n",
      " -4.83713531e-01  5.96988830e-03 -2.48129841e-03 -5.49669422e+01\n",
      "  4.39296072e-01  7.68251760e-01  2.67030009e-01]\n"
     ]
    },
    {
     "data": {
      "text/plain": [
       "[<matplotlib.lines.Line2D at 0x206b2753908>]"
      ]
     },
     "execution_count": 40,
     "metadata": {},
     "output_type": "execute_result"
    },
    {
     "data": {
      "image/png": "[encoded data removed]",
      "text/plain": [
       "<Figure size 432x288 with 1 Axes>"
      ]
     },
     "metadata": {
      "needs_background": "light"
     },
     "output_type": "display_data"
    }
   ],
   "source": [
    "print(regr.coef_)  \n",
    "\n",
    "plt.plot(regr.coef_)\n",
    "\n",
    "# 그래프 의미 : w를 다 출력해보았더니 나오는 것... \n",
    "# 7번째가 반비례 관계(음의 관계)가 있어, 'quality'에 심각한 영향을 준다는 의미\n",
    "# 7번째 (실지적으로 8번째 컬럼) => PH \n",
    "# pH가 높으면, quality가 안좋다는 의미...\n",
    "# 결론 : 좋은 quality 등급을 위하여, pH는 낮아야 한다. "
   ]
  },
  {
   "cell_type": "code",
   "execution_count": 44,
   "metadata": {},
   "outputs": [
    {
     "name": "stdout",
     "output_type": "stream",
     "text": [
      "[-108.62542255]\n",
      "[4.9976074]\n"
     ]
    }
   ],
   "source": [
    "# 직접 '선형회귀'에다 새로운 wine 의 데이터를 넣어보자.\n",
    "s = np.array([7.4,0.5,0.2,0.3,0.2,0.4,0.2,3,-0.4,1.0,0.7])\n",
    "print(regr.predict([s])) # 말도 안되는 등급인 -108등급 나왔다. \n",
    "\n",
    "z = np.array([7.4,0.700,0.00,1.9,0.076,11.0,34.0,0.99780,3.51,0.56,9.4])\n",
    "print(regr.predict([z])) # 4.99등급(약 5등급)이 나왔다."
   ]
  },
  {
   "cell_type": "markdown",
   "metadata": {},
   "source": [
    "# 랜덤 100개 숫자 뽑아내서, 선형회귀분석 공부하기"
   ]
  },
  {
   "cell_type": "code",
   "execution_count": 145,
   "metadata": {},
   "outputs": [
    {
     "name": "stdout",
     "output_type": "stream",
     "text": [
      "[[ 1.26663381 -0.04938483]\n",
      " [-1.07936903 -0.20175382]\n",
      " [-0.5329683   0.41679468]\n",
      " [-0.76447537  1.06083298]\n",
      " [ 1.16578298 -0.8231462 ]\n",
      " [ 0.41266785 -1.51082504]\n",
      " [ 0.64967653  0.1830828 ]\n",
      " [ 0.24080463  0.50280577]\n",
      " [ 0.22693999 -1.42026637]\n",
      " [ 0.23936073 -0.09222655]\n",
      " [ 0.62849689  1.52882622]\n",
      " [ 0.11242365 -0.56301138]\n",
      " [-1.5699035   0.10557744]\n",
      " [ 0.61986385 -0.65799917]\n",
      " [-0.11535419  1.07364095]\n",
      " [-0.14812445 -1.12081519]\n",
      " [ 0.18682532 -0.3479458 ]\n",
      " [-1.61154717 -0.54685339]\n",
      " [-0.69335014 -0.21065578]\n",
      " [-0.52136674  0.28261621]\n",
      " [-0.08635637 -1.35016178]\n",
      " [ 0.18269258 -0.82901741]\n",
      " [ 0.51797813  0.15956859]\n",
      " [ 1.55604413 -1.5309706 ]\n",
      " [ 0.91962106 -0.30468181]\n",
      " [ 2.18822414  0.35675492]\n",
      " [ 0.18056506  0.05808393]\n",
      " [-1.21855393  1.13272668]\n",
      " [-0.09502566  0.40858605]\n",
      " [-0.9563929  -0.16802152]\n",
      " [ 0.53651259 -0.49263391]\n",
      " [ 0.27690785  0.82699167]\n",
      " [ 0.81679227  1.02468103]\n",
      " [-0.99394309  0.63977599]\n",
      " [-1.53227131 -1.59477995]\n",
      " [ 0.77621146  0.84220425]\n",
      " [-2.01322035  0.48330052]\n",
      " [ 1.46922072  0.47568361]\n",
      " [-0.43564155 -1.00025667]\n",
      " [ 1.64998384 -0.80566689]\n",
      " [ 0.75684482  0.21823134]\n",
      " [-0.44456686  0.20422947]\n",
      " [-0.50779395  1.9931329 ]\n",
      " [-1.09078942  0.36896963]\n",
      " [-0.58273442 -0.23400905]\n",
      " [ 0.35295789  0.63926067]\n",
      " [-1.97673834 -1.90578054]\n",
      " [-0.89545566  0.14943016]\n",
      " [-0.1092215   0.86123583]\n",
      " [ 1.06326169  0.35350088]\n",
      " [-0.97928314  1.7490387 ]\n",
      " [ 0.31590988 -0.23782523]\n",
      " [-0.37402268  0.4804362 ]\n",
      " [ 1.00677401 -0.23651066]\n",
      " [-0.68991026 -1.20996159]\n",
      " [-0.10828966 -0.5504967 ]\n",
      " [ 1.34586267  0.62419841]\n",
      " [ 2.31172293  0.19324892]\n",
      " [ 0.25132508  0.7142063 ]\n",
      " [ 1.27897972  0.30327357]\n",
      " [ 0.03377837  1.64177453]\n",
      " [-2.19498114 -0.06337804]\n",
      " [-1.97378379  0.17593883]\n",
      " [-0.25309642 -1.11667544]\n",
      " [ 0.2503412  -0.72525557]\n",
      " [-1.47359912 -0.44203693]\n",
      " [ 1.59474967  0.79151064]\n",
      " [-1.1565652   1.40950334]\n",
      " [-0.07834134  1.60684702]\n",
      " [-0.46742285 -1.90067781]\n",
      " [ 0.84106516  2.15557917]\n",
      " [ 0.59769688 -1.00651736]\n",
      " [ 0.68433501  0.41576771]\n",
      " [ 2.00156728 -1.34138087]\n",
      " [ 0.94425754  0.41804026]\n",
      " [-0.82230234  0.44628543]\n",
      " [-1.0996765   1.58894144]\n",
      " [ 0.71805898 -1.89516016]\n",
      " [-2.15232987  1.41407964]\n",
      " [ 0.23112611 -0.67277077]\n",
      " [-1.00792076 -0.32937906]\n",
      " [ 0.22402458  0.42870391]\n",
      " [ 0.63710384  0.95098193]\n",
      " [ 0.10742856  0.50249282]\n",
      " [-0.41992932  0.59726585]\n",
      " [-1.35022934  0.36736692]\n",
      " [ 1.0608072  -0.57599114]\n",
      " [-0.07680526 -0.60441618]\n",
      " [-0.1045312   1.11798485]\n",
      " [-2.79088271  0.61959543]\n",
      " [ 2.15583028  0.13645286]\n",
      " [ 0.15326648  0.86982228]\n",
      " [-0.8495457  -0.85079462]\n",
      " [-0.05670735  1.7668397 ]\n",
      " [-0.71365013  1.08354392]\n",
      " [ 0.04558121 -0.78208311]\n",
      " [-0.20552126  0.22502547]\n",
      " [-0.77596957  1.42085977]\n",
      " [-0.41210283 -2.07653986]\n",
      " [ 1.6501304  -0.67153369]\n",
      " [ 5.78925428  5.1106579 ]\n",
      " [ 3.58717316  5.1558399 ]\n",
      " [ 6.1489059   4.98293892]\n",
      " [ 3.58382592  4.54998127]\n",
      " [ 5.0091214   5.19686074]\n",
      " [ 6.35488293  4.12260787]\n",
      " [ 5.60775214  4.78693724]\n",
      " [ 4.23519339  4.30590334]\n",
      " [ 5.73792202  7.38373304]\n",
      " [ 6.82138769  4.93253922]\n",
      " [ 5.36569451  5.09929893]\n",
      " [ 5.4479309   4.09661458]\n",
      " [ 4.60430533  4.73238329]\n",
      " [ 4.39081487  6.43460479]\n",
      " [ 4.66690575  3.53737695]\n",
      " [ 6.25388096  3.78299003]\n",
      " [ 5.93796223  2.67362704]\n",
      " [ 5.01318775  3.54797512]\n",
      " [ 4.44482226  2.894497  ]\n",
      " [ 5.82720697  6.66269386]\n",
      " [ 5.94891717  4.36323755]\n",
      " [ 5.99911248  3.49757852]\n",
      " [ 5.89128101  5.68228854]\n",
      " [ 3.33380186  4.91991502]\n",
      " [ 6.47540249  3.60720506]\n",
      " [ 4.8955726   4.6748493 ]\n",
      " [ 3.2309113   6.27439955]\n",
      " [ 4.77404025  5.37102174]\n",
      " [ 4.58282583  5.25892557]\n",
      " [ 6.8937025   4.47767062]\n",
      " [ 5.16300012  3.98550433]\n",
      " [ 5.40607284  3.89886091]\n",
      " [ 6.00619804  4.51841977]\n",
      " [ 7.32477481  6.14872174]\n",
      " [ 4.91122295  3.14630775]\n",
      " [ 4.46984151  7.43189393]\n",
      " [ 5.36805907  3.41777952]\n",
      " [ 5.45867982  6.0872123 ]\n",
      " [ 5.53007101  4.11619324]\n",
      " [ 5.9638034   4.84019534]\n",
      " [ 5.53241111  5.47452274]\n",
      " [ 6.04145323  5.99642936]\n",
      " [ 5.52555828  5.87704605]\n",
      " [ 5.53143376  4.33161866]\n",
      " [ 4.9180215   5.14668236]\n",
      " [ 5.71182593  6.55621151]\n",
      " [ 6.12621794  6.3861317 ]\n",
      " [ 5.3311548   3.76454236]\n",
      " [ 5.17276758  5.7406592 ]\n",
      " [ 5.80139062  4.64531031]\n",
      " [ 5.37535049  6.00981918]\n",
      " [ 4.22100906  5.07639168]\n",
      " [ 5.41160973  4.8394721 ]\n",
      " [ 4.83679058  5.10044461]\n",
      " [ 5.6524867   6.42676803]\n",
      " [ 6.31945501  4.33779822]\n",
      " [ 6.27880247  5.14315633]\n",
      " [ 4.95293577  5.43379294]\n",
      " [ 6.07007482  6.30155553]\n",
      " [ 6.29755951  7.43877629]\n",
      " [ 5.91883914  5.6803001 ]\n",
      " [ 3.79100879  6.09868392]\n",
      " [ 4.33858111  6.02884638]\n",
      " [ 5.07876645  4.86214599]\n",
      " [ 6.06456327  3.13879159]\n",
      " [ 5.94515496  4.74557096]\n",
      " [ 3.85563696  4.38230453]\n",
      " [ 4.11180603  5.61531947]\n",
      " [ 5.0306398   4.96033194]\n",
      " [ 4.24976366  3.23439469]\n",
      " [ 6.33214963  6.28507846]\n",
      " [ 3.12633648  4.61759414]\n",
      " [ 5.13768586  8.54570065]\n",
      " [ 4.05806162  4.66589548]\n",
      " [ 5.91934416  4.8567328 ]\n",
      " [ 4.92782958  3.40768807]\n",
      " [ 5.36664356  4.4980035 ]\n",
      " [ 3.87167602  5.80418345]\n",
      " [ 5.35128094  6.74400827]\n",
      " [ 4.65726316  5.73248894]\n",
      " [ 4.12945197  4.97074692]\n",
      " [ 4.94578514  4.4581609 ]\n",
      " [ 5.83186176  4.0895521 ]\n",
      " [ 3.79087823  4.61925435]\n",
      " [ 4.85408156  5.41970853]\n",
      " [ 3.02127974  5.50321129]\n",
      " [ 4.12317433  4.85839271]\n",
      " [ 4.75632934  4.82503986]\n",
      " [ 5.39161152  4.59914364]\n",
      " [ 7.01127603  5.99939515]\n",
      " [ 4.85545578  4.494021  ]\n",
      " [ 5.41698459  6.28790139]\n",
      " [ 3.99573748  4.71509096]\n",
      " [ 5.86642502  4.70550647]\n",
      " [ 3.54079857  3.9241421 ]\n",
      " [ 4.97938471  5.56546437]\n",
      " [ 5.92131291  3.99552251]\n",
      " [ 4.7110261   4.65728987]\n",
      " [ 4.44109962  4.86041587]\n",
      " [ 5.42292856  5.52610773]]\n",
      "(200, 2)\n"
     ]
    }
   ],
   "source": [
    "samples = 100\n",
    "\n",
    "#print([samples,2])   =>  [100, 2]\n",
    "# np.random.normal(0, 1, size=[samples,2]) => 0은 평균 / 1은 표준편차\n",
    "x_data0 = np.random.normal(0, 1, size=[samples,2])\n",
    "x_data1 = np.random.normal(5, 1, size=[samples,2])\n",
    "#print(x_data0)\n",
    "\n",
    "#주어진 데이터\n",
    "x_data = np.vstack([x_data0, x_data1]) #vstack : 밑으로 쌓아라\n",
    "print(x_data)\n",
    "print(x_data.shape)"
   ]
  },
  {
   "cell_type": "code",
   "execution_count": 98,
   "metadata": {},
   "outputs": [],
   "source": [
    "# y값을 0과 1로만 나타내어라.\n",
    "y_data = np.vstack([np.zeros(samples).reshape(samples,1) \n",
    "                    , np.ones(samples).reshape(samples,1) ]) \n",
    "\n",
    "# np.zeros(samples).reshape(samples,1) : 0으로 된 행렬 100X1 만들라\n",
    "# np.ones(samples).reshape(samples,1) : 1로 된 행렬 100X1  만들라\n",
    "\n",
    "#print(y_data.shape)\n",
    "#print(y_data)"
   ]
  },
  {
   "cell_type": "code",
   "execution_count": 99,
   "metadata": {},
   "outputs": [],
   "source": [
    "# 200번의 루프를 돌며, 0이면 red 이고 1이면 blue\n",
    "colors = [\"red\"  if i == 0  else  \"blue\"  for i  in y_data   ]\n",
    "#print(colors)"
   ]
  },
  {
   "cell_type": "code",
   "execution_count": 100,
   "metadata": {},
   "outputs": [
    {
     "data": {
      "text/plain": [
       "<matplotlib.collections.PathCollection at 0x206b29f2688>"
      ]
     },
     "execution_count": 100,
     "metadata": {},
     "output_type": "execute_result"
    },
    {
     "data": {
      "image/png": "[encoded data removed]",
      "text/plain": [
       "<Figure size 432x288 with 1 Axes>"
      ]
     },
     "metadata": {
      "needs_background": "light"
     },
     "output_type": "display_data"
    }
   ],
   "source": [
    "\n",
    "plt.scatter(x_data[:,0], x_data[:,1], color=colors)\n",
    "# 빨간점의 레이블이 0 인거고, 파란점의 레이블이 1인것이다."
   ]
  },
  {
   "cell_type": "code",
   "execution_count": 76,
   "metadata": {},
   "outputs": [
    {
     "data": {
      "text/plain": [
       "LinearRegression(copy_X=True, fit_intercept=True, n_jobs=None, normalize=False)"
      ]
     },
     "execution_count": 76,
     "metadata": {},
     "output_type": "execute_result"
    }
   ],
   "source": [
    "# 리니어 리그레션으로 풀은 것... z=w1x1+w2y2+b\n",
    "regr.fit(x_data, y_data) #fit : '학습시켜주세요!!'라고 하는 함수\n",
    "# x_data(실제데이터)를 y_data(0과 1)로 표현하게 학습시켜보자"
   ]
  },
  {
   "cell_type": "code",
   "execution_count": 87,
   "metadata": {},
   "outputs": [
    {
     "name": "stdout",
     "output_type": "stream",
     "text": [
      "[[ 0.08426842]\n",
      " [-0.11390779]\n",
      " [-0.19101917]\n",
      " [ 0.18795428]\n",
      " [ 0.1176149 ]\n",
      " [ 0.16123256]\n",
      " [ 0.18889465]\n",
      " [-0.15447357]\n",
      " [ 0.04104149]\n",
      " [ 0.01361217]]\n",
      "=======================================================\n",
      "[[0.1113546]]\n",
      "=======================================================\n",
      "[[0.48112098]]\n"
     ]
    }
   ],
   "source": [
    "# 앞에것 10개를 예측해보세요... \n",
    "# 빨간색 데이터에는 0이란 값을 주었기 때문에\n",
    "# 0보다 작은 것들은 빨간색이다.\n",
    "regr.predict(x_data[0:10])\n",
    "\n",
    "\n",
    "print(regr.predict(x_data[0:10]))\n",
    "print('=======================================================')\n",
    "# z=w1x1+w2y2+b 에서 x1 = 2.7 이고 y2 = -2이다.\n",
    "# w1과 w2 는 선형회귀분석 처리로 이미 컴퓨터가 만들어 줬다.\n",
    "# 3차원 공간이라고 생각하자.\n",
    "# 빨간색과 파란색 그 중간 허공간에 있는 점(값)!\n",
    "# 0.5보다 작으면 0에 가까운 \"빨간색\", 0.5보다 크면 1에 가까운 \"파란색\"이 나온다.\n",
    "regr.predict([[2.7,-2]])\n",
    "print(regr.predict([[2.7,-2]])) # 0.5보다 작아서 빨간색\n",
    "\n",
    "print('=======================================================')\n",
    "\n",
    "regr.predict([[2.7,2.1]])\n",
    "print(regr.predict([[2.7,2.1]])) # 0.5보다 작아서 빨간색"
   ]
  },
  {
   "cell_type": "code",
   "execution_count": 110,
   "metadata": {},
   "outputs": [
    {
     "name": "stdout",
     "output_type": "stream",
     "text": [
      "h: [0 0 0 0 0 0 0 0 0 0 0 0 0 0 0 0 0 0 0 0 0 0 0 0 0 0 0 0 0 0 0 0 0 0 0 0 0\n",
      " 0 0 0 0 0 0 0 0 0 0 0 0 0 0 0 0 0 0 0 0 0 0 0 0 0 0 0 0 0 0 0 0 0 0 0 0 0\n",
      " 0 0 0 0 0 0 0 0 0 0 0 0 0 0 0 0 0 0 0 0 0 0 0 0 0 0 1 1 1 1 1 1 1 1 1 1 1\n",
      " 1 1 1 1 1 1 1 1 1 1 1 1 1 1 1 1 1 1 1 1 1 1 1 1 1 1 1 1 1 1 1 1 1 1 1 1 1\n",
      " 1 1 1 1 1 1 1 1 1 1 1 1 1 1 1 1 1 1 1 1 1 1 1 1 1 1 1 1 1 1 1 1 1 1 1 1 1\n",
      " 1 1 1 1 1 1 1 1 1 1 1 1 1 1 1]\n",
      "200\n",
      "1.0\n"
     ]
    }
   ],
   "source": [
    "# h = (regr.predict(x_data)[:,0] > 0.5) => *1을 안하면 False/True나옴\n",
    "h = (regr.predict(x_data)[:,0] > 0.5)*1\n",
    "#print(regr.predict(x_data))\n",
    "#print(regr.predict(x_data)[:,0])\n",
    "print('h:',h)\n",
    "\n",
    "# ASK!!!\n",
    "\n",
    "print(np.sum(h == y_data[:,0]))\n",
    "# 0은 negative sample / 1은 positive sample\n",
    "print(np.sum(h == y_data[:,0]) / y_data.shape[0])"
   ]
  },
  {
   "cell_type": "markdown",
   "metadata": {},
   "source": [
    "# 리그레이션(선형회귀분석)"
   ]
  },
  {
   "cell_type": "code",
   "execution_count": 113,
   "metadata": {},
   "outputs": [
    {
     "data": {
      "text/plain": [
       "<mpl_toolkits.mplot3d.art3d.Path3DCollection at 0x206b594be48>"
      ]
     },
     "execution_count": 113,
     "metadata": {},
     "output_type": "execute_result"
    }
   ],
   "source": [
    "# 리그레이션(선형회귀분석)으로 만든 3차원 그래프\n",
    "import matplotlib.pyplot as plt\n",
    "from mpl_toolkits.mplot3d import Axes3D\n",
    "%matplotlib qt5\n",
    "\n",
    "xx, yy = np.mgrid[-10:10:0.5, -10:10:0.5]\n",
    "# grid = 학습결과를 확인할 수 있게하는 방법\n",
    "grid = np.c_[xx.flatten(), yy.flatten()]\n",
    "\n",
    "result = regr.predict(grid)\n",
    "\n",
    "fig = plt.figure()\n",
    "ax = plt.axes(projection=\"3d\")\n",
    "\n",
    "\n",
    "ax.scatter3D(xx.flatten(), yy.flatten(), result, 'r')"
   ]
  },
  {
   "cell_type": "code",
   "execution_count": 121,
   "metadata": {},
   "outputs": [
    {
     "data": {
      "text/plain": [
       "array([[0.1113546]])"
      ]
     },
     "execution_count": 121,
     "metadata": {},
     "output_type": "execute_result"
    }
   ],
   "source": [
    "regr.predict([[2.7,-2]])"
   ]
  },
  {
   "cell_type": "markdown",
   "metadata": {},
   "source": [
    "# 로지스틱 회귀분석 공부 (= '분류'하기)"
   ]
  },
  {
   "cell_type": "code",
   "execution_count": 118,
   "metadata": {},
   "outputs": [
    {
     "name": "stdout",
     "output_type": "stream",
     "text": [
      "x_data: [[-0.31308137  0.11510212]\n",
      " [-1.59747182  0.53864942]\n",
      " [ 0.55193617 -0.49176221]\n",
      " [-1.13149532 -0.12761464]\n",
      " [ 0.98072925  1.0597138 ]\n",
      " [ 1.72862413  0.15492359]\n",
      " [-0.77938091  0.62252061]\n",
      " [-0.99643303 -1.23763781]\n",
      " [-0.05234251  0.52881683]\n",
      " [ 0.18650641  0.35736431]\n",
      " [ 1.27753554 -0.25987992]\n",
      " [ 0.73757481 -0.2529194 ]\n",
      " [-0.18412859  0.04300852]\n",
      " [-1.52883896  0.3635712 ]\n",
      " [-0.58734769 -0.34479648]\n",
      " [-0.28519244 -1.16499244]\n",
      " [ 2.28627243 -0.12676964]\n",
      " [ 0.21289202 -0.94009696]\n",
      " [-0.37100468 -1.53144825]\n",
      " [ 1.09731716 -0.85982022]\n",
      " [ 0.71513317 -0.47468642]\n",
      " [-2.06325906  0.60447058]\n",
      " [-0.17632044 -0.85030751]\n",
      " [ 0.39821941 -0.7127927 ]\n",
      " [ 0.81945853 -0.56162585]\n",
      " [-1.34429645  0.87076189]\n",
      " [ 2.51176816  0.68388411]\n",
      " [-0.12320222 -0.50794309]\n",
      " [-2.23659012  1.15292956]\n",
      " [ 0.07087663  0.82585618]\n",
      " [ 1.03681532  0.16304578]\n",
      " [-0.74628656 -0.1873946 ]\n",
      " [-0.63879246  2.18632452]\n",
      " [ 1.49950138 -0.5156621 ]\n",
      " [-0.13846874 -0.19629859]\n",
      " [-0.85769526 -2.02074374]\n",
      " [ 0.12285376 -0.54057581]\n",
      " [-0.31221886  0.257824  ]\n",
      " [ 1.70489177 -0.15885993]\n",
      " [-0.14605284  0.25476559]\n",
      " [ 0.42484237 -0.66845684]\n",
      " [-0.11691936  0.21500291]\n",
      " [-0.20046816  1.90605631]\n",
      " [ 2.17532897  1.35968557]\n",
      " [-0.74185822  1.12918394]\n",
      " [-1.00159182 -0.22622582]\n",
      " [-1.52176648 -1.36173898]\n",
      " [-1.17642468  0.61063043]\n",
      " [ 0.22309307 -1.21095626]\n",
      " [-0.48620411  0.3230796 ]\n",
      " [ 1.68807574  0.31157668]\n",
      " [ 0.26978986 -0.89377172]\n",
      " [-0.01602487 -0.76831496]\n",
      " [ 0.63039638 -0.61832213]\n",
      " [ 0.27062874 -0.45894053]\n",
      " [-0.64789953 -1.43787599]\n",
      " [-1.75942839  0.69692432]\n",
      " [ 0.04099089 -0.51634905]\n",
      " [ 0.07177728 -1.27309893]\n",
      " [-1.5116126  -0.75641979]\n",
      " [-0.59418481  0.320717  ]\n",
      " [ 1.86996996 -0.68101373]\n",
      " [-0.73838097 -0.81639638]\n",
      " [ 0.21998066 -0.33043789]\n",
      " [ 2.03953771  0.44503763]\n",
      " [-1.10331347  1.72789252]\n",
      " [-0.01317675  0.01306508]\n",
      " [-0.27656363 -0.90424995]\n",
      " [-0.43418258 -0.14135658]\n",
      " [-1.46202102  0.4852126 ]\n",
      " [ 1.31897213  0.25676938]\n",
      " [ 0.2211199  -1.60302695]\n",
      " [ 0.53999687  1.08266211]\n",
      " [ 2.04853036  0.50590152]\n",
      " [-0.53967607 -0.54881531]\n",
      " [-0.5108322   2.17802063]\n",
      " [-1.11347538  1.46011857]\n",
      " [ 0.05190523  0.91407211]\n",
      " [-0.42490059 -0.06549812]\n",
      " [ 1.75831918  1.63032598]\n",
      " [ 1.0913482   0.42903884]\n",
      " [ 1.31310405  0.83484273]\n",
      " [ 0.81619869 -0.40448499]\n",
      " [ 1.84576248 -0.99195597]\n",
      " [-0.58182304  1.77527048]\n",
      " [-0.62194726  0.41114283]\n",
      " [ 0.34339394  0.66222139]\n",
      " [ 0.13557246  0.0547844 ]\n",
      " [-0.59166844  2.21084256]\n",
      " [ 0.6345484  -0.38281293]\n",
      " [-0.20057226 -0.79176678]\n",
      " [ 0.44834896  0.5325782 ]\n",
      " [ 1.7981286  -0.10186948]\n",
      " [ 0.99133321  1.13629858]\n",
      " [ 0.41508646 -1.65314038]\n",
      " [-0.85068514 -1.94279555]\n",
      " [-0.22280942  0.51603449]\n",
      " [ 1.14131256  0.85913753]\n",
      " [-1.16467207  0.84202793]\n",
      " [ 0.36510718  0.85669222]\n",
      " [ 5.15590927  4.49906474]\n",
      " [ 4.11110939  5.25646423]\n",
      " [ 4.14700766  4.650083  ]\n",
      " [ 6.28710199  5.18301468]\n",
      " [ 5.52790307  4.54270722]\n",
      " [ 8.12912369  4.64435363]\n",
      " [ 5.37739185  5.50533684]\n",
      " [ 3.43608312  3.92558352]\n",
      " [ 5.76305888  4.75952249]\n",
      " [ 4.0781731   6.02981921]\n",
      " [ 4.34510209  6.29421636]\n",
      " [ 6.79599565  6.82410941]\n",
      " [ 4.25825515  5.10421445]\n",
      " [ 5.75660101  4.51559044]\n",
      " [ 5.35339138  5.75278714]\n",
      " [ 4.09034121  3.80410976]\n",
      " [ 5.03185977  3.24210894]\n",
      " [ 3.87983137  5.35576402]\n",
      " [ 4.02927667  5.22831256]\n",
      " [ 5.59660099  4.07904095]\n",
      " [ 5.82461785  4.42244796]\n",
      " [ 5.04689675  6.29118696]\n",
      " [ 4.6954752   4.81689194]\n",
      " [ 4.65241794  4.35518783]\n",
      " [ 6.03356842  4.50640285]\n",
      " [ 5.09463311  5.51668541]\n",
      " [ 3.89840362  5.10257333]\n",
      " [ 4.66455538  6.05813873]\n",
      " [ 4.58056699  4.59449449]\n",
      " [ 5.81773871  4.81928787]\n",
      " [ 3.93919706  1.63247944]\n",
      " [ 3.86677388  2.55998635]\n",
      " [ 3.04475259  6.1631251 ]\n",
      " [ 5.46599515  3.45898883]\n",
      " [ 5.76139741  5.5837777 ]\n",
      " [ 5.6051796   5.41495138]\n",
      " [ 4.21852826  5.60688282]\n",
      " [ 4.37166712  4.55693418]\n",
      " [ 6.10038101  4.4127897 ]\n",
      " [ 6.31074053  5.86901226]\n",
      " [ 6.15447595  4.72397262]\n",
      " [ 3.19829548  4.57667837]\n",
      " [ 4.33465782  4.96365807]\n",
      " [ 2.30901671  7.28411997]\n",
      " [ 6.41644787  4.89544942]\n",
      " [ 4.20390724  5.81640596]\n",
      " [ 5.63825457  3.50043334]\n",
      " [ 5.64909851  4.00629629]\n",
      " [ 5.52835705  6.18191038]\n",
      " [ 4.91722759  6.62986642]\n",
      " [ 5.40058173  5.17957427]\n",
      " [ 5.5671342   5.52110557]\n",
      " [ 6.26454937  6.48875097]\n",
      " [ 6.34589763  5.29860306]\n",
      " [ 5.93481621  4.23183313]\n",
      " [ 4.9734746   4.12631789]\n",
      " [ 4.87889706  5.89781999]\n",
      " [ 4.16635299  4.66549217]\n",
      " [ 4.95043903  2.99435888]\n",
      " [ 4.53212295  4.88880009]\n",
      " [ 4.06237832  6.12322023]\n",
      " [ 4.61583374  4.46702264]\n",
      " [ 3.74865557  4.00667754]\n",
      " [ 5.04847574  5.48850196]\n",
      " [ 6.93194794  4.0146557 ]\n",
      " [ 4.2042029   6.64666965]\n",
      " [ 6.40339507  5.88527727]\n",
      " [ 4.53777245  4.29586222]\n",
      " [ 4.70684442  6.35324514]\n",
      " [ 3.59433957  5.56016058]\n",
      " [ 4.40706104  4.09267068]\n",
      " [ 4.28667132  4.70574586]\n",
      " [ 6.48029698  6.1978036 ]\n",
      " [ 3.21405549  4.66071828]\n",
      " [ 4.60625736  5.05724809]\n",
      " [ 5.25377358  3.29036435]\n",
      " [ 4.43207782  5.9276643 ]\n",
      " [ 6.80475878  4.85102671]\n",
      " [ 4.02454025  6.44611442]\n",
      " [ 5.20116255  5.86531637]\n",
      " [ 4.87796161  4.53650732]\n",
      " [ 5.64469135  5.77508272]\n",
      " [ 4.62362112  4.15409841]\n",
      " [ 4.80227324  4.94393883]\n",
      " [ 3.10564726  3.49608407]\n",
      " [ 6.80711016  5.03080094]\n",
      " [ 4.11982874  3.47727756]\n",
      " [ 4.26551429  4.45406518]\n",
      " [ 4.11770599  4.14349499]\n",
      " [ 5.34218855  6.19216386]\n",
      " [ 5.11929641  3.90573145]\n",
      " [ 7.14904286  5.61595265]\n",
      " [ 4.13005379  5.44564308]\n",
      " [ 4.54095996  5.78441618]\n",
      " [ 6.02744849  7.16072379]\n",
      " [ 5.68435284  6.04266999]\n",
      " [ 3.41831368  5.01336731]\n",
      " [ 5.25299266  4.6137796 ]\n",
      " [ 5.49516725  4.70713371]\n",
      " [ 5.68227488  5.91695127]]\n",
      "=======================================================\n",
      "y_data: [[0.]\n",
      " [0.]\n",
      " [0.]\n",
      " [0.]\n",
      " [0.]\n",
      " [0.]\n",
      " [0.]\n",
      " [0.]\n",
      " [0.]\n",
      " [0.]\n",
      " [0.]\n",
      " [0.]\n",
      " [0.]\n",
      " [0.]\n",
      " [0.]\n",
      " [0.]\n",
      " [0.]\n",
      " [0.]\n",
      " [0.]\n",
      " [0.]\n",
      " [0.]\n",
      " [0.]\n",
      " [0.]\n",
      " [0.]\n",
      " [0.]\n",
      " [0.]\n",
      " [0.]\n",
      " [0.]\n",
      " [0.]\n",
      " [0.]\n",
      " [0.]\n",
      " [0.]\n",
      " [0.]\n",
      " [0.]\n",
      " [0.]\n",
      " [0.]\n",
      " [0.]\n",
      " [0.]\n",
      " [0.]\n",
      " [0.]\n",
      " [0.]\n",
      " [0.]\n",
      " [0.]\n",
      " [0.]\n",
      " [0.]\n",
      " [0.]\n",
      " [0.]\n",
      " [0.]\n",
      " [0.]\n",
      " [0.]\n",
      " [0.]\n",
      " [0.]\n",
      " [0.]\n",
      " [0.]\n",
      " [0.]\n",
      " [0.]\n",
      " [0.]\n",
      " [0.]\n",
      " [0.]\n",
      " [0.]\n",
      " [0.]\n",
      " [0.]\n",
      " [0.]\n",
      " [0.]\n",
      " [0.]\n",
      " [0.]\n",
      " [0.]\n",
      " [0.]\n",
      " [0.]\n",
      " [0.]\n",
      " [0.]\n",
      " [0.]\n",
      " [0.]\n",
      " [0.]\n",
      " [0.]\n",
      " [0.]\n",
      " [0.]\n",
      " [0.]\n",
      " [0.]\n",
      " [0.]\n",
      " [0.]\n",
      " [0.]\n",
      " [0.]\n",
      " [0.]\n",
      " [0.]\n",
      " [0.]\n",
      " [0.]\n",
      " [0.]\n",
      " [0.]\n",
      " [0.]\n",
      " [0.]\n",
      " [0.]\n",
      " [0.]\n",
      " [0.]\n",
      " [0.]\n",
      " [0.]\n",
      " [0.]\n",
      " [0.]\n",
      " [0.]\n",
      " [0.]\n",
      " [1.]\n",
      " [1.]\n",
      " [1.]\n",
      " [1.]\n",
      " [1.]\n",
      " [1.]\n",
      " [1.]\n",
      " [1.]\n",
      " [1.]\n",
      " [1.]\n",
      " [1.]\n",
      " [1.]\n",
      " [1.]\n",
      " [1.]\n",
      " [1.]\n",
      " [1.]\n",
      " [1.]\n",
      " [1.]\n",
      " [1.]\n",
      " [1.]\n",
      " [1.]\n",
      " [1.]\n",
      " [1.]\n",
      " [1.]\n",
      " [1.]\n",
      " [1.]\n",
      " [1.]\n",
      " [1.]\n",
      " [1.]\n",
      " [1.]\n",
      " [1.]\n",
      " [1.]\n",
      " [1.]\n",
      " [1.]\n",
      " [1.]\n",
      " [1.]\n",
      " [1.]\n",
      " [1.]\n",
      " [1.]\n",
      " [1.]\n",
      " [1.]\n",
      " [1.]\n",
      " [1.]\n",
      " [1.]\n",
      " [1.]\n",
      " [1.]\n",
      " [1.]\n",
      " [1.]\n",
      " [1.]\n",
      " [1.]\n",
      " [1.]\n",
      " [1.]\n",
      " [1.]\n",
      " [1.]\n",
      " [1.]\n",
      " [1.]\n",
      " [1.]\n",
      " [1.]\n",
      " [1.]\n",
      " [1.]\n",
      " [1.]\n",
      " [1.]\n",
      " [1.]\n",
      " [1.]\n",
      " [1.]\n",
      " [1.]\n",
      " [1.]\n",
      " [1.]\n",
      " [1.]\n",
      " [1.]\n",
      " [1.]\n",
      " [1.]\n",
      " [1.]\n",
      " [1.]\n",
      " [1.]\n",
      " [1.]\n",
      " [1.]\n",
      " [1.]\n",
      " [1.]\n",
      " [1.]\n",
      " [1.]\n",
      " [1.]\n",
      " [1.]\n",
      " [1.]\n",
      " [1.]\n",
      " [1.]\n",
      " [1.]\n",
      " [1.]\n",
      " [1.]\n",
      " [1.]\n",
      " [1.]\n",
      " [1.]\n",
      " [1.]\n",
      " [1.]\n",
      " [1.]\n",
      " [1.]\n",
      " [1.]\n",
      " [1.]\n",
      " [1.]\n",
      " [1.]]\n",
      "=======================================================\n",
      "(200, 2)\n",
      "(200, 1)\n"
     ]
    }
   ],
   "source": [
    "print('x_data:',x_data)\n",
    "print('=======================================================')\n",
    "print('y_data:',y_data)\n",
    "print('=======================================================')\n",
    "print(x_data.shape)\n",
    "print(y_data.shape)"
   ]
  },
  {
   "cell_type": "code",
   "execution_count": 119,
   "metadata": {},
   "outputs": [
    {
     "name": "stderr",
     "output_type": "stream",
     "text": [
      "C:\\Users\\user\\anaconda3\\lib\\site-packages\\sklearn\\utils\\validation.py:760: DataConversionWarning: A column-vector y was passed when a 1d array was expected. Please change the shape of y to (n_samples, ), for example using ravel().\n",
      "  y = column_or_1d(y, warn=True)\n"
     ]
    },
    {
     "data": {
      "text/plain": [
       "LogisticRegression(C=1.0, class_weight=None, dual=False, fit_intercept=True,\n",
       "                   intercept_scaling=1, l1_ratio=None, max_iter=100,\n",
       "                   multi_class='auto', n_jobs=None, penalty='l2',\n",
       "                   random_state=None, solver='lbfgs', tol=0.0001, verbose=0,\n",
       "                   warm_start=False)"
      ]
     },
     "execution_count": 119,
     "metadata": {},
     "output_type": "execute_result"
    }
   ],
   "source": [
    "log_reg = LogisticRegression()\n",
    "log_reg.fit(x_data, y_data)"
   ]
  },
  {
   "cell_type": "code",
   "execution_count": 122,
   "metadata": {},
   "outputs": [
    {
     "data": {
      "text/plain": [
       "array([0.])"
      ]
     },
     "execution_count": 122,
     "metadata": {},
     "output_type": "execute_result"
    }
   ],
   "source": [
    "log_reg.predict([[2.7,-2]])  # array([0.])\n",
    "log_reg.predict([[100,100]]) # array([1.])\n",
    "\n",
    "# 0 혹은 1로만 답이 나온다.. \n",
    "# => 따라서 분류를 위하여, 시그모이드 함수를 사용해야 한다."
   ]
  },
  {
   "cell_type": "markdown",
   "metadata": {},
   "source": [
    "## predict_proba\n",
    "https://datascienceschool.net/view-notebook/e2790743099742a396cfa4955ffc8a1f/"
   ]
  },
  {
   "cell_type": "code",
   "execution_count": 137,
   "metadata": {},
   "outputs": [
    {
     "name": "stdout",
     "output_type": "stream",
     "text": [
      "[[0.9849997 0.0150003]]\n",
      "red: 0.984999702087934\n",
      "blue: 0.015000297912065988\n"
     ]
    }
   ],
   "source": [
    "# 시그모이드 함수 사용 \n",
    "p = log_reg.predict_proba([[1,1]])\n",
    "# p => [[0.9849997 0.0150003]] => 확률 = 빨간색 : 0.98 / 파란색 : 0.015\n",
    "\n",
    "print(p)\n",
    "\n",
    "\n",
    "\n",
    "# 빨간색이 나올 확률\n",
    "print('red:', p[0][0])\n",
    "\n",
    "\n",
    "# 파란색이 나올 확률\n",
    "print('blue:',p[0][1])\n",
    "\n"
   ]
  },
  {
   "cell_type": "code",
   "execution_count": 144,
   "metadata": {},
   "outputs": [
    {
     "data": {
      "text/plain": [
       "<mpl_toolkits.mplot3d.art3d.Path3DCollection at 0x206b5c58388>"
      ]
     },
     "execution_count": 144,
     "metadata": {},
     "output_type": "execute_result"
    }
   ],
   "source": [
    "# 로지스틱 리그레이션으로 학습된 결과이다. \n",
    "# 시그노이드 함수형태로 그래프가 나온다.\n",
    "xx, yy = np.mgrid[-10:10:0.5, -10:10:0.5]\n",
    "grid = np.c_[xx.flatten(), yy.flatten()]\n",
    "\n",
    "result = log_reg.predict_proba(grid)[:,1]\n",
    "\n",
    "fig = plt.figure()\n",
    "ax = plt.axes(projection=\"3d\")\n",
    "\n",
    "\n",
    "ax.scatter3D(xx.flatten(), yy.flatten(), result, 'r') "
   ]
  },
  {
   "cell_type": "markdown",
   "metadata": {},
   "source": [
    "## Y = wx+b\n",
    "## ↓\n",
    "\n",
    "## Y = w1x1  + w2x2 + b\n",
    "## ↓\n",
    "\n",
    "### Y = S(w1x1  + w2x2 + b)    \n",
    "### => 시그노이드 함수를 사용한 것.. 비선형 함수가 들어가 있기 때문에 선형으로 나올 수 없다.\n"
   ]
  },
  {
   "cell_type": "markdown",
   "metadata": {},
   "source": [
    "# 선형회귀분석¶\n",
    "\n",
    "- 만약 독립 변수 x 와 이에 대응하는 종속 변수 y 간의 관계가 다음과 같은 선형 함수 f(x) 이면 선형 회귀분석(linear regression analysis)이라고 한다.\n",
    "\n",
    "        y^=w0+w1x1+w2x2+⋯+wDxD=w0+wTx\n",
    "- 위 식에서 w0,⋯,wD 를 함수 f(x) 의 계수(coefficient)이자 이 선형 회귀모형의 모수(parameter)라고 한다."
   ]
  },
  {
   "cell_type": "code",
   "execution_count": 139,
   "metadata": {
    "scrolled": true
   },
   "outputs": [
    {
     "name": "stdout",
     "output_type": "stream",
     "text": [
      "[280.44598167]\n",
      "[1.]\n"
     ]
    }
   ],
   "source": [
    "# ASK!!\n",
    "y = log_reg.coef_[0][0]*100 + log_reg.coef_[0][1]*100 + log_reg.intercept_\n",
    "print(y)\n",
    "print(1/(1+np.exp(-y)))"
   ]
  },
  {
   "cell_type": "markdown",
   "metadata": {},
   "source": [
    "## '가상데이터' 평면에서 '원본데이터'는 어디에 찍혀있는가?"
   ]
  },
  {
   "cell_type": "code",
   "execution_count": 229,
   "metadata": {},
   "outputs": [
    {
     "data": {
      "text/plain": [
       "<matplotlib.collections.PathCollection at 0x206bbad0988>"
      ]
     },
     "execution_count": 229,
     "metadata": {},
     "output_type": "execute_result"
    }
   ],
   "source": [
    "xx, yy = np.mgrid[-2:8:0.2,  -2:8:0.2]\n",
    "grid = np.c_[xx.flatten(), yy.flatten()]\n",
    "p = log_reg.predict_proba(grid)\n",
    "\n",
    "p = p[:,1]  # p값을 기준으로 해서, 확률 값을 가져온다.\n",
    "\n",
    "#가상의 데이터 = 가짜 데이터를 그린다. (2D평면으로)\n",
    "colors = ['red' if i < 0.5 else 'blue' for i in p]\n",
    "#alpha는 뿌옇게 그린다는 것\n",
    "plt.scatter(xx.flatten(), yy.flatten(), color = colors, alpha=0.2) \n",
    "\n",
    "\n",
    "# 원본데이터를 그린다.\n",
    "colors = [\"red\"  if i == 0  else  \"blue\"  for i  in y_data   ]\n",
    "plt.scatter(x_data[:,0], x_data[:,1], color=colors)\n",
    "\n",
    "\n",
    "# 그래프를 토대로, '파란색'과 '빨간색'을 분류하는 '선'을 찾을 수 있다.\n",
    "# '선'을 토대로, 어느 곳이 빨간색 or 파란색인지 분류하며 평가할 수 있다."
   ]
  },
  {
   "cell_type": "markdown",
   "metadata": {},
   "source": [
    "# 내가 당뇨병일까? 아닐까?"
   ]
  },
  {
   "cell_type": "code",
   "execution_count": 149,
   "metadata": {},
   "outputs": [
    {
     "name": "stdout",
     "output_type": "stream",
     "text": [
      "(768, 9)\n"
     ]
    }
   ],
   "source": [
    "#1\n",
    "data = np.loadtxt(\"diabetes.csv\", delimiter=\",\", dtype=np.float32)\n",
    "print(data.shape)\n",
    "\n",
    "\"\"\"\n",
    "임신횟수\n",
    "글루코스 내성 실험 후의 혈당수치\n",
    "확장기 혈압(mm Hg)\n",
    "상완 삼두근 피부 두께 (mm)\n",
    "혈액내 인슐린 수치 (mu U/ml)\n",
    "BMI(비만도) 수치 (weight in kg/(height in m)^2)\n",
    "당뇨병 가족력: 계산식은 데이터세트의 출처에서 확인하세요.\n",
    "나이 (years)\n",
    "당뇨병 여부 (0 or 1; 1은 발병)\n",
    "\"\"\"\n",
    "\n",
    "label = [\"임신횟수\", \"글루코스 내성 실험 후의 혈당수치\", \"확장기 혈압\", \"상완 삼두근 피부 두께\",\n",
    "         \"혈액내 인슐린 수치\", \"BMI\", \"당뇨병 가족력\", \"나이\"]\n"
   ]
  },
  {
   "cell_type": "code",
   "execution_count": 156,
   "metadata": {},
   "outputs": [],
   "source": [
    "dim = 8\n",
    "x_data = data[:, 0:dim]\n",
    "y_data = data[:, dim]"
   ]
  },
  {
   "cell_type": "code",
   "execution_count": 161,
   "metadata": {},
   "outputs": [],
   "source": [
    "#print(x_data)\n",
    "#print(y_data)"
   ]
  },
  {
   "cell_type": "code",
   "execution_count": 159,
   "metadata": {},
   "outputs": [
    {
     "name": "stdout",
     "output_type": "stream",
     "text": [
      "(768, 8)\n",
      "(768, 1)\n"
     ]
    }
   ],
   "source": [
    "y_data = y_data.reshape(768,1)   \n",
    "print(x_data.shape)\n",
    "print(y_data.shape)"
   ]
  },
  {
   "cell_type": "code",
   "execution_count": 165,
   "metadata": {},
   "outputs": [
    {
     "name": "stdout",
     "output_type": "stream",
     "text": [
      "[ 17.   199.   122.    99.   846.    67.1    2.42  81.  ]\n"
     ]
    }
   ],
   "source": [
    "mx = np.max(x_data, axis=0)\n",
    "print(mx) # 각 열에서 최대값을 가져왔다."
   ]
  },
  {
   "cell_type": "markdown",
   "metadata": {},
   "source": [
    "### 당뇨병 유발하는 '요소'들의 w (가중치) 구하기"
   ]
  },
  {
   "cell_type": "code",
   "execution_count": 173,
   "metadata": {},
   "outputs": [
    {
     "name": "stderr",
     "output_type": "stream",
     "text": [
      "C:\\Users\\user\\anaconda3\\lib\\site-packages\\sklearn\\utils\\validation.py:760: DataConversionWarning: A column-vector y was passed when a 1d array was expected. Please change the shape of y to (n_samples, ), for example using ravel().\n",
      "  y = column_or_1d(y, warn=True)\n",
      "C:\\Users\\user\\anaconda3\\lib\\site-packages\\sklearn\\linear_model\\_logistic.py:940: ConvergenceWarning: lbfgs failed to converge (status=1):\n",
      "STOP: TOTAL NO. of ITERATIONS REACHED LIMIT.\n",
      "\n",
      "Increase the number of iterations (max_iter) or scale the data as shown in:\n",
      "    https://scikit-learn.org/stable/modules/preprocessing.html\n",
      "Please also refer to the documentation for alternative solver options:\n",
      "    https://scikit-learn.org/stable/modules/linear_model.html#logistic-regression\n",
      "  extra_warning_msg=_LOGISTIC_SOLVER_CONVERGENCE_MSG)\n"
     ]
    },
    {
     "data": {
      "text/plain": [
       "LogisticRegression(C=1.0, class_weight=None, dual=False, fit_intercept=True,\n",
       "                   intercept_scaling=1, l1_ratio=None, max_iter=100,\n",
       "                   multi_class='auto', n_jobs=None, penalty='l2',\n",
       "                   random_state=None, solver='lbfgs', tol=0.0001, verbose=0,\n",
       "                   warm_start=False)"
      ]
     },
     "execution_count": 173,
     "metadata": {},
     "output_type": "execute_result"
    }
   ],
   "source": [
    "# 1. 학습시키기\n",
    "log_reg.fit(x_data, y_data)"
   ]
  },
  {
   "cell_type": "markdown",
   "metadata": {},
   "source": [
    "- z = S(w1x1+w2y2+w3s3 + ...... + w8h8) = 1 or 0\n",
    "\n",
    "즉, 시그모이드 함수를 써서 당뇨병인지 아닌지를 판별하는 것이다.\n",
    "밑에 나오는 숫자들이 각각 w1(임신횟수),w2(글루코스),w3....w8(나이)까지 들어갈 것들이란 것!!"
   ]
  },
  {
   "cell_type": "code",
   "execution_count": 174,
   "metadata": {
    "scrolled": true
   },
   "outputs": [
    {
     "name": "stdout",
     "output_type": "stream",
     "text": [
      "임신횟수 0.1359901412917452\n",
      "글루코스 내성 실험 후의 혈당수치 0.03429416125425302\n",
      "확장기 혈압 -0.012607102035581491\n",
      "상완 삼두근 피부 두께 -0.0036708094698981006\n",
      "혈액내 인슐린 수치 -0.0009429642609238423\n",
      "BMI 0.08908182478527499\n",
      "당뇨병 가족력 1.5164656688092761\n",
      "나이 0.010557173615741048\n",
      "=======================================================\n",
      "log_reg.coef_: [[ 1.35990141e-01  3.42941613e-02 -1.26071020e-02 -3.67080947e-03\n",
      "  -9.42964261e-04  8.90818248e-02  1.51646567e+00  1.05571736e-02]]\n"
     ]
    }
   ],
   "source": [
    "for i in range(dim) :\n",
    "    print(label[i], log_reg.coef_[0,i])\n",
    "\n",
    "    \n",
    "print('=======================================================')    \n",
    "print('log_reg.coef_:',log_reg.coef_)"
   ]
  },
  {
   "cell_type": "code",
   "execution_count": 177,
   "metadata": {},
   "outputs": [],
   "source": [
    "# 2. 예측하기\n",
    "p = log_reg.predict(x_data)\n"
   ]
  },
  {
   "cell_type": "code",
   "execution_count": 181,
   "metadata": {},
   "outputs": [
    {
     "data": {
      "text/plain": [
       "0.5688340928819444"
      ]
     },
     "execution_count": 181,
     "metadata": {},
     "output_type": "execute_result"
    }
   ],
   "source": [
    "# ASK!!!\n",
    "# 3. 성능평가\n",
    "# 예측된 데이터(p)와 실제 데이터(y_data)가 얼마나 평균적으로 같은지\n",
    "np.mean(p == y_data)\n",
    "\n",
    "# 57% 정도만 나온다..\n",
    "#이는 로지스틱스 회귀가 '당뇨병' 측정하기에 좋은 방법은 아니라는 뜻\n"
   ]
  },
  {
   "cell_type": "markdown",
   "metadata": {},
   "source": [
    "### 나이가 60일때 당뇨병.. 어떻게 될까??\n",
    "\n",
    "- 임신횟수 : 0 \n",
    "- 글루코스 내성 실험 후의 혈당수치 : 90\n",
    "- 확장기 혈압(mm Hg) : 66\n",
    "- 상완 삼두근 피부 두께 (mm) : 29\n",
    "- 혈액내 인슐린 수치 (mu U/ml) : 0 \n",
    "- BMI(비만도) 수치 (weight in kg/(height in m)^2) : 26.6\n",
    "- 당뇨병 가족력: 0.351\n",
    "- 나이 :30\n"
   ]
  },
  {
   "cell_type": "code",
   "execution_count": 184,
   "metadata": {},
   "outputs": [
    {
     "data": {
      "text/plain": [
       "array([[0.95505849, 0.04494151],\n",
       "       [0.93932875, 0.06067125]])"
      ]
     },
     "execution_count": 184,
     "metadata": {},
     "output_type": "execute_result"
    }
   ],
   "source": [
    "x_data2 = np.array([\n",
    "    [0,90,66,29,0,26.6,0.351,30],\n",
    "    [0,90,66,29,0,26.6,0.351,60]\n",
    "])\n",
    "# 당뇨병일 확률 계산\n",
    "# 나이만 60으로 변경, 당뇨병 확률 \n",
    "\n",
    "log_reg.predict_proba(x_data2)\n",
    "\n",
    "#        발병x 확률(0),  발병o확률(1)\n",
    "#array([[0.95505849, 0.04494151],\n",
    "#       [0.93932875, 0.06067125]])"
   ]
  },
  {
   "cell_type": "code",
   "execution_count": 185,
   "metadata": {},
   "outputs": [
    {
     "data": {
      "text/plain": [
       "array([[0.95505849, 0.04494151],\n",
       "       [0.89407983, 0.10592017]])"
      ]
     },
     "execution_count": 185,
     "metadata": {},
     "output_type": "execute_result"
    }
   ],
   "source": [
    "x_data3 = np.array([\n",
    "    [0,90,66,29,0,26.6,0.351,30],\n",
    "    [0,90,66,29,0,26.6,0.751,60]\n",
    "])\n",
    "# 당뇨병일 확률 계산\n",
    "# 가족력 0.751으로 변경, 당뇨병 확률 \n",
    "\n",
    "log_reg.predict_proba(x_data3)\n",
    "\n",
    "#      발병x 확률(0),  발병o확률(1)\n",
    "#array([[0.95505849, 0.04494151],\n",
    "#       [0.89407983, 0.10592017]])"
   ]
  },
  {
   "cell_type": "code",
   "execution_count": 189,
   "metadata": {},
   "outputs": [
    {
     "name": "stdout",
     "output_type": "stream",
     "text": [
      "[ 17.   199.   122.    99.   846.    67.1    2.42  81.  ]\n"
     ]
    }
   ],
   "source": [
    "# 각각의 축에서의 최댓값\n",
    "mx = np.max(x_data, axis=0)\n",
    "print(mx)   \n"
   ]
  },
  {
   "cell_type": "markdown",
   "metadata": {},
   "source": [
    "- x_data = x_data /[17, 199, 122 .... ]  => 각각의 값으로 나누기를 해주는 것\n",
    "\n",
    "- numpy의 브로드 캐스팅 같은 것.. 즉  x_data/17 , x_data/199, x_data/122 해주는 것\n"
   ]
  },
  {
   "cell_type": "code",
   "execution_count": 193,
   "metadata": {
    "scrolled": false
   },
   "outputs": [
    {
     "name": "stdout",
     "output_type": "stream",
     "text": [
      "[[7.1838222e-05 9.4373355e-08 3.2500736e-07 ... 1.6574835e-06\n",
      "  1.8281257e-02 1.1615286e-06]\n",
      " [1.1973037e-05 5.4200918e-08 2.9792338e-07 ... 1.3121744e-06\n",
      "  1.0234004e-02 7.2014780e-07]\n",
      " [9.5784293e-05 1.1669139e-07 2.8889539e-07 ... 1.1493860e-06\n",
      "  1.9593308e-02 7.4337828e-07]\n",
      " ...\n",
      " [5.9865182e-05 7.7156592e-08 3.2500736e-07 ... 1.2924426e-06\n",
      "  7.1433932e-03 6.9691714e-07]\n",
      " [1.1973037e-05 8.0344890e-08 2.7083945e-07 ... 1.4848291e-06\n",
      "  1.0175690e-02 1.0918369e-06]\n",
      " [1.1973037e-05 5.9302177e-08 3.1597932e-07 ... 1.4996280e-06\n",
      "  9.1843624e-03 5.3430318e-07]]\n"
     ]
    }
   ],
   "source": [
    "# ASK!! 그래서 이게 의미하는게 뭐야?\n",
    "x_data = x_data/mx\n",
    "print(x_data)"
   ]
  },
  {
   "cell_type": "code",
   "execution_count": 196,
   "metadata": {},
   "outputs": [
    {
     "name": "stdout",
     "output_type": "stream",
     "text": [
      "[[9.99713116e-01 2.86884039e-04]\n",
      " [9.99711436e-01 2.88564271e-04]]\n"
     ]
    }
   ],
   "source": [
    "# ASK!!!! 이거는 왜 성능이 mx 만으로도 향상이 되었다는거지..?\n",
    "# 성능이 향상되기 전의 데이터\n",
    "x_data2 = np.array([\n",
    "    [0,90,66,29,0,26.6,0.351, 30],\n",
    "    [0,90,66,29,0,31.0,0.351, 30],\n",
    "])\n",
    "\n",
    "\n",
    "# 성능이 향상된 데이터\n",
    "x_data2 = x_data2 /mx\n",
    "\n",
    "print(log_reg.predict_proba(x_data2))"
   ]
  },
  {
   "cell_type": "markdown",
   "metadata": {},
   "source": [
    "# Soft Max 알고리즘"
   ]
  },
  {
   "cell_type": "code",
   "execution_count": 201,
   "metadata": {},
   "outputs": [
    {
     "name": "stdout",
     "output_type": "stream",
     "text": [
      "[0.14285714 0.28571429 0.57142857]\n",
      "[0.02443891 0.08114005 0.89442104]\n"
     ]
    },
    {
     "data": {
      "text/plain": [
       "([<matplotlib.patches.Wedge at 0x206b9a35808>,\n",
       "  <matplotlib.patches.Wedge at 0x206b9a35b48>,\n",
       "  <matplotlib.patches.Wedge at 0x206b9a40188>],\n",
       " [Text(1.0967594940433238, 0.08437186868757104, ''),\n",
       "  Text(1.0095055673233173, 0.43691933985946146, ''),\n",
       "  Text(-1.0400441792000692, -0.35820120785956966, '')])"
      ]
     },
     "execution_count": 201,
     "metadata": {},
     "output_type": "execute_result"
    }
   ],
   "source": [
    "# ASK!!! 그래서 이거의 기능은 뭔데.. 왜 이거 배웠는데ㅠㅠ?\n",
    "p = np.array([1.2, 2.4, 4.8])\n",
    "p_ = p/np.sum(p)\n",
    "#p_ = p(백터)/np.sum(p)(상수)\n",
    "\n",
    "print(p_)\n",
    "\n",
    "\n",
    "# exp : 2.7\n",
    "\n",
    "#softmax 알고리즘\n",
    "p2 = np.exp(np.array([1.2,2.4,4.8]))   # 2.7의 1.2승 / 2.7의 2.4승 / 2.7의 4.8승\n",
    "p2_=p2/np.sum(p2)\n",
    "\n",
    "print(p2_)\n",
    "\n",
    "# 첫번쨰일 확률, 두번쨰일 확률, 세번쨰일 확률\n",
    "# 첫번쨰와 두번쨰는 2배차이, 두번쨰와 세번쨰는 2배차이\n",
    "#[0.14285714 0.28571429 0.57142857]\n",
    "\n",
    "# 첫번째와 세번째가 약 40배 넘게 차이가 난다... \n",
    "#[0.02443891 0.08114005 0.89442104]\n",
    "\n",
    "plt.subplot(1,2,1)\n",
    "plt.pie(p_)\n",
    "\n",
    "plt.subplot(1,2,2)\n",
    "plt.pie(p2)"
   ]
  },
  {
   "cell_type": "markdown",
   "metadata": {},
   "source": [
    "# 분꽃 분류하기!! 중요중요"
   ]
  },
  {
   "cell_type": "code",
   "execution_count": 202,
   "metadata": {},
   "outputs": [
    {
     "name": "stdout",
     "output_type": "stream",
     "text": [
      "[[5.1 3.5 1.4 0.2]\n",
      " [4.9 3.  1.4 0.2]\n",
      " [4.7 3.2 1.3 0.2]\n",
      " [4.6 3.1 1.5 0.2]\n",
      " [5.  3.6 1.4 0.2]\n",
      " [5.4 3.9 1.7 0.4]\n",
      " [4.6 3.4 1.4 0.3]\n",
      " [5.  3.4 1.5 0.2]\n",
      " [4.4 2.9 1.4 0.2]\n",
      " [4.9 3.1 1.5 0.1]\n",
      " [5.4 3.7 1.5 0.2]\n",
      " [4.8 3.4 1.6 0.2]\n",
      " [4.8 3.  1.4 0.1]\n",
      " [4.3 3.  1.1 0.1]\n",
      " [5.8 4.  1.2 0.2]\n",
      " [5.7 4.4 1.5 0.4]\n",
      " [5.4 3.9 1.3 0.4]\n",
      " [5.1 3.5 1.4 0.3]\n",
      " [5.7 3.8 1.7 0.3]\n",
      " [5.1 3.8 1.5 0.3]\n",
      " [5.4 3.4 1.7 0.2]\n",
      " [5.1 3.7 1.5 0.4]\n",
      " [4.6 3.6 1.  0.2]\n",
      " [5.1 3.3 1.7 0.5]\n",
      " [4.8 3.4 1.9 0.2]\n",
      " [5.  3.  1.6 0.2]\n",
      " [5.  3.4 1.6 0.4]\n",
      " [5.2 3.5 1.5 0.2]\n",
      " [5.2 3.4 1.4 0.2]\n",
      " [4.7 3.2 1.6 0.2]\n",
      " [4.8 3.1 1.6 0.2]\n",
      " [5.4 3.4 1.5 0.4]\n",
      " [5.2 4.1 1.5 0.1]\n",
      " [5.5 4.2 1.4 0.2]\n",
      " [4.9 3.1 1.5 0.2]\n",
      " [5.  3.2 1.2 0.2]\n",
      " [5.5 3.5 1.3 0.2]\n",
      " [4.9 3.6 1.4 0.1]\n",
      " [4.4 3.  1.3 0.2]\n",
      " [5.1 3.4 1.5 0.2]\n",
      " [5.  3.5 1.3 0.3]\n",
      " [4.5 2.3 1.3 0.3]\n",
      " [4.4 3.2 1.3 0.2]\n",
      " [5.  3.5 1.6 0.6]\n",
      " [5.1 3.8 1.9 0.4]\n",
      " [4.8 3.  1.4 0.3]\n",
      " [5.1 3.8 1.6 0.2]\n",
      " [4.6 3.2 1.4 0.2]\n",
      " [5.3 3.7 1.5 0.2]\n",
      " [5.  3.3 1.4 0.2]\n",
      " [7.  3.2 4.7 1.4]\n",
      " [6.4 3.2 4.5 1.5]\n",
      " [6.9 3.1 4.9 1.5]\n",
      " [5.5 2.3 4.  1.3]\n",
      " [6.5 2.8 4.6 1.5]\n",
      " [5.7 2.8 4.5 1.3]\n",
      " [6.3 3.3 4.7 1.6]\n",
      " [4.9 2.4 3.3 1. ]\n",
      " [6.6 2.9 4.6 1.3]\n",
      " [5.2 2.7 3.9 1.4]\n",
      " [5.  2.  3.5 1. ]\n",
      " [5.9 3.  4.2 1.5]\n",
      " [6.  2.2 4.  1. ]\n",
      " [6.1 2.9 4.7 1.4]\n",
      " [5.6 2.9 3.6 1.3]\n",
      " [6.7 3.1 4.4 1.4]\n",
      " [5.6 3.  4.5 1.5]\n",
      " [5.8 2.7 4.1 1. ]\n",
      " [6.2 2.2 4.5 1.5]\n",
      " [5.6 2.5 3.9 1.1]\n",
      " [5.9 3.2 4.8 1.8]\n",
      " [6.1 2.8 4.  1.3]\n",
      " [6.3 2.5 4.9 1.5]\n",
      " [6.1 2.8 4.7 1.2]\n",
      " [6.4 2.9 4.3 1.3]\n",
      " [6.6 3.  4.4 1.4]\n",
      " [6.8 2.8 4.8 1.4]\n",
      " [6.7 3.  5.  1.7]\n",
      " [6.  2.9 4.5 1.5]\n",
      " [5.7 2.6 3.5 1. ]\n",
      " [5.5 2.4 3.8 1.1]\n",
      " [5.5 2.4 3.7 1. ]\n",
      " [5.8 2.7 3.9 1.2]\n",
      " [6.  2.7 5.1 1.6]\n",
      " [5.4 3.  4.5 1.5]\n",
      " [6.  3.4 4.5 1.6]\n",
      " [6.7 3.1 4.7 1.5]\n",
      " [6.3 2.3 4.4 1.3]\n",
      " [5.6 3.  4.1 1.3]\n",
      " [5.5 2.5 4.  1.3]\n",
      " [5.5 2.6 4.4 1.2]\n",
      " [6.1 3.  4.6 1.4]\n",
      " [5.8 2.6 4.  1.2]\n",
      " [5.  2.3 3.3 1. ]\n",
      " [5.6 2.7 4.2 1.3]\n",
      " [5.7 3.  4.2 1.2]\n",
      " [5.7 2.9 4.2 1.3]\n",
      " [6.2 2.9 4.3 1.3]\n",
      " [5.1 2.5 3.  1.1]\n",
      " [5.7 2.8 4.1 1.3]\n",
      " [6.3 3.3 6.  2.5]\n",
      " [5.8 2.7 5.1 1.9]\n",
      " [7.1 3.  5.9 2.1]\n",
      " [6.3 2.9 5.6 1.8]\n",
      " [6.5 3.  5.8 2.2]\n",
      " [7.6 3.  6.6 2.1]\n",
      " [4.9 2.5 4.5 1.7]\n",
      " [7.3 2.9 6.3 1.8]\n",
      " [6.7 2.5 5.8 1.8]\n",
      " [7.2 3.6 6.1 2.5]\n",
      " [6.5 3.2 5.1 2. ]\n",
      " [6.4 2.7 5.3 1.9]\n",
      " [6.8 3.  5.5 2.1]\n",
      " [5.7 2.5 5.  2. ]\n",
      " [5.8 2.8 5.1 2.4]\n",
      " [6.4 3.2 5.3 2.3]\n",
      " [6.5 3.  5.5 1.8]\n",
      " [7.7 3.8 6.7 2.2]\n",
      " [7.7 2.6 6.9 2.3]\n",
      " [6.  2.2 5.  1.5]\n",
      " [6.9 3.2 5.7 2.3]\n",
      " [5.6 2.8 4.9 2. ]\n",
      " [7.7 2.8 6.7 2. ]\n",
      " [6.3 2.7 4.9 1.8]\n",
      " [6.7 3.3 5.7 2.1]\n",
      " [7.2 3.2 6.  1.8]\n",
      " [6.2 2.8 4.8 1.8]\n",
      " [6.1 3.  4.9 1.8]\n",
      " [6.4 2.8 5.6 2.1]\n",
      " [7.2 3.  5.8 1.6]\n",
      " [7.4 2.8 6.1 1.9]\n",
      " [7.9 3.8 6.4 2. ]\n",
      " [6.4 2.8 5.6 2.2]\n",
      " [6.3 2.8 5.1 1.5]\n",
      " [6.1 2.6 5.6 1.4]\n",
      " [7.7 3.  6.1 2.3]\n",
      " [6.3 3.4 5.6 2.4]\n",
      " [6.4 3.1 5.5 1.8]\n",
      " [6.  3.  4.8 1.8]\n",
      " [6.9 3.1 5.4 2.1]\n",
      " [6.7 3.1 5.6 2.4]\n",
      " [6.9 3.1 5.1 2.3]\n",
      " [5.8 2.7 5.1 1.9]\n",
      " [6.8 3.2 5.9 2.3]\n",
      " [6.7 3.3 5.7 2.5]\n",
      " [6.7 3.  5.2 2.3]\n",
      " [6.3 2.5 5.  1.9]\n",
      " [6.5 3.  5.2 2. ]\n",
      " [6.2 3.4 5.4 2.3]\n",
      " [5.9 3.  5.1 1.8]]\n"
     ]
    }
   ],
   "source": [
    "iris = datasets.load_iris()\n",
    "list(iris.keys())\n",
    "\n",
    "print(iris.data)\n",
    "# 측정치가 4개있다''"
   ]
  },
  {
   "cell_type": "code",
   "execution_count": 203,
   "metadata": {},
   "outputs": [
    {
     "name": "stdout",
     "output_type": "stream",
     "text": [
      "[0 0 0 0 0 0 0 0 0 0 0 0 0 0 0 0 0 0 0 0 0 0 0 0 0 0 0 0 0 0 0 0 0 0 0 0 0\n",
      " 0 0 0 0 0 0 0 0 0 0 0 0 0 1 1 1 1 1 1 1 1 1 1 1 1 1 1 1 1 1 1 1 1 1 1 1 1\n",
      " 1 1 1 1 1 1 1 1 1 1 1 1 1 1 1 1 1 1 1 1 1 1 1 1 1 1 2 2 2 2 2 2 2 2 2 2 2\n",
      " 2 2 2 2 2 2 2 2 2 2 2 2 2 2 2 2 2 2 2 2 2 2 2 2 2 2 2 2 2 2 2 2 2 2 2 2 2\n",
      " 2 2]\n"
     ]
    }
   ],
   "source": [
    "print(iris.target)\n",
    "# iris.target : 붓꽃의 종류는 3가지 이다. (0 , 1, 2)"
   ]
  },
  {
   "cell_type": "code",
   "execution_count": 204,
   "metadata": {},
   "outputs": [],
   "source": [
    "x = iris.data\n",
    "y = iris.target"
   ]
  },
  {
   "cell_type": "code",
   "execution_count": 205,
   "metadata": {},
   "outputs": [
    {
     "name": "stderr",
     "output_type": "stream",
     "text": [
      "C:\\Users\\user\\anaconda3\\lib\\site-packages\\sklearn\\linear_model\\_logistic.py:940: ConvergenceWarning: lbfgs failed to converge (status=1):\n",
      "STOP: TOTAL NO. of ITERATIONS REACHED LIMIT.\n",
      "\n",
      "Increase the number of iterations (max_iter) or scale the data as shown in:\n",
      "    https://scikit-learn.org/stable/modules/preprocessing.html\n",
      "Please also refer to the documentation for alternative solver options:\n",
      "    https://scikit-learn.org/stable/modules/linear_model.html#logistic-regression\n",
      "  extra_warning_msg=_LOGISTIC_SOLVER_CONVERGENCE_MSG)\n"
     ]
    },
    {
     "data": {
      "text/plain": [
       "LogisticRegression(C=1.0, class_weight=None, dual=False, fit_intercept=True,\n",
       "                   intercept_scaling=1, l1_ratio=None, max_iter=100,\n",
       "                   multi_class='auto', n_jobs=None, penalty='l2',\n",
       "                   random_state=None, solver='lbfgs', tol=0.0001, verbose=0,\n",
       "                   warm_start=False)"
      ]
     },
     "execution_count": 205,
     "metadata": {},
     "output_type": "execute_result"
    }
   ],
   "source": [
    "#1. 학습시키기 / 기본적인 알고리즘을 siklet이 알아서 해준다...\n",
    "log_reg.fit(x,y) # 데이터를 넣어주면은 지가 알아서 학습을 해준다...\n",
    "# x(각각의 꽃들의 특징값)를 넣었을때, y(꽃의 종류)를 구하여라"
   ]
  },
  {
   "cell_type": "code",
   "execution_count": 206,
   "metadata": {},
   "outputs": [
    {
     "data": {
      "text/plain": [
       "array([0, 0, 0, 0, 0, 0, 0, 0, 0, 0, 0, 0, 0, 0, 0, 0, 0, 0, 0, 0, 0, 0,\n",
       "       0, 0, 0, 0, 0, 0, 0, 0, 0, 0, 0, 0, 0, 0, 0, 0, 0, 0, 0, 0, 0, 0,\n",
       "       0, 0, 0, 0, 0, 0, 1, 1, 1, 1, 1, 1, 1, 1, 1, 1, 1, 1, 1, 1, 1, 1,\n",
       "       1, 1, 1, 1, 2, 1, 1, 1, 1, 1, 1, 2, 1, 1, 1, 1, 1, 2, 1, 1, 1, 1,\n",
       "       1, 1, 1, 1, 1, 1, 1, 1, 1, 1, 1, 1, 2, 2, 2, 2, 2, 2, 1, 2, 2, 2,\n",
       "       2, 2, 2, 2, 2, 2, 2, 2, 2, 2, 2, 2, 2, 2, 2, 2, 2, 2, 2, 2, 2, 2,\n",
       "       2, 2, 2, 2, 2, 2, 2, 2, 2, 2, 2, 2, 2, 2, 2, 2, 2, 2])"
      ]
     },
     "execution_count": 206,
     "metadata": {},
     "output_type": "execute_result"
    }
   ],
   "source": [
    "log_reg.predict(x) "
   ]
  },
  {
   "cell_type": "code",
   "execution_count": 210,
   "metadata": {},
   "outputs": [
    {
     "data": {
      "text/plain": [
       "array([ True,  True,  True,  True,  True,  True,  True,  True,  True,\n",
       "        True,  True,  True,  True,  True,  True,  True,  True,  True,\n",
       "        True,  True,  True,  True,  True,  True,  True,  True,  True,\n",
       "        True,  True,  True,  True,  True,  True,  True,  True,  True,\n",
       "        True,  True,  True,  True,  True,  True,  True,  True,  True,\n",
       "        True,  True,  True,  True,  True,  True,  True,  True,  True,\n",
       "        True,  True,  True,  True,  True,  True,  True,  True,  True,\n",
       "        True,  True,  True,  True,  True,  True,  True, False,  True,\n",
       "        True,  True,  True,  True,  True, False,  True,  True,  True,\n",
       "        True,  True, False,  True,  True,  True,  True,  True,  True,\n",
       "        True,  True,  True,  True,  True,  True,  True,  True,  True,\n",
       "        True,  True,  True,  True,  True,  True,  True, False,  True,\n",
       "        True,  True,  True,  True,  True,  True,  True,  True,  True,\n",
       "        True,  True,  True,  True,  True,  True,  True,  True,  True,\n",
       "        True,  True,  True,  True,  True,  True,  True,  True,  True,\n",
       "        True,  True,  True,  True,  True,  True,  True,  True,  True,\n",
       "        True,  True,  True,  True,  True,  True])"
      ]
     },
     "execution_count": 210,
     "metadata": {},
     "output_type": "execute_result"
    }
   ],
   "source": [
    "log_reg.predict(x) == y"
   ]
  },
  {
   "cell_type": "code",
   "execution_count": 211,
   "metadata": {},
   "outputs": [
    {
     "data": {
      "text/plain": [
       "0.9733333333333334"
      ]
     },
     "execution_count": 211,
     "metadata": {},
     "output_type": "execute_result"
    }
   ],
   "source": [
    "np.mean(log_reg.predict(x) == y)   # 성능은 97%\n",
    "# 4가지의 데이터로도 붓꽃을 분류할 수 있다는 의미이다!!!"
   ]
  },
  {
   "cell_type": "code",
   "execution_count": 208,
   "metadata": {},
   "outputs": [
    {
     "data": {
      "text/plain": [
       "array([[9.81814805e-01, 1.81851810e-02, 1.43953228e-08],\n",
       "       [9.71754998e-01, 2.82449715e-02, 3.01061907e-08],\n",
       "       [9.85463134e-01, 1.45368538e-02, 1.23024373e-08],\n",
       "       [9.76312124e-01, 2.36878365e-02, 3.96543113e-08],\n",
       "       [9.85396810e-01, 1.46031782e-02, 1.19195533e-08],\n",
       "       [9.70481415e-01, 2.95185111e-02, 7.33772420e-08],\n",
       "       [9.86898254e-01, 1.31017266e-02, 1.99451613e-08],\n",
       "       [9.76418016e-01, 2.35819561e-02, 2.75750515e-08],\n",
       "       [9.79859915e-01, 2.01400545e-02, 3.06377205e-08],\n",
       "       [9.69157782e-01, 3.08421863e-02, 3.15857429e-08]])"
      ]
     },
     "execution_count": 208,
     "metadata": {},
     "output_type": "execute_result"
    }
   ],
   "source": [
    "# 확률값을 출력해봐라\n",
    "log_reg.predict_proba(x[0:10]) # 앞에 것 열개만 보여줘!\n",
    "\n",
    "\n",
    " #  첫번째꽃(0)일확률    두번쨰꽃(1)일 확률      세번쨰꽃(2)일 확률\n",
    "#array([[9.81814805e-01, 1.81851810e-02, 1.43953228e-08],  => 이거 합치면 1임\n",
    "#       [9.71754998e-01, 2.82449715e-02, 3.01061907e-08],"
   ]
  },
  {
   "cell_type": "markdown",
   "metadata": {},
   "source": [
    "# 그래프를 그려봅시다!\n",
    "\n",
    "## iris 그래프는 현재 축이 4개여서 그릴 수 없다\n",
    "\n",
    "## 야매로 그려보자"
   ]
  },
  {
   "cell_type": "code",
   "execution_count": 213,
   "metadata": {},
   "outputs": [
    {
     "name": "stdout",
     "output_type": "stream",
     "text": [
      "[[5.1 3.5 1.4 0.2]\n",
      " [4.9 3.  1.4 0.2]\n",
      " [4.7 3.2 1.3 0.2]\n",
      " [4.6 3.1 1.5 0.2]\n",
      " [5.  3.6 1.4 0.2]\n",
      " [5.4 3.9 1.7 0.4]\n",
      " [4.6 3.4 1.4 0.3]\n",
      " [5.  3.4 1.5 0.2]\n",
      " [4.4 2.9 1.4 0.2]\n",
      " [4.9 3.1 1.5 0.1]\n",
      " [5.4 3.7 1.5 0.2]\n",
      " [4.8 3.4 1.6 0.2]\n",
      " [4.8 3.  1.4 0.1]\n",
      " [4.3 3.  1.1 0.1]\n",
      " [5.8 4.  1.2 0.2]\n",
      " [5.7 4.4 1.5 0.4]\n",
      " [5.4 3.9 1.3 0.4]\n",
      " [5.1 3.5 1.4 0.3]\n",
      " [5.7 3.8 1.7 0.3]\n",
      " [5.1 3.8 1.5 0.3]\n",
      " [5.4 3.4 1.7 0.2]\n",
      " [5.1 3.7 1.5 0.4]\n",
      " [4.6 3.6 1.  0.2]\n",
      " [5.1 3.3 1.7 0.5]\n",
      " [4.8 3.4 1.9 0.2]\n",
      " [5.  3.  1.6 0.2]\n",
      " [5.  3.4 1.6 0.4]\n",
      " [5.2 3.5 1.5 0.2]\n",
      " [5.2 3.4 1.4 0.2]\n",
      " [4.7 3.2 1.6 0.2]\n",
      " [4.8 3.1 1.6 0.2]\n",
      " [5.4 3.4 1.5 0.4]\n",
      " [5.2 4.1 1.5 0.1]\n",
      " [5.5 4.2 1.4 0.2]\n",
      " [4.9 3.1 1.5 0.2]\n",
      " [5.  3.2 1.2 0.2]\n",
      " [5.5 3.5 1.3 0.2]\n",
      " [4.9 3.6 1.4 0.1]\n",
      " [4.4 3.  1.3 0.2]\n",
      " [5.1 3.4 1.5 0.2]\n",
      " [5.  3.5 1.3 0.3]\n",
      " [4.5 2.3 1.3 0.3]\n",
      " [4.4 3.2 1.3 0.2]\n",
      " [5.  3.5 1.6 0.6]\n",
      " [5.1 3.8 1.9 0.4]\n",
      " [4.8 3.  1.4 0.3]\n",
      " [5.1 3.8 1.6 0.2]\n",
      " [4.6 3.2 1.4 0.2]\n",
      " [5.3 3.7 1.5 0.2]\n",
      " [5.  3.3 1.4 0.2]\n",
      " [7.  3.2 4.7 1.4]\n",
      " [6.4 3.2 4.5 1.5]\n",
      " [6.9 3.1 4.9 1.5]\n",
      " [5.5 2.3 4.  1.3]\n",
      " [6.5 2.8 4.6 1.5]\n",
      " [5.7 2.8 4.5 1.3]\n",
      " [6.3 3.3 4.7 1.6]\n",
      " [4.9 2.4 3.3 1. ]\n",
      " [6.6 2.9 4.6 1.3]\n",
      " [5.2 2.7 3.9 1.4]\n",
      " [5.  2.  3.5 1. ]\n",
      " [5.9 3.  4.2 1.5]\n",
      " [6.  2.2 4.  1. ]\n",
      " [6.1 2.9 4.7 1.4]\n",
      " [5.6 2.9 3.6 1.3]\n",
      " [6.7 3.1 4.4 1.4]\n",
      " [5.6 3.  4.5 1.5]\n",
      " [5.8 2.7 4.1 1. ]\n",
      " [6.2 2.2 4.5 1.5]\n",
      " [5.6 2.5 3.9 1.1]\n",
      " [5.9 3.2 4.8 1.8]\n",
      " [6.1 2.8 4.  1.3]\n",
      " [6.3 2.5 4.9 1.5]\n",
      " [6.1 2.8 4.7 1.2]\n",
      " [6.4 2.9 4.3 1.3]\n",
      " [6.6 3.  4.4 1.4]\n",
      " [6.8 2.8 4.8 1.4]\n",
      " [6.7 3.  5.  1.7]\n",
      " [6.  2.9 4.5 1.5]\n",
      " [5.7 2.6 3.5 1. ]\n",
      " [5.5 2.4 3.8 1.1]\n",
      " [5.5 2.4 3.7 1. ]\n",
      " [5.8 2.7 3.9 1.2]\n",
      " [6.  2.7 5.1 1.6]\n",
      " [5.4 3.  4.5 1.5]\n",
      " [6.  3.4 4.5 1.6]\n",
      " [6.7 3.1 4.7 1.5]\n",
      " [6.3 2.3 4.4 1.3]\n",
      " [5.6 3.  4.1 1.3]\n",
      " [5.5 2.5 4.  1.3]\n",
      " [5.5 2.6 4.4 1.2]\n",
      " [6.1 3.  4.6 1.4]\n",
      " [5.8 2.6 4.  1.2]\n",
      " [5.  2.3 3.3 1. ]\n",
      " [5.6 2.7 4.2 1.3]\n",
      " [5.7 3.  4.2 1.2]\n",
      " [5.7 2.9 4.2 1.3]\n",
      " [6.2 2.9 4.3 1.3]\n",
      " [5.1 2.5 3.  1.1]\n",
      " [5.7 2.8 4.1 1.3]\n",
      " [6.3 3.3 6.  2.5]\n",
      " [5.8 2.7 5.1 1.9]\n",
      " [7.1 3.  5.9 2.1]\n",
      " [6.3 2.9 5.6 1.8]\n",
      " [6.5 3.  5.8 2.2]\n",
      " [7.6 3.  6.6 2.1]\n",
      " [4.9 2.5 4.5 1.7]\n",
      " [7.3 2.9 6.3 1.8]\n",
      " [6.7 2.5 5.8 1.8]\n",
      " [7.2 3.6 6.1 2.5]\n",
      " [6.5 3.2 5.1 2. ]\n",
      " [6.4 2.7 5.3 1.9]\n",
      " [6.8 3.  5.5 2.1]\n",
      " [5.7 2.5 5.  2. ]\n",
      " [5.8 2.8 5.1 2.4]\n",
      " [6.4 3.2 5.3 2.3]\n",
      " [6.5 3.  5.5 1.8]\n",
      " [7.7 3.8 6.7 2.2]\n",
      " [7.7 2.6 6.9 2.3]\n",
      " [6.  2.2 5.  1.5]\n",
      " [6.9 3.2 5.7 2.3]\n",
      " [5.6 2.8 4.9 2. ]\n",
      " [7.7 2.8 6.7 2. ]\n",
      " [6.3 2.7 4.9 1.8]\n",
      " [6.7 3.3 5.7 2.1]\n",
      " [7.2 3.2 6.  1.8]\n",
      " [6.2 2.8 4.8 1.8]\n",
      " [6.1 3.  4.9 1.8]\n",
      " [6.4 2.8 5.6 2.1]\n",
      " [7.2 3.  5.8 1.6]\n",
      " [7.4 2.8 6.1 1.9]\n",
      " [7.9 3.8 6.4 2. ]\n",
      " [6.4 2.8 5.6 2.2]\n",
      " [6.3 2.8 5.1 1.5]\n",
      " [6.1 2.6 5.6 1.4]\n",
      " [7.7 3.  6.1 2.3]\n",
      " [6.3 3.4 5.6 2.4]\n",
      " [6.4 3.1 5.5 1.8]\n",
      " [6.  3.  4.8 1.8]\n",
      " [6.9 3.1 5.4 2.1]\n",
      " [6.7 3.1 5.6 2.4]\n",
      " [6.9 3.1 5.1 2.3]\n",
      " [5.8 2.7 5.1 1.9]\n",
      " [6.8 3.2 5.9 2.3]\n",
      " [6.7 3.3 5.7 2.5]\n",
      " [6.7 3.  5.2 2.3]\n",
      " [6.3 2.5 5.  1.9]\n",
      " [6.5 3.  5.2 2. ]\n",
      " [6.2 3.4 5.4 2.3]\n",
      " [5.9 3.  5.1 1.8]]\n"
     ]
    }
   ],
   "source": [
    "iris = datasets.load_iris()\n",
    "list(iris.keys())\n",
    "\n",
    "print(iris.data)\n",
    "# 측정치가 4개있다''"
   ]
  },
  {
   "cell_type": "code",
   "execution_count": 216,
   "metadata": {},
   "outputs": [
    {
     "name": "stdout",
     "output_type": "stream",
     "text": [
      "[[5.1 3.5]\n",
      " [4.9 3. ]\n",
      " [4.7 3.2]\n",
      " [4.6 3.1]\n",
      " [5.  3.6]\n",
      " [5.4 3.9]\n",
      " [4.6 3.4]\n",
      " [5.  3.4]\n",
      " [4.4 2.9]\n",
      " [4.9 3.1]\n",
      " [5.4 3.7]\n",
      " [4.8 3.4]\n",
      " [4.8 3. ]\n",
      " [4.3 3. ]\n",
      " [5.8 4. ]\n",
      " [5.7 4.4]\n",
      " [5.4 3.9]\n",
      " [5.1 3.5]\n",
      " [5.7 3.8]\n",
      " [5.1 3.8]\n",
      " [5.4 3.4]\n",
      " [5.1 3.7]\n",
      " [4.6 3.6]\n",
      " [5.1 3.3]\n",
      " [4.8 3.4]\n",
      " [5.  3. ]\n",
      " [5.  3.4]\n",
      " [5.2 3.5]\n",
      " [5.2 3.4]\n",
      " [4.7 3.2]\n",
      " [4.8 3.1]\n",
      " [5.4 3.4]\n",
      " [5.2 4.1]\n",
      " [5.5 4.2]\n",
      " [4.9 3.1]\n",
      " [5.  3.2]\n",
      " [5.5 3.5]\n",
      " [4.9 3.6]\n",
      " [4.4 3. ]\n",
      " [5.1 3.4]\n",
      " [5.  3.5]\n",
      " [4.5 2.3]\n",
      " [4.4 3.2]\n",
      " [5.  3.5]\n",
      " [5.1 3.8]\n",
      " [4.8 3. ]\n",
      " [5.1 3.8]\n",
      " [4.6 3.2]\n",
      " [5.3 3.7]\n",
      " [5.  3.3]\n",
      " [7.  3.2]\n",
      " [6.4 3.2]\n",
      " [6.9 3.1]\n",
      " [5.5 2.3]\n",
      " [6.5 2.8]\n",
      " [5.7 2.8]\n",
      " [6.3 3.3]\n",
      " [4.9 2.4]\n",
      " [6.6 2.9]\n",
      " [5.2 2.7]\n",
      " [5.  2. ]\n",
      " [5.9 3. ]\n",
      " [6.  2.2]\n",
      " [6.1 2.9]\n",
      " [5.6 2.9]\n",
      " [6.7 3.1]\n",
      " [5.6 3. ]\n",
      " [5.8 2.7]\n",
      " [6.2 2.2]\n",
      " [5.6 2.5]\n",
      " [5.9 3.2]\n",
      " [6.1 2.8]\n",
      " [6.3 2.5]\n",
      " [6.1 2.8]\n",
      " [6.4 2.9]\n",
      " [6.6 3. ]\n",
      " [6.8 2.8]\n",
      " [6.7 3. ]\n",
      " [6.  2.9]\n",
      " [5.7 2.6]\n",
      " [5.5 2.4]\n",
      " [5.5 2.4]\n",
      " [5.8 2.7]\n",
      " [6.  2.7]\n",
      " [5.4 3. ]\n",
      " [6.  3.4]\n",
      " [6.7 3.1]\n",
      " [6.3 2.3]\n",
      " [5.6 3. ]\n",
      " [5.5 2.5]\n",
      " [5.5 2.6]\n",
      " [6.1 3. ]\n",
      " [5.8 2.6]\n",
      " [5.  2.3]\n",
      " [5.6 2.7]\n",
      " [5.7 3. ]\n",
      " [5.7 2.9]\n",
      " [6.2 2.9]\n",
      " [5.1 2.5]\n",
      " [5.7 2.8]\n",
      " [6.3 3.3]\n",
      " [5.8 2.7]\n",
      " [7.1 3. ]\n",
      " [6.3 2.9]\n",
      " [6.5 3. ]\n",
      " [7.6 3. ]\n",
      " [4.9 2.5]\n",
      " [7.3 2.9]\n",
      " [6.7 2.5]\n",
      " [7.2 3.6]\n",
      " [6.5 3.2]\n",
      " [6.4 2.7]\n",
      " [6.8 3. ]\n",
      " [5.7 2.5]\n",
      " [5.8 2.8]\n",
      " [6.4 3.2]\n",
      " [6.5 3. ]\n",
      " [7.7 3.8]\n",
      " [7.7 2.6]\n",
      " [6.  2.2]\n",
      " [6.9 3.2]\n",
      " [5.6 2.8]\n",
      " [7.7 2.8]\n",
      " [6.3 2.7]\n",
      " [6.7 3.3]\n",
      " [7.2 3.2]\n",
      " [6.2 2.8]\n",
      " [6.1 3. ]\n",
      " [6.4 2.8]\n",
      " [7.2 3. ]\n",
      " [7.4 2.8]\n",
      " [7.9 3.8]\n",
      " [6.4 2.8]\n",
      " [6.3 2.8]\n",
      " [6.1 2.6]\n",
      " [7.7 3. ]\n",
      " [6.3 3.4]\n",
      " [6.4 3.1]\n",
      " [6.  3. ]\n",
      " [6.9 3.1]\n",
      " [6.7 3.1]\n",
      " [6.9 3.1]\n",
      " [5.8 2.7]\n",
      " [6.8 3.2]\n",
      " [6.7 3.3]\n",
      " [6.7 3. ]\n",
      " [6.3 2.5]\n",
      " [6.5 3. ]\n",
      " [6.2 3.4]\n",
      " [5.9 3. ]]\n"
     ]
    }
   ],
   "source": [
    "x1 = iris.data[:,0:2]  # 4개를 다 쓰지 않고, 2개로만 보겠다... 당연히 성능이 떨어지겠지\n",
    "print(x1)"
   ]
  },
  {
   "cell_type": "code",
   "execution_count": 217,
   "metadata": {
    "scrolled": true
   },
   "outputs": [
    {
     "data": {
      "text/plain": [
       "LogisticRegression(C=1.0, class_weight=None, dual=False, fit_intercept=True,\n",
       "                   intercept_scaling=1, l1_ratio=None, max_iter=100,\n",
       "                   multi_class='auto', n_jobs=None, penalty='l2',\n",
       "                   random_state=None, solver='lbfgs', tol=0.0001, verbose=0,\n",
       "                   warm_start=False)"
      ]
     },
     "execution_count": 217,
     "metadata": {},
     "output_type": "execute_result"
    }
   ],
   "source": [
    "log_reg.fit(x1,y)"
   ]
  },
  {
   "cell_type": "code",
   "execution_count": 218,
   "metadata": {},
   "outputs": [
    {
     "data": {
      "text/plain": [
       "0.82"
      ]
     },
     "execution_count": 218,
     "metadata": {},
     "output_type": "execute_result"
    }
   ],
   "source": [
    "# 당연히 데이터 2개로 예측했으니 성능이, 데이터4개일때 (97%)보다 떨어짐\n",
    "np.mean(log_reg.predict(x1) == y) "
   ]
  },
  {
   "cell_type": "code",
   "execution_count": 219,
   "metadata": {
    "scrolled": true
   },
   "outputs": [
    {
     "data": {
      "text/plain": [
       "array([[0.92347315, 0.0585081 , 0.01801875],\n",
       "       [0.791565  , 0.18091265, 0.02752235],\n",
       "       [0.94236404, 0.05086345, 0.00677251],\n",
       "       [0.94055354, 0.05375943, 0.00568703],\n",
       "       [0.96185313, 0.02961439, 0.00853248],\n",
       "       [0.94319577, 0.03408792, 0.0227163 ],\n",
       "       [0.98022854, 0.01741711, 0.00235435],\n",
       "       [0.92292734, 0.06192176, 0.01515091],\n",
       "       [0.93599898, 0.05999495, 0.00400607],\n",
       "       [0.84718171, 0.13116503, 0.02165325]])"
      ]
     },
     "execution_count": 219,
     "metadata": {},
     "output_type": "execute_result"
    }
   ],
   "source": [
    "log_reg.predict_proba(x1[0:10])"
   ]
  },
  {
   "cell_type": "code",
   "execution_count": 230,
   "metadata": {},
   "outputs": [
    {
     "data": {
      "text/plain": [
       "<matplotlib.collections.PathCollection at 0x206bbe0e1c8>"
      ]
     },
     "execution_count": 230,
     "metadata": {},
     "output_type": "execute_result"
    }
   ],
   "source": [
    "xx, yy = np.mgrid[0:10:0.2, 0:10:0.2]\n",
    "grid = np.c_[xx.flatten(), yy.flatten()]\n",
    "\n",
    "p = log_reg.predict(grid) \n",
    "\n",
    "#가상데이터\n",
    "d = ['red', 'blue', 'green']\n",
    "# i가 0이면 red, i가 1 이면  blue, i가 2면  green\n",
    "colors = [d[i]  for i  in p   ]    # ASK!!!  왜 p 를 쓴 것인가..?\n",
    "#원본데이터\n",
    "plt.scatter(xx.flatten(), yy.flatten(), color = colors, alpha=0.2)\n",
    "\n",
    "colors = [d[i]  for i  in y   ]\n",
    "plt.scatter(x[:,0], x[:,1], color=colors)"
   ]
  },
  {
   "cell_type": "code",
   "execution_count": 224,
   "metadata": {},
   "outputs": [
    {
     "data": {
      "text/plain": [
       "array([0, 0, 0, ..., 2, 0, 0])"
      ]
     },
     "execution_count": 224,
     "metadata": {},
     "output_type": "execute_result"
    }
   ],
   "source": []
  },
  {
   "cell_type": "code",
   "execution_count": null,
   "metadata": {},
   "outputs": [],
   "source": []
  }
 ],
 "metadata": {
  "kernelspec": {
   "display_name": "Python 3",
   "language": "python",
   "name": "python3"
  },
  "language_info": {
   "codemirror_mode": {
    "name": "ipython",
    "version": 3
   },
   "file_extension": ".py",
   "mimetype": "text/x-python",
   "name": "python",
   "nbconvert_exporter": "python",
   "pygments_lexer": "ipython3",
   "version": "3.7.6"
  },
  "toc": {
   "base_numbering": 1,
   "nav_menu": {},
   "number_sections": false,
   "sideBar": true,
   "skip_h1_title": false,
   "title_cell": "Table of Contents",
   "title_sidebar": "Contents",
   "toc_cell": false,
   "toc_position": {},
   "toc_section_display": true,
   "toc_window_display": false
  }
 },
 "nbformat": 4,
 "nbformat_minor": 4
}
