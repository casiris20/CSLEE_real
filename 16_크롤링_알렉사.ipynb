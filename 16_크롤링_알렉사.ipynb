{
 "cells": [
  {
   "cell_type": "markdown",
   "metadata": {},
   "source": [
    "# 크롤링 순서\n",
    "\n",
    "1. import\n",
    "2. url을 보내고 html문서를 request(요청)\n",
    "3. html을 받음\n",
    "4. html을 BeautifulSoup 파싱\n",
    "5. 내가 찾고 싶은 값을 찾음(select, find, findAll) --> 리스트 형태\n",
    "6. 리스트의 개별 아이템을 전처리(strip(), upper(), lower(), split()....)\n",
    "7. (데이터 프레임으로 변환)\n",
    "8. 저장(txt, excel, csv)"
   ]
  },
  {
   "cell_type": "code",
   "execution_count": 1,
   "metadata": {},
   "outputs": [],
   "source": [
    "import requests   \n",
    "from bs4 import BeautifulSoup  \n",
    "\n",
    "url = \"https://www.alexa.com/topsites/countries/KR\" "
   ]
  },
  {
   "cell_type": "code",
   "execution_count": 2,
   "metadata": {},
   "outputs": [],
   "source": [
    "html_website_ranking = requests.get(url).text"
   ]
  },
  {
   "cell_type": "code",
   "execution_count": 3,
   "metadata": {},
   "outputs": [],
   "source": [
    " \n",
    "soup_website_ranking = BeautifulSoup(html_website_ranking, \"lxml\")"
   ]
  },
  {
   "cell_type": "code",
   "execution_count": null,
   "metadata": {},
   "outputs": [],
   "source": []
  },
  {
   "cell_type": "code",
   "execution_count": 5,
   "metadata": {},
   "outputs": [
    {
     "data": {
      "text/plain": [
       "[<a href=\"https://support.alexa.com/hc/en-us/articles/200444340\" target=\"_blank\">this explanation</a>,\n",
       " <a href=\"/siteinfo/google.com\">Google.com</a>,\n",
       " <a href=\"/siteinfo/naver.com\">Naver.com</a>,\n",
       " <a href=\"/siteinfo/youtube.com\">Youtube.com</a>,\n",
       " <a href=\"/siteinfo/daum.net\">Daum.net</a>,\n",
       " <a href=\"/siteinfo/tmall.com\">Tmall.com</a>]"
      ]
     },
     "execution_count": 5,
     "metadata": {},
     "output_type": "execute_result"
    }
   ],
   "source": [
    "#p 태그의 요소 안에서 a 태그의 요소를 찾음 \n",
    "website_ranking = soup_website_ranking.select('p a') \n",
    "website_ranking[0:6] "
   ]
  },
  {
   "cell_type": "code",
   "execution_count": 6,
   "metadata": {},
   "outputs": [
    {
     "data": {
      "text/plain": [
       "'this explanation'"
      ]
     },
     "execution_count": 6,
     "metadata": {},
     "output_type": "execute_result"
    }
   ],
   "source": [
    "website_ranking[0].get_text() "
   ]
  },
  {
   "cell_type": "code",
   "execution_count": 18,
   "metadata": {},
   "outputs": [
    {
     "name": "stdout",
     "output_type": "stream",
     "text": [
      "this explanation\n",
      "Google.com\n",
      "Naver.com\n",
      "Youtube.com\n",
      "Daum.net\n",
      "Tmall.com\n",
      "Tistory.com\n",
      "Google.co.kr\n",
      "Sohu.com\n",
      "Kakao.com\n",
      "Qq.com\n",
      "Login.tmall.com\n",
      "Facebook.com\n",
      "Taobao.com\n",
      "Wikipedia.org\n",
      "Amazon.com\n",
      "Jd.com\n",
      "360.cn\n",
      "Namu.wiki\n",
      "Netflix.com\n",
      "Coupang.com\n",
      "Baidu.com\n",
      "Pages.tmall.com\n",
      "Yahoo.com\n",
      "Microsoft.com\n",
      "Weibo.com\n",
      "Sina.com.cn\n",
      "Dcinside.com\n",
      "Bing.com\n",
      "Twitch.tv\n",
      "Apple.com\n",
      "Donga.com\n",
      "Office.com\n",
      "Gmarket.co.kr\n",
      "Adobe.com\n",
      "Stackoverflow.com\n",
      "11st.co.kr\n",
      "Ebay.com\n",
      "Amazon.co.uk\n",
      "Ruliweb.com\n",
      "Dropbox.com\n",
      "Nate.com\n",
      "Theepochtimes.com\n",
      "Amazon.co.jp\n",
      "Instagram.com\n",
      "Msn.com\n",
      "Spotify.com\n",
      "Bbc.com\n",
      "Auction.co.kr\n",
      "Nytimes.com\n",
      "Soundcloud.com\n"
     ]
    }
   ],
   "source": [
    "website_ranking_address = []\n",
    "for element in website_ranking :\n",
    "    print(element.get_text()) \n",
    "    \n",
    "    website_ranking_address.append(element.get_text())"
   ]
  },
  {
   "cell_type": "code",
   "execution_count": 19,
   "metadata": {},
   "outputs": [],
   "source": [
    "website_ranking_address = [website_ranking_element.get_text() for website_ranking_element in  \n",
    "website_ranking] "
   ]
  },
  {
   "cell_type": "code",
   "execution_count": 21,
   "metadata": {},
   "outputs": [],
   "source": [
    "del website_ranking_address[0]"
   ]
  },
  {
   "cell_type": "code",
   "execution_count": 22,
   "metadata": {},
   "outputs": [
    {
     "data": {
      "text/plain": [
       "['Google.com',\n",
       " 'Naver.com',\n",
       " 'Youtube.com',\n",
       " 'Daum.net',\n",
       " 'Tmall.com',\n",
       " 'Tistory.com']"
      ]
     },
     "execution_count": 22,
     "metadata": {},
     "output_type": "execute_result"
    }
   ],
   "source": [
    "website_ranking_address[0:6] "
   ]
  },
  {
   "cell_type": "code",
   "execution_count": 23,
   "metadata": {},
   "outputs": [
    {
     "name": "stdout",
     "output_type": "stream",
     "text": [
      "[Top Sites in South Korea]\n"
     ]
    }
   ],
   "source": [
    "print(\"[Top Sites in South Korea]\") "
   ]
  },
  {
   "cell_type": "code",
   "execution_count": 25,
   "metadata": {},
   "outputs": [
    {
     "name": "stdout",
     "output_type": "stream",
     "text": [
      "1: Google.com\n",
      "2: Naver.com\n",
      "3: Youtube.com\n",
      "4: Daum.net\n",
      "5: Tmall.com\n",
      "6: Tistory.com\n"
     ]
    }
   ],
   "source": [
    "for k in range(6): \n",
    "    print(\"{0}: {1}\".format(k+1, website_ranking_address[k])) "
   ]
  },
  {
   "cell_type": "code",
   "execution_count": 26,
   "metadata": {},
   "outputs": [
    {
     "data": {
      "text/html": [
       "<div>\n",
       "<style scoped>\n",
       "    .dataframe tbody tr th:only-of-type {\n",
       "        vertical-align: middle;\n",
       "    }\n",
       "\n",
       "    .dataframe tbody tr th {\n",
       "        vertical-align: top;\n",
       "    }\n",
       "\n",
       "    .dataframe thead th {\n",
       "        text-align: right;\n",
       "    }\n",
       "</style>\n",
       "<table border=\"1\" class=\"dataframe\">\n",
       "  <thead>\n",
       "    <tr style=\"text-align: right;\">\n",
       "      <th></th>\n",
       "      <th>Website</th>\n",
       "    </tr>\n",
       "  </thead>\n",
       "  <tbody>\n",
       "    <tr>\n",
       "      <th>1</th>\n",
       "      <td>Google.com</td>\n",
       "    </tr>\n",
       "    <tr>\n",
       "      <th>2</th>\n",
       "      <td>Naver.com</td>\n",
       "    </tr>\n",
       "    <tr>\n",
       "      <th>3</th>\n",
       "      <td>Youtube.com</td>\n",
       "    </tr>\n",
       "    <tr>\n",
       "      <th>4</th>\n",
       "      <td>Daum.net</td>\n",
       "    </tr>\n",
       "    <tr>\n",
       "      <th>5</th>\n",
       "      <td>Tmall.com</td>\n",
       "    </tr>\n",
       "    <tr>\n",
       "      <th>6</th>\n",
       "      <td>Tistory.com</td>\n",
       "    </tr>\n",
       "  </tbody>\n",
       "</table>\n",
       "</div>"
      ],
      "text/plain": [
       "       Website\n",
       "1   Google.com\n",
       "2    Naver.com\n",
       "3  Youtube.com\n",
       "4     Daum.net\n",
       "5    Tmall.com\n",
       "6  Tistory.com"
      ]
     },
     "execution_count": 26,
     "metadata": {},
     "output_type": "execute_result"
    }
   ],
   "source": [
    "import pandas as pd \n",
    "\n",
    "website_ranking_dict = {'Website': website_ranking_address} \n",
    "df = pd.DataFrame(website_ranking_dict, columns=['Website'],   \n",
    "index=range(1,len(website_ranking_address)+1)) \n",
    "df[0:6] "
   ]
  },
  {
   "cell_type": "code",
   "execution_count": null,
   "metadata": {},
   "outputs": [],
   "source": []
  }
 ],
 "metadata": {
  "kernelspec": {
   "display_name": "Python 3",
   "language": "python",
   "name": "python3"
  },
  "language_info": {
   "codemirror_mode": {
    "name": "ipython",
    "version": 3
   },
   "file_extension": ".py",
   "mimetype": "text/x-python",
   "name": "python",
   "nbconvert_exporter": "python",
   "pygments_lexer": "ipython3",
   "version": "3.7.6"
  },
  "toc": {
   "base_numbering": 1,
   "nav_menu": {},
   "number_sections": false,
   "sideBar": true,
   "skip_h1_title": false,
   "title_cell": "Table of Contents",
   "title_sidebar": "Contents",
   "toc_cell": false,
   "toc_position": {},
   "toc_section_display": true,
   "toc_window_display": false
  }
 },
 "nbformat": 4,
 "nbformat_minor": 4
}
